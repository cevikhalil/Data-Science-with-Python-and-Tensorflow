{
  "nbformat": 4,
  "nbformat_minor": 0,
  "metadata": {
    "colab": {
      "name": "18-Pandas.ipynb",
      "provenance": [],
      "collapsed_sections": [
        "xtlzZWBmx-Ps",
        "ByNSBqY20OqG",
        "1D2YtdfUxbrS",
        "aW--ibjd7h8-",
        "BU6-6FutADej",
        "wNT0h3EaCQL0",
        "w5p0cEy8r1qu",
        "0tC3Yrrmt9k1"
      ],
      "authorship_tag": "ABX9TyNM2CBfLjswR3AmrwdCcCIN",
      "include_colab_link": true
    },
    "kernelspec": {
      "name": "python3",
      "display_name": "Python 3"
    }
  },
  "cells": [
    {
      "cell_type": "markdown",
      "metadata": {
        "id": "view-in-github",
        "colab_type": "text"
      },
      "source": [
        "<a href=\"https://colab.research.google.com/github/cevikhalil/Data-Science-with-Python-and-Tensorflow/blob/main/18_Pandas.ipynb\" target=\"_parent\"><img src=\"https://colab.research.google.com/assets/colab-badge.svg\" alt=\"Open In Colab\"/></a>"
      ]
    },
    {
      "cell_type": "code",
      "metadata": {
        "id": "LavJFefcxskj"
      },
      "source": [
        "import numpy as np\n",
        "import pandas as pd"
      ],
      "execution_count": 2,
      "outputs": []
    },
    {
      "cell_type": "markdown",
      "metadata": {
        "id": "xtlzZWBmx-Ps"
      },
      "source": [
        "## Series"
      ]
    },
    {
      "cell_type": "code",
      "metadata": {
        "id": "FhcM8Oynx_Z7",
        "outputId": "0539dffb-44a6-494d-ff99-d17a45c6f4ab",
        "colab": {
          "base_uri": "https://localhost:8080/"
        }
      },
      "source": [
        "myDict = {\"Daniel\" : 23, \"Emma\" : 24, \"Tom\" :25}\n",
        "pd.Series(myDict)"
      ],
      "execution_count": 39,
      "outputs": [
        {
          "output_type": "execute_result",
          "data": {
            "text/plain": [
              "Daniel    23\n",
              "Emma      24\n",
              "Tom       25\n",
              "dtype: int64"
            ]
          },
          "metadata": {
            "tags": []
          },
          "execution_count": 39
        }
      ]
    },
    {
      "cell_type": "code",
      "metadata": {
        "id": "Fj4sE_spzWcz",
        "outputId": "2888de43-35b8-407d-b609-054fba359dde",
        "colab": {
          "base_uri": "https://localhost:8080/"
        }
      },
      "source": [
        "print(\"IMDB TOP250\\n\")\n",
        "rating = pd.Series([9.2, 9.1,9.0],\n",
        "                   [\"The Shawshank Redemption:\",\"The Godfather:\",\"The Godfather II:\"])\n",
        "print(rating)"
      ],
      "execution_count": 40,
      "outputs": [
        {
          "output_type": "stream",
          "text": [
            "IMDB TOP250\n",
            "\n",
            "The Shawshank Redemption:    9.2\n",
            "The Godfather:               9.1\n",
            "The Godfather II:            9.0\n",
            "dtype: float64\n"
          ],
          "name": "stdout"
        }
      ]
    },
    {
      "cell_type": "markdown",
      "metadata": {
        "id": "ByNSBqY20OqG"
      },
      "source": [
        "## Data Frame"
      ]
    },
    {
      "cell_type": "code",
      "metadata": {
        "id": "axx-3C3s0Xs7",
        "outputId": "83739a6d-dfe8-4987-938d-dcb7cc93c2b8",
        "colab": {
          "base_uri": "https://localhost:8080/"
        }
      },
      "source": [
        "data = np.random.randn(4,3)\n",
        "data"
      ],
      "execution_count": 41,
      "outputs": [
        {
          "output_type": "execute_result",
          "data": {
            "text/plain": [
              "array([[-1.04166929,  0.46830796, -0.64495156],\n",
              "       [ 0.35326441, -1.11781197,  1.47052813],\n",
              "       [ 0.06128664,  0.64799403, -1.10629135],\n",
              "       [-0.8279819 ,  0.45248397, -0.69240345]])"
            ]
          },
          "metadata": {
            "tags": []
          },
          "execution_count": 41
        }
      ]
    },
    {
      "cell_type": "code",
      "metadata": {
        "id": "VfSyMSBq02td",
        "outputId": "4963fa18-2776-48d4-c1c1-de4fa2bcd6d7",
        "colab": {
          "base_uri": "https://localhost:8080/",
          "height": 166
        }
      },
      "source": [
        "dataFrame = pd.DataFrame(data, \n",
        "                         index=[\"Mildred\",\"John\",\"Lea\",\"Michel\"],\n",
        "                         columns=[\"Salary\",\"Age\",\"Profession\"])\n",
        "dataFrame"
      ],
      "execution_count": 42,
      "outputs": [
        {
          "output_type": "execute_result",
          "data": {
            "text/html": [
              "<div>\n",
              "<style scoped>\n",
              "    .dataframe tbody tr th:only-of-type {\n",
              "        vertical-align: middle;\n",
              "    }\n",
              "\n",
              "    .dataframe tbody tr th {\n",
              "        vertical-align: top;\n",
              "    }\n",
              "\n",
              "    .dataframe thead th {\n",
              "        text-align: right;\n",
              "    }\n",
              "</style>\n",
              "<table border=\"1\" class=\"dataframe\">\n",
              "  <thead>\n",
              "    <tr style=\"text-align: right;\">\n",
              "      <th></th>\n",
              "      <th>Salary</th>\n",
              "      <th>Age</th>\n",
              "      <th>Profession</th>\n",
              "    </tr>\n",
              "  </thead>\n",
              "  <tbody>\n",
              "    <tr>\n",
              "      <th>Mildred</th>\n",
              "      <td>-1.041669</td>\n",
              "      <td>0.468308</td>\n",
              "      <td>-0.644952</td>\n",
              "    </tr>\n",
              "    <tr>\n",
              "      <th>John</th>\n",
              "      <td>0.353264</td>\n",
              "      <td>-1.117812</td>\n",
              "      <td>1.470528</td>\n",
              "    </tr>\n",
              "    <tr>\n",
              "      <th>Lea</th>\n",
              "      <td>0.061287</td>\n",
              "      <td>0.647994</td>\n",
              "      <td>-1.106291</td>\n",
              "    </tr>\n",
              "    <tr>\n",
              "      <th>Michel</th>\n",
              "      <td>-0.827982</td>\n",
              "      <td>0.452484</td>\n",
              "      <td>-0.692403</td>\n",
              "    </tr>\n",
              "  </tbody>\n",
              "</table>\n",
              "</div>"
            ],
            "text/plain": [
              "           Salary       Age  Profession\n",
              "Mildred -1.041669  0.468308   -0.644952\n",
              "John     0.353264 -1.117812    1.470528\n",
              "Lea      0.061287  0.647994   -1.106291\n",
              "Michel  -0.827982  0.452484   -0.692403"
            ]
          },
          "metadata": {
            "tags": []
          },
          "execution_count": 42
        }
      ]
    },
    {
      "cell_type": "code",
      "metadata": {
        "id": "9LKsxRVlojSZ",
        "outputId": "dcd86f49-024e-4ae4-b105-343aa5e8819d",
        "colab": {
          "base_uri": "https://localhost:8080/",
          "height": 166
        }
      },
      "source": [
        "dataFrame[[\"Age\",\"Profession\"]]"
      ],
      "execution_count": 43,
      "outputs": [
        {
          "output_type": "execute_result",
          "data": {
            "text/html": [
              "<div>\n",
              "<style scoped>\n",
              "    .dataframe tbody tr th:only-of-type {\n",
              "        vertical-align: middle;\n",
              "    }\n",
              "\n",
              "    .dataframe tbody tr th {\n",
              "        vertical-align: top;\n",
              "    }\n",
              "\n",
              "    .dataframe thead th {\n",
              "        text-align: right;\n",
              "    }\n",
              "</style>\n",
              "<table border=\"1\" class=\"dataframe\">\n",
              "  <thead>\n",
              "    <tr style=\"text-align: right;\">\n",
              "      <th></th>\n",
              "      <th>Age</th>\n",
              "      <th>Profession</th>\n",
              "    </tr>\n",
              "  </thead>\n",
              "  <tbody>\n",
              "    <tr>\n",
              "      <th>Mildred</th>\n",
              "      <td>0.468308</td>\n",
              "      <td>-0.644952</td>\n",
              "    </tr>\n",
              "    <tr>\n",
              "      <th>John</th>\n",
              "      <td>-1.117812</td>\n",
              "      <td>1.470528</td>\n",
              "    </tr>\n",
              "    <tr>\n",
              "      <th>Lea</th>\n",
              "      <td>0.647994</td>\n",
              "      <td>-1.106291</td>\n",
              "    </tr>\n",
              "    <tr>\n",
              "      <th>Michel</th>\n",
              "      <td>0.452484</td>\n",
              "      <td>-0.692403</td>\n",
              "    </tr>\n",
              "  </tbody>\n",
              "</table>\n",
              "</div>"
            ],
            "text/plain": [
              "              Age  Profession\n",
              "Mildred  0.468308   -0.644952\n",
              "John    -1.117812    1.470528\n",
              "Lea      0.647994   -1.106291\n",
              "Michel   0.452484   -0.692403"
            ]
          },
          "metadata": {
            "tags": []
          },
          "execution_count": 43
        }
      ]
    },
    {
      "cell_type": "code",
      "metadata": {
        "id": "ehl2hBhzox-e",
        "outputId": "f664dcfd-f99a-4691-d985-dc148e89fdd3",
        "colab": {
          "base_uri": "https://localhost:8080/"
        }
      },
      "source": [
        "dataFrame.loc[\"Lea\"]"
      ],
      "execution_count": 44,
      "outputs": [
        {
          "output_type": "execute_result",
          "data": {
            "text/plain": [
              "Salary        0.061287\n",
              "Age           0.647994\n",
              "Profession   -1.106291\n",
              "Name: Lea, dtype: float64"
            ]
          },
          "metadata": {
            "tags": []
          },
          "execution_count": 44
        }
      ]
    },
    {
      "cell_type": "code",
      "metadata": {
        "id": "gEUyY5RRo90O",
        "outputId": "6d1f7d65-3fa8-478d-8f91-b00cd11f744d",
        "colab": {
          "base_uri": "https://localhost:8080/",
          "height": 166
        }
      },
      "source": [
        "dataFrame[\"Location\"] = \"Kentucky\"\n",
        "dataFrame"
      ],
      "execution_count": 45,
      "outputs": [
        {
          "output_type": "execute_result",
          "data": {
            "text/html": [
              "<div>\n",
              "<style scoped>\n",
              "    .dataframe tbody tr th:only-of-type {\n",
              "        vertical-align: middle;\n",
              "    }\n",
              "\n",
              "    .dataframe tbody tr th {\n",
              "        vertical-align: top;\n",
              "    }\n",
              "\n",
              "    .dataframe thead th {\n",
              "        text-align: right;\n",
              "    }\n",
              "</style>\n",
              "<table border=\"1\" class=\"dataframe\">\n",
              "  <thead>\n",
              "    <tr style=\"text-align: right;\">\n",
              "      <th></th>\n",
              "      <th>Salary</th>\n",
              "      <th>Age</th>\n",
              "      <th>Profession</th>\n",
              "      <th>Location</th>\n",
              "    </tr>\n",
              "  </thead>\n",
              "  <tbody>\n",
              "    <tr>\n",
              "      <th>Mildred</th>\n",
              "      <td>-1.041669</td>\n",
              "      <td>0.468308</td>\n",
              "      <td>-0.644952</td>\n",
              "      <td>Kentucky</td>\n",
              "    </tr>\n",
              "    <tr>\n",
              "      <th>John</th>\n",
              "      <td>0.353264</td>\n",
              "      <td>-1.117812</td>\n",
              "      <td>1.470528</td>\n",
              "      <td>Kentucky</td>\n",
              "    </tr>\n",
              "    <tr>\n",
              "      <th>Lea</th>\n",
              "      <td>0.061287</td>\n",
              "      <td>0.647994</td>\n",
              "      <td>-1.106291</td>\n",
              "      <td>Kentucky</td>\n",
              "    </tr>\n",
              "    <tr>\n",
              "      <th>Michel</th>\n",
              "      <td>-0.827982</td>\n",
              "      <td>0.452484</td>\n",
              "      <td>-0.692403</td>\n",
              "      <td>Kentucky</td>\n",
              "    </tr>\n",
              "  </tbody>\n",
              "</table>\n",
              "</div>"
            ],
            "text/plain": [
              "           Salary       Age  Profession  Location\n",
              "Mildred -1.041669  0.468308   -0.644952  Kentucky\n",
              "John     0.353264 -1.117812    1.470528  Kentucky\n",
              "Lea      0.061287  0.647994   -1.106291  Kentucky\n",
              "Michel  -0.827982  0.452484   -0.692403  Kentucky"
            ]
          },
          "metadata": {
            "tags": []
          },
          "execution_count": 45
        }
      ]
    },
    {
      "cell_type": "code",
      "metadata": {
        "id": "Auxdgd7fqVrv",
        "outputId": "0af87bfe-8a36-4a66-84f0-e576e0a43da0",
        "colab": {
          "base_uri": "https://localhost:8080/",
          "height": 166
        }
      },
      "source": [
        "dataFrame.drop(['Profession'], axis=1)"
      ],
      "execution_count": 48,
      "outputs": [
        {
          "output_type": "execute_result",
          "data": {
            "text/html": [
              "<div>\n",
              "<style scoped>\n",
              "    .dataframe tbody tr th:only-of-type {\n",
              "        vertical-align: middle;\n",
              "    }\n",
              "\n",
              "    .dataframe tbody tr th {\n",
              "        vertical-align: top;\n",
              "    }\n",
              "\n",
              "    .dataframe thead th {\n",
              "        text-align: right;\n",
              "    }\n",
              "</style>\n",
              "<table border=\"1\" class=\"dataframe\">\n",
              "  <thead>\n",
              "    <tr style=\"text-align: right;\">\n",
              "      <th></th>\n",
              "      <th>Salary</th>\n",
              "      <th>Age</th>\n",
              "      <th>Location</th>\n",
              "    </tr>\n",
              "  </thead>\n",
              "  <tbody>\n",
              "    <tr>\n",
              "      <th>Mildred</th>\n",
              "      <td>-1.041669</td>\n",
              "      <td>0.468308</td>\n",
              "      <td>Kentucky</td>\n",
              "    </tr>\n",
              "    <tr>\n",
              "      <th>John</th>\n",
              "      <td>0.353264</td>\n",
              "      <td>-1.117812</td>\n",
              "      <td>Kentucky</td>\n",
              "    </tr>\n",
              "    <tr>\n",
              "      <th>Lea</th>\n",
              "      <td>0.061287</td>\n",
              "      <td>0.647994</td>\n",
              "      <td>Kentucky</td>\n",
              "    </tr>\n",
              "    <tr>\n",
              "      <th>Michel</th>\n",
              "      <td>-0.827982</td>\n",
              "      <td>0.452484</td>\n",
              "      <td>Kentucky</td>\n",
              "    </tr>\n",
              "  </tbody>\n",
              "</table>\n",
              "</div>"
            ],
            "text/plain": [
              "           Salary       Age  Location\n",
              "Mildred -1.041669  0.468308  Kentucky\n",
              "John     0.353264 -1.117812  Kentucky\n",
              "Lea      0.061287  0.647994  Kentucky\n",
              "Michel  -0.827982  0.452484  Kentucky"
            ]
          },
          "metadata": {
            "tags": []
          },
          "execution_count": 48
        }
      ]
    },
    {
      "cell_type": "code",
      "metadata": {
        "id": "pdBIqBRUrOn2",
        "outputId": "bb83af0e-4d8c-463c-da61-eab2280e41d9",
        "colab": {
          "base_uri": "https://localhost:8080/",
          "height": 166
        }
      },
      "source": [
        "dataFrame.drop(columns=['Location'])"
      ],
      "execution_count": 53,
      "outputs": [
        {
          "output_type": "execute_result",
          "data": {
            "text/html": [
              "<div>\n",
              "<style scoped>\n",
              "    .dataframe tbody tr th:only-of-type {\n",
              "        vertical-align: middle;\n",
              "    }\n",
              "\n",
              "    .dataframe tbody tr th {\n",
              "        vertical-align: top;\n",
              "    }\n",
              "\n",
              "    .dataframe thead th {\n",
              "        text-align: right;\n",
              "    }\n",
              "</style>\n",
              "<table border=\"1\" class=\"dataframe\">\n",
              "  <thead>\n",
              "    <tr style=\"text-align: right;\">\n",
              "      <th></th>\n",
              "      <th>Salary</th>\n",
              "      <th>Age</th>\n",
              "      <th>Profession</th>\n",
              "    </tr>\n",
              "  </thead>\n",
              "  <tbody>\n",
              "    <tr>\n",
              "      <th>Mildred</th>\n",
              "      <td>-1.041669</td>\n",
              "      <td>0.468308</td>\n",
              "      <td>-0.644952</td>\n",
              "    </tr>\n",
              "    <tr>\n",
              "      <th>John</th>\n",
              "      <td>0.353264</td>\n",
              "      <td>-1.117812</td>\n",
              "      <td>1.470528</td>\n",
              "    </tr>\n",
              "    <tr>\n",
              "      <th>Lea</th>\n",
              "      <td>0.061287</td>\n",
              "      <td>0.647994</td>\n",
              "      <td>-1.106291</td>\n",
              "    </tr>\n",
              "    <tr>\n",
              "      <th>Michel</th>\n",
              "      <td>-0.827982</td>\n",
              "      <td>0.452484</td>\n",
              "      <td>-0.692403</td>\n",
              "    </tr>\n",
              "  </tbody>\n",
              "</table>\n",
              "</div>"
            ],
            "text/plain": [
              "           Salary       Age  Profession\n",
              "Mildred -1.041669  0.468308   -0.644952\n",
              "John     0.353264 -1.117812    1.470528\n",
              "Lea      0.061287  0.647994   -1.106291\n",
              "Michel  -0.827982  0.452484   -0.692403"
            ]
          },
          "metadata": {
            "tags": []
          },
          "execution_count": 53
        }
      ]
    },
    {
      "cell_type": "code",
      "metadata": {
        "id": "jSIBniGZrb4l",
        "outputId": "797956d6-1f05-4b3c-f3d6-8e6623f45aea",
        "colab": {
          "base_uri": "https://localhost:8080/"
        }
      },
      "source": [
        "dataFrame.loc[\"Lea\"]"
      ],
      "execution_count": 56,
      "outputs": [
        {
          "output_type": "execute_result",
          "data": {
            "text/plain": [
              "Salary        0.0612866\n",
              "Age            0.647994\n",
              "Profession     -1.10629\n",
              "Location       Kentucky\n",
              "Name: Lea, dtype: object"
            ]
          },
          "metadata": {
            "tags": []
          },
          "execution_count": 56
        }
      ]
    },
    {
      "cell_type": "code",
      "metadata": {
        "id": "OfT0PHPSsI2Y",
        "outputId": "f52478df-a826-4b21-9d3f-8197e29ab91a",
        "colab": {
          "base_uri": "https://localhost:8080/"
        }
      },
      "source": [
        "dataFrame.loc[\"Lea\",\"Age\"]"
      ],
      "execution_count": 58,
      "outputs": [
        {
          "output_type": "execute_result",
          "data": {
            "text/plain": [
              "0.6479940320523023"
            ]
          },
          "metadata": {
            "tags": []
          },
          "execution_count": 58
        }
      ]
    },
    {
      "cell_type": "markdown",
      "metadata": {
        "id": "1D2YtdfUxbrS"
      },
      "source": [
        "## Operations"
      ]
    },
    {
      "cell_type": "code",
      "metadata": {
        "id": "8d6Md_j3xdOD",
        "outputId": "19074d93-d849-4aba-d100-52c747844315",
        "colab": {
          "base_uri": "https://localhost:8080/",
          "height": 136
        }
      },
      "source": [
        "dictData = {\"İstanbul\" : [30,29,np.nan],\n",
        "            \"Ankara\" : [20,np.nan,25],\n",
        "            \"İzmir\" : [40,39,38]}\n",
        "weatherDataFrame = pd.DataFrame(dictData)\n",
        "weatherDataFrame"
      ],
      "execution_count": 71,
      "outputs": [
        {
          "output_type": "execute_result",
          "data": {
            "text/html": [
              "<div>\n",
              "<style scoped>\n",
              "    .dataframe tbody tr th:only-of-type {\n",
              "        vertical-align: middle;\n",
              "    }\n",
              "\n",
              "    .dataframe tbody tr th {\n",
              "        vertical-align: top;\n",
              "    }\n",
              "\n",
              "    .dataframe thead th {\n",
              "        text-align: right;\n",
              "    }\n",
              "</style>\n",
              "<table border=\"1\" class=\"dataframe\">\n",
              "  <thead>\n",
              "    <tr style=\"text-align: right;\">\n",
              "      <th></th>\n",
              "      <th>İstanbul</th>\n",
              "      <th>Ankara</th>\n",
              "      <th>İzmir</th>\n",
              "    </tr>\n",
              "  </thead>\n",
              "  <tbody>\n",
              "    <tr>\n",
              "      <th>0</th>\n",
              "      <td>30.0</td>\n",
              "      <td>20.0</td>\n",
              "      <td>40</td>\n",
              "    </tr>\n",
              "    <tr>\n",
              "      <th>1</th>\n",
              "      <td>29.0</td>\n",
              "      <td>NaN</td>\n",
              "      <td>39</td>\n",
              "    </tr>\n",
              "    <tr>\n",
              "      <th>2</th>\n",
              "      <td>NaN</td>\n",
              "      <td>25.0</td>\n",
              "      <td>38</td>\n",
              "    </tr>\n",
              "  </tbody>\n",
              "</table>\n",
              "</div>"
            ],
            "text/plain": [
              "   İstanbul  Ankara  İzmir\n",
              "0      30.0    20.0     40\n",
              "1      29.0     NaN     39\n",
              "2       NaN    25.0     38"
            ]
          },
          "metadata": {
            "tags": []
          },
          "execution_count": 71
        }
      ]
    },
    {
      "cell_type": "code",
      "metadata": {
        "id": "PJGGp8Fwz0Fi",
        "outputId": "507fde95-8eea-4963-896c-2139f4cdd690",
        "colab": {
          "base_uri": "https://localhost:8080/",
          "height": 77
        }
      },
      "source": [
        "weatherDataFrame.dropna() # drop NaN values (in rows)"
      ],
      "execution_count": 74,
      "outputs": [
        {
          "output_type": "execute_result",
          "data": {
            "text/html": [
              "<div>\n",
              "<style scoped>\n",
              "    .dataframe tbody tr th:only-of-type {\n",
              "        vertical-align: middle;\n",
              "    }\n",
              "\n",
              "    .dataframe tbody tr th {\n",
              "        vertical-align: top;\n",
              "    }\n",
              "\n",
              "    .dataframe thead th {\n",
              "        text-align: right;\n",
              "    }\n",
              "</style>\n",
              "<table border=\"1\" class=\"dataframe\">\n",
              "  <thead>\n",
              "    <tr style=\"text-align: right;\">\n",
              "      <th></th>\n",
              "      <th>İstanbul</th>\n",
              "      <th>Ankara</th>\n",
              "      <th>İzmir</th>\n",
              "    </tr>\n",
              "  </thead>\n",
              "  <tbody>\n",
              "    <tr>\n",
              "      <th>0</th>\n",
              "      <td>30.0</td>\n",
              "      <td>20.0</td>\n",
              "      <td>40</td>\n",
              "    </tr>\n",
              "  </tbody>\n",
              "</table>\n",
              "</div>"
            ],
            "text/plain": [
              "   İstanbul  Ankara  İzmir\n",
              "0      30.0    20.0     40"
            ]
          },
          "metadata": {
            "tags": []
          },
          "execution_count": 74
        }
      ]
    },
    {
      "cell_type": "code",
      "metadata": {
        "id": "-VikphaF0CCn",
        "outputId": "9c8b1880-c9fd-4057-eb2c-480d4ac97605",
        "colab": {
          "base_uri": "https://localhost:8080/",
          "height": 136
        }
      },
      "source": [
        "weatherDataFrame.dropna(axis=1) # drop NaN values (in columns)"
      ],
      "execution_count": 76,
      "outputs": [
        {
          "output_type": "execute_result",
          "data": {
            "text/html": [
              "<div>\n",
              "<style scoped>\n",
              "    .dataframe tbody tr th:only-of-type {\n",
              "        vertical-align: middle;\n",
              "    }\n",
              "\n",
              "    .dataframe tbody tr th {\n",
              "        vertical-align: top;\n",
              "    }\n",
              "\n",
              "    .dataframe thead th {\n",
              "        text-align: right;\n",
              "    }\n",
              "</style>\n",
              "<table border=\"1\" class=\"dataframe\">\n",
              "  <thead>\n",
              "    <tr style=\"text-align: right;\">\n",
              "      <th></th>\n",
              "      <th>İzmir</th>\n",
              "    </tr>\n",
              "  </thead>\n",
              "  <tbody>\n",
              "    <tr>\n",
              "      <th>0</th>\n",
              "      <td>40</td>\n",
              "    </tr>\n",
              "    <tr>\n",
              "      <th>1</th>\n",
              "      <td>39</td>\n",
              "    </tr>\n",
              "    <tr>\n",
              "      <th>2</th>\n",
              "      <td>38</td>\n",
              "    </tr>\n",
              "  </tbody>\n",
              "</table>\n",
              "</div>"
            ],
            "text/plain": [
              "   İzmir\n",
              "0     40\n",
              "1     39\n",
              "2     38"
            ]
          },
          "metadata": {
            "tags": []
          },
          "execution_count": 76
        }
      ]
    },
    {
      "cell_type": "code",
      "metadata": {
        "id": "A-FEdppe0MXQ",
        "outputId": "0d249c23-edfb-4cab-c585-ef1b64d6cb29",
        "colab": {
          "base_uri": "https://localhost:8080/",
          "height": 136
        }
      },
      "source": [
        "newData = {\"İstanbul\" : [30,29,np.nan],\n",
        "          \"Ankara\" : [20,np.nan,25],\n",
        "           \"İzmir\" : [40,39,38],\n",
        "           \"Antalya\" : [45,np.nan,np.nan]}\n",
        "newDataFrame = pd.DataFrame(newData)\n",
        "newDataFrame"
      ],
      "execution_count": 78,
      "outputs": [
        {
          "output_type": "execute_result",
          "data": {
            "text/html": [
              "<div>\n",
              "<style scoped>\n",
              "    .dataframe tbody tr th:only-of-type {\n",
              "        vertical-align: middle;\n",
              "    }\n",
              "\n",
              "    .dataframe tbody tr th {\n",
              "        vertical-align: top;\n",
              "    }\n",
              "\n",
              "    .dataframe thead th {\n",
              "        text-align: right;\n",
              "    }\n",
              "</style>\n",
              "<table border=\"1\" class=\"dataframe\">\n",
              "  <thead>\n",
              "    <tr style=\"text-align: right;\">\n",
              "      <th></th>\n",
              "      <th>İstanbul</th>\n",
              "      <th>Ankara</th>\n",
              "      <th>İzmir</th>\n",
              "      <th>Antalya</th>\n",
              "    </tr>\n",
              "  </thead>\n",
              "  <tbody>\n",
              "    <tr>\n",
              "      <th>0</th>\n",
              "      <td>30.0</td>\n",
              "      <td>20.0</td>\n",
              "      <td>40</td>\n",
              "      <td>45.0</td>\n",
              "    </tr>\n",
              "    <tr>\n",
              "      <th>1</th>\n",
              "      <td>29.0</td>\n",
              "      <td>NaN</td>\n",
              "      <td>39</td>\n",
              "      <td>NaN</td>\n",
              "    </tr>\n",
              "    <tr>\n",
              "      <th>2</th>\n",
              "      <td>NaN</td>\n",
              "      <td>25.0</td>\n",
              "      <td>38</td>\n",
              "      <td>NaN</td>\n",
              "    </tr>\n",
              "  </tbody>\n",
              "</table>\n",
              "</div>"
            ],
            "text/plain": [
              "   İstanbul  Ankara  İzmir  Antalya\n",
              "0      30.0    20.0     40     45.0\n",
              "1      29.0     NaN     39      NaN\n",
              "2       NaN    25.0     38      NaN"
            ]
          },
          "metadata": {
            "tags": []
          },
          "execution_count": 78
        }
      ]
    },
    {
      "cell_type": "code",
      "metadata": {
        "id": "KNmBpcrW0lq4",
        "outputId": "54a2ee8b-a215-447c-cbfd-3b678b00cfd1",
        "colab": {
          "base_uri": "https://localhost:8080/",
          "height": 136
        }
      },
      "source": [
        "newDataFrame.dropna(axis=1, thresh=2)"
      ],
      "execution_count": 81,
      "outputs": [
        {
          "output_type": "execute_result",
          "data": {
            "text/html": [
              "<div>\n",
              "<style scoped>\n",
              "    .dataframe tbody tr th:only-of-type {\n",
              "        vertical-align: middle;\n",
              "    }\n",
              "\n",
              "    .dataframe tbody tr th {\n",
              "        vertical-align: top;\n",
              "    }\n",
              "\n",
              "    .dataframe thead th {\n",
              "        text-align: right;\n",
              "    }\n",
              "</style>\n",
              "<table border=\"1\" class=\"dataframe\">\n",
              "  <thead>\n",
              "    <tr style=\"text-align: right;\">\n",
              "      <th></th>\n",
              "      <th>İstanbul</th>\n",
              "      <th>Ankara</th>\n",
              "      <th>İzmir</th>\n",
              "    </tr>\n",
              "  </thead>\n",
              "  <tbody>\n",
              "    <tr>\n",
              "      <th>0</th>\n",
              "      <td>30.0</td>\n",
              "      <td>20.0</td>\n",
              "      <td>40</td>\n",
              "    </tr>\n",
              "    <tr>\n",
              "      <th>1</th>\n",
              "      <td>29.0</td>\n",
              "      <td>NaN</td>\n",
              "      <td>39</td>\n",
              "    </tr>\n",
              "    <tr>\n",
              "      <th>2</th>\n",
              "      <td>NaN</td>\n",
              "      <td>25.0</td>\n",
              "      <td>38</td>\n",
              "    </tr>\n",
              "  </tbody>\n",
              "</table>\n",
              "</div>"
            ],
            "text/plain": [
              "   İstanbul  Ankara  İzmir\n",
              "0      30.0    20.0     40\n",
              "1      29.0     NaN     39\n",
              "2       NaN    25.0     38"
            ]
          },
          "metadata": {
            "tags": []
          },
          "execution_count": 81
        }
      ]
    },
    {
      "cell_type": "code",
      "metadata": {
        "id": "NTp_jJNu1GkY",
        "outputId": "f7e7e383-206b-413f-d817-fd8b0bef12e6",
        "colab": {
          "base_uri": "https://localhost:8080/",
          "height": 136
        }
      },
      "source": [
        "newDataFrame.fillna(20)"
      ],
      "execution_count": 85,
      "outputs": [
        {
          "output_type": "execute_result",
          "data": {
            "text/html": [
              "<div>\n",
              "<style scoped>\n",
              "    .dataframe tbody tr th:only-of-type {\n",
              "        vertical-align: middle;\n",
              "    }\n",
              "\n",
              "    .dataframe tbody tr th {\n",
              "        vertical-align: top;\n",
              "    }\n",
              "\n",
              "    .dataframe thead th {\n",
              "        text-align: right;\n",
              "    }\n",
              "</style>\n",
              "<table border=\"1\" class=\"dataframe\">\n",
              "  <thead>\n",
              "    <tr style=\"text-align: right;\">\n",
              "      <th></th>\n",
              "      <th>İstanbul</th>\n",
              "      <th>Ankara</th>\n",
              "      <th>İzmir</th>\n",
              "      <th>Antalya</th>\n",
              "    </tr>\n",
              "  </thead>\n",
              "  <tbody>\n",
              "    <tr>\n",
              "      <th>0</th>\n",
              "      <td>30.0</td>\n",
              "      <td>20.0</td>\n",
              "      <td>40</td>\n",
              "      <td>45.0</td>\n",
              "    </tr>\n",
              "    <tr>\n",
              "      <th>1</th>\n",
              "      <td>29.0</td>\n",
              "      <td>20.0</td>\n",
              "      <td>39</td>\n",
              "      <td>20.0</td>\n",
              "    </tr>\n",
              "    <tr>\n",
              "      <th>2</th>\n",
              "      <td>20.0</td>\n",
              "      <td>25.0</td>\n",
              "      <td>38</td>\n",
              "      <td>20.0</td>\n",
              "    </tr>\n",
              "  </tbody>\n",
              "</table>\n",
              "</div>"
            ],
            "text/plain": [
              "   İstanbul  Ankara  İzmir  Antalya\n",
              "0      30.0    20.0     40     45.0\n",
              "1      29.0    20.0     39     20.0\n",
              "2      20.0    25.0     38     20.0"
            ]
          },
          "metadata": {
            "tags": []
          },
          "execution_count": 85
        }
      ]
    },
    {
      "cell_type": "markdown",
      "metadata": {
        "id": "aW--ibjd7h8-"
      },
      "source": [
        "## Groupby"
      ]
    },
    {
      "cell_type": "code",
      "metadata": {
        "id": "8nVBu0IB7jyt",
        "outputId": "24bd18c0-eaaf-45a9-83fa-54be32efa838",
        "colab": {
          "base_uri": "https://localhost:8080/",
          "height": 225
        }
      },
      "source": [
        "dictSalary = {\"Department\" : [\"Software\",\"Sales\",\"Marketing\",\"Finance\",\"Human Resources\", \"Law\"],\n",
        "              \"Employee\" : [\"Olivia\",\"Sophia\",\"Ethan\",\"Oliver\",\"William\",\"Charlotte\"],\n",
        "              \"Salary\" : [100,150,200,300,400,500]}\n",
        "salaryDataFrame = pd.DataFrame(dictSalary)\n",
        "salaryDataFrame"
      ],
      "execution_count": 92,
      "outputs": [
        {
          "output_type": "execute_result",
          "data": {
            "text/html": [
              "<div>\n",
              "<style scoped>\n",
              "    .dataframe tbody tr th:only-of-type {\n",
              "        vertical-align: middle;\n",
              "    }\n",
              "\n",
              "    .dataframe tbody tr th {\n",
              "        vertical-align: top;\n",
              "    }\n",
              "\n",
              "    .dataframe thead th {\n",
              "        text-align: right;\n",
              "    }\n",
              "</style>\n",
              "<table border=\"1\" class=\"dataframe\">\n",
              "  <thead>\n",
              "    <tr style=\"text-align: right;\">\n",
              "      <th></th>\n",
              "      <th>Department</th>\n",
              "      <th>Employee</th>\n",
              "      <th>Salary</th>\n",
              "    </tr>\n",
              "  </thead>\n",
              "  <tbody>\n",
              "    <tr>\n",
              "      <th>0</th>\n",
              "      <td>Software</td>\n",
              "      <td>Olivia</td>\n",
              "      <td>100</td>\n",
              "    </tr>\n",
              "    <tr>\n",
              "      <th>1</th>\n",
              "      <td>Sales</td>\n",
              "      <td>Sophia</td>\n",
              "      <td>150</td>\n",
              "    </tr>\n",
              "    <tr>\n",
              "      <th>2</th>\n",
              "      <td>Marketing</td>\n",
              "      <td>Ethan</td>\n",
              "      <td>200</td>\n",
              "    </tr>\n",
              "    <tr>\n",
              "      <th>3</th>\n",
              "      <td>Finance</td>\n",
              "      <td>Oliver</td>\n",
              "      <td>300</td>\n",
              "    </tr>\n",
              "    <tr>\n",
              "      <th>4</th>\n",
              "      <td>Human Resources</td>\n",
              "      <td>William</td>\n",
              "      <td>400</td>\n",
              "    </tr>\n",
              "    <tr>\n",
              "      <th>5</th>\n",
              "      <td>Law</td>\n",
              "      <td>Charlotte</td>\n",
              "      <td>500</td>\n",
              "    </tr>\n",
              "  </tbody>\n",
              "</table>\n",
              "</div>"
            ],
            "text/plain": [
              "        Department   Employee  Salary\n",
              "0         Software     Olivia     100\n",
              "1            Sales     Sophia     150\n",
              "2        Marketing      Ethan     200\n",
              "3          Finance     Oliver     300\n",
              "4  Human Resources    William     400\n",
              "5              Law  Charlotte     500"
            ]
          },
          "metadata": {
            "tags": []
          },
          "execution_count": 92
        }
      ]
    },
    {
      "cell_type": "code",
      "metadata": {
        "id": "Ey4MoP7Y-QFO",
        "outputId": "437a0b04-7fe5-41ae-9e48-23a888ec277b",
        "colab": {
          "base_uri": "https://localhost:8080/",
          "height": 225
        }
      },
      "source": [
        "dictSalary = {\"Department\" : [\"Software\",\"Software\",\"Marketing\",\"Marketing\",\"Law\", \"Law\"],\n",
        "              \"Employee\" : [\"Olivia\",\"Sophia\",\"Ethan\",\"Oliver\",\"William\",\"Charlotte\"],\n",
        "              \"Salary\" : [100,150,200,300,400,500]}\n",
        "salaryDataFrame = pd.DataFrame(dictSalary)\n",
        "salaryDataFrame"
      ],
      "execution_count": 93,
      "outputs": [
        {
          "output_type": "execute_result",
          "data": {
            "text/html": [
              "<div>\n",
              "<style scoped>\n",
              "    .dataframe tbody tr th:only-of-type {\n",
              "        vertical-align: middle;\n",
              "    }\n",
              "\n",
              "    .dataframe tbody tr th {\n",
              "        vertical-align: top;\n",
              "    }\n",
              "\n",
              "    .dataframe thead th {\n",
              "        text-align: right;\n",
              "    }\n",
              "</style>\n",
              "<table border=\"1\" class=\"dataframe\">\n",
              "  <thead>\n",
              "    <tr style=\"text-align: right;\">\n",
              "      <th></th>\n",
              "      <th>Department</th>\n",
              "      <th>Employee</th>\n",
              "      <th>Salary</th>\n",
              "    </tr>\n",
              "  </thead>\n",
              "  <tbody>\n",
              "    <tr>\n",
              "      <th>0</th>\n",
              "      <td>Software</td>\n",
              "      <td>Olivia</td>\n",
              "      <td>100</td>\n",
              "    </tr>\n",
              "    <tr>\n",
              "      <th>1</th>\n",
              "      <td>Software</td>\n",
              "      <td>Sophia</td>\n",
              "      <td>150</td>\n",
              "    </tr>\n",
              "    <tr>\n",
              "      <th>2</th>\n",
              "      <td>Marketing</td>\n",
              "      <td>Ethan</td>\n",
              "      <td>200</td>\n",
              "    </tr>\n",
              "    <tr>\n",
              "      <th>3</th>\n",
              "      <td>Marketing</td>\n",
              "      <td>Oliver</td>\n",
              "      <td>300</td>\n",
              "    </tr>\n",
              "    <tr>\n",
              "      <th>4</th>\n",
              "      <td>Law</td>\n",
              "      <td>William</td>\n",
              "      <td>400</td>\n",
              "    </tr>\n",
              "    <tr>\n",
              "      <th>5</th>\n",
              "      <td>Law</td>\n",
              "      <td>Charlotte</td>\n",
              "      <td>500</td>\n",
              "    </tr>\n",
              "  </tbody>\n",
              "</table>\n",
              "</div>"
            ],
            "text/plain": [
              "  Department   Employee  Salary\n",
              "0   Software     Olivia     100\n",
              "1   Software     Sophia     150\n",
              "2  Marketing      Ethan     200\n",
              "3  Marketing     Oliver     300\n",
              "4        Law    William     400\n",
              "5        Law  Charlotte     500"
            ]
          },
          "metadata": {
            "tags": []
          },
          "execution_count": 93
        }
      ]
    },
    {
      "cell_type": "code",
      "metadata": {
        "id": "QcMVzagw-ef8",
        "outputId": "a56bc2ed-18de-4e4a-a50b-b300d98303a0",
        "colab": {
          "base_uri": "https://localhost:8080/",
          "height": 166
        }
      },
      "source": [
        "groupObject = salaryDataFrame.groupby(\"Department\")\n",
        "groupObject.count()"
      ],
      "execution_count": 97,
      "outputs": [
        {
          "output_type": "execute_result",
          "data": {
            "text/html": [
              "<div>\n",
              "<style scoped>\n",
              "    .dataframe tbody tr th:only-of-type {\n",
              "        vertical-align: middle;\n",
              "    }\n",
              "\n",
              "    .dataframe tbody tr th {\n",
              "        vertical-align: top;\n",
              "    }\n",
              "\n",
              "    .dataframe thead th {\n",
              "        text-align: right;\n",
              "    }\n",
              "</style>\n",
              "<table border=\"1\" class=\"dataframe\">\n",
              "  <thead>\n",
              "    <tr style=\"text-align: right;\">\n",
              "      <th></th>\n",
              "      <th>Employee</th>\n",
              "      <th>Salary</th>\n",
              "    </tr>\n",
              "    <tr>\n",
              "      <th>Department</th>\n",
              "      <th></th>\n",
              "      <th></th>\n",
              "    </tr>\n",
              "  </thead>\n",
              "  <tbody>\n",
              "    <tr>\n",
              "      <th>Law</th>\n",
              "      <td>2</td>\n",
              "      <td>2</td>\n",
              "    </tr>\n",
              "    <tr>\n",
              "      <th>Marketing</th>\n",
              "      <td>2</td>\n",
              "      <td>2</td>\n",
              "    </tr>\n",
              "    <tr>\n",
              "      <th>Software</th>\n",
              "      <td>2</td>\n",
              "      <td>2</td>\n",
              "    </tr>\n",
              "  </tbody>\n",
              "</table>\n",
              "</div>"
            ],
            "text/plain": [
              "            Employee  Salary\n",
              "Department                  \n",
              "Law                2       2\n",
              "Marketing          2       2\n",
              "Software           2       2"
            ]
          },
          "metadata": {
            "tags": []
          },
          "execution_count": 97
        }
      ]
    },
    {
      "cell_type": "code",
      "metadata": {
        "id": "u85T2-pE-xVl",
        "outputId": "c497a3bf-2794-4807-b945-4fcc6b270d61",
        "colab": {
          "base_uri": "https://localhost:8080/",
          "height": 166
        }
      },
      "source": [
        "groupObject.mean()"
      ],
      "execution_count": 98,
      "outputs": [
        {
          "output_type": "execute_result",
          "data": {
            "text/html": [
              "<div>\n",
              "<style scoped>\n",
              "    .dataframe tbody tr th:only-of-type {\n",
              "        vertical-align: middle;\n",
              "    }\n",
              "\n",
              "    .dataframe tbody tr th {\n",
              "        vertical-align: top;\n",
              "    }\n",
              "\n",
              "    .dataframe thead th {\n",
              "        text-align: right;\n",
              "    }\n",
              "</style>\n",
              "<table border=\"1\" class=\"dataframe\">\n",
              "  <thead>\n",
              "    <tr style=\"text-align: right;\">\n",
              "      <th></th>\n",
              "      <th>Salary</th>\n",
              "    </tr>\n",
              "    <tr>\n",
              "      <th>Department</th>\n",
              "      <th></th>\n",
              "    </tr>\n",
              "  </thead>\n",
              "  <tbody>\n",
              "    <tr>\n",
              "      <th>Law</th>\n",
              "      <td>450</td>\n",
              "    </tr>\n",
              "    <tr>\n",
              "      <th>Marketing</th>\n",
              "      <td>250</td>\n",
              "    </tr>\n",
              "    <tr>\n",
              "      <th>Software</th>\n",
              "      <td>125</td>\n",
              "    </tr>\n",
              "  </tbody>\n",
              "</table>\n",
              "</div>"
            ],
            "text/plain": [
              "            Salary\n",
              "Department        \n",
              "Law            450\n",
              "Marketing      250\n",
              "Software       125"
            ]
          },
          "metadata": {
            "tags": []
          },
          "execution_count": 98
        }
      ]
    },
    {
      "cell_type": "code",
      "metadata": {
        "id": "GC_s3bme-7CM",
        "outputId": "88c022bc-e39e-41ce-8cdb-c46666d01f5a",
        "colab": {
          "base_uri": "https://localhost:8080/",
          "height": 166
        }
      },
      "source": [
        "groupObject.min()"
      ],
      "execution_count": 99,
      "outputs": [
        {
          "output_type": "execute_result",
          "data": {
            "text/html": [
              "<div>\n",
              "<style scoped>\n",
              "    .dataframe tbody tr th:only-of-type {\n",
              "        vertical-align: middle;\n",
              "    }\n",
              "\n",
              "    .dataframe tbody tr th {\n",
              "        vertical-align: top;\n",
              "    }\n",
              "\n",
              "    .dataframe thead th {\n",
              "        text-align: right;\n",
              "    }\n",
              "</style>\n",
              "<table border=\"1\" class=\"dataframe\">\n",
              "  <thead>\n",
              "    <tr style=\"text-align: right;\">\n",
              "      <th></th>\n",
              "      <th>Employee</th>\n",
              "      <th>Salary</th>\n",
              "    </tr>\n",
              "    <tr>\n",
              "      <th>Department</th>\n",
              "      <th></th>\n",
              "      <th></th>\n",
              "    </tr>\n",
              "  </thead>\n",
              "  <tbody>\n",
              "    <tr>\n",
              "      <th>Law</th>\n",
              "      <td>Charlotte</td>\n",
              "      <td>400</td>\n",
              "    </tr>\n",
              "    <tr>\n",
              "      <th>Marketing</th>\n",
              "      <td>Ethan</td>\n",
              "      <td>200</td>\n",
              "    </tr>\n",
              "    <tr>\n",
              "      <th>Software</th>\n",
              "      <td>Olivia</td>\n",
              "      <td>100</td>\n",
              "    </tr>\n",
              "  </tbody>\n",
              "</table>\n",
              "</div>"
            ],
            "text/plain": [
              "             Employee  Salary\n",
              "Department                   \n",
              "Law         Charlotte     400\n",
              "Marketing       Ethan     200\n",
              "Software       Olivia     100"
            ]
          },
          "metadata": {
            "tags": []
          },
          "execution_count": 99
        }
      ]
    },
    {
      "cell_type": "code",
      "metadata": {
        "id": "J2EgMkhr--HU",
        "outputId": "9b63d4ee-252e-4ec0-d045-6439fdd20c70",
        "colab": {
          "base_uri": "https://localhost:8080/",
          "height": 166
        }
      },
      "source": [
        "groupObject.max()"
      ],
      "execution_count": 100,
      "outputs": [
        {
          "output_type": "execute_result",
          "data": {
            "text/html": [
              "<div>\n",
              "<style scoped>\n",
              "    .dataframe tbody tr th:only-of-type {\n",
              "        vertical-align: middle;\n",
              "    }\n",
              "\n",
              "    .dataframe tbody tr th {\n",
              "        vertical-align: top;\n",
              "    }\n",
              "\n",
              "    .dataframe thead th {\n",
              "        text-align: right;\n",
              "    }\n",
              "</style>\n",
              "<table border=\"1\" class=\"dataframe\">\n",
              "  <thead>\n",
              "    <tr style=\"text-align: right;\">\n",
              "      <th></th>\n",
              "      <th>Employee</th>\n",
              "      <th>Salary</th>\n",
              "    </tr>\n",
              "    <tr>\n",
              "      <th>Department</th>\n",
              "      <th></th>\n",
              "      <th></th>\n",
              "    </tr>\n",
              "  </thead>\n",
              "  <tbody>\n",
              "    <tr>\n",
              "      <th>Law</th>\n",
              "      <td>William</td>\n",
              "      <td>500</td>\n",
              "    </tr>\n",
              "    <tr>\n",
              "      <th>Marketing</th>\n",
              "      <td>Oliver</td>\n",
              "      <td>300</td>\n",
              "    </tr>\n",
              "    <tr>\n",
              "      <th>Software</th>\n",
              "      <td>Sophia</td>\n",
              "      <td>150</td>\n",
              "    </tr>\n",
              "  </tbody>\n",
              "</table>\n",
              "</div>"
            ],
            "text/plain": [
              "           Employee  Salary\n",
              "Department                 \n",
              "Law         William     500\n",
              "Marketing    Oliver     300\n",
              "Software     Sophia     150"
            ]
          },
          "metadata": {
            "tags": []
          },
          "execution_count": 100
        }
      ]
    },
    {
      "cell_type": "code",
      "metadata": {
        "id": "VjnHwBKQ_CfU",
        "outputId": "1a7c940c-a1a5-4ee1-c74e-ca0bfba269a9",
        "colab": {
          "base_uri": "https://localhost:8080/",
          "height": 195
        }
      },
      "source": [
        "groupObject.describe()"
      ],
      "execution_count": 102,
      "outputs": [
        {
          "output_type": "execute_result",
          "data": {
            "text/html": [
              "<div>\n",
              "<style scoped>\n",
              "    .dataframe tbody tr th:only-of-type {\n",
              "        vertical-align: middle;\n",
              "    }\n",
              "\n",
              "    .dataframe tbody tr th {\n",
              "        vertical-align: top;\n",
              "    }\n",
              "\n",
              "    .dataframe thead tr th {\n",
              "        text-align: left;\n",
              "    }\n",
              "\n",
              "    .dataframe thead tr:last-of-type th {\n",
              "        text-align: right;\n",
              "    }\n",
              "</style>\n",
              "<table border=\"1\" class=\"dataframe\">\n",
              "  <thead>\n",
              "    <tr>\n",
              "      <th></th>\n",
              "      <th colspan=\"8\" halign=\"left\">Salary</th>\n",
              "    </tr>\n",
              "    <tr>\n",
              "      <th></th>\n",
              "      <th>count</th>\n",
              "      <th>mean</th>\n",
              "      <th>std</th>\n",
              "      <th>min</th>\n",
              "      <th>25%</th>\n",
              "      <th>50%</th>\n",
              "      <th>75%</th>\n",
              "      <th>max</th>\n",
              "    </tr>\n",
              "    <tr>\n",
              "      <th>Department</th>\n",
              "      <th></th>\n",
              "      <th></th>\n",
              "      <th></th>\n",
              "      <th></th>\n",
              "      <th></th>\n",
              "      <th></th>\n",
              "      <th></th>\n",
              "      <th></th>\n",
              "    </tr>\n",
              "  </thead>\n",
              "  <tbody>\n",
              "    <tr>\n",
              "      <th>Law</th>\n",
              "      <td>2.0</td>\n",
              "      <td>450.0</td>\n",
              "      <td>70.710678</td>\n",
              "      <td>400.0</td>\n",
              "      <td>425.0</td>\n",
              "      <td>450.0</td>\n",
              "      <td>475.0</td>\n",
              "      <td>500.0</td>\n",
              "    </tr>\n",
              "    <tr>\n",
              "      <th>Marketing</th>\n",
              "      <td>2.0</td>\n",
              "      <td>250.0</td>\n",
              "      <td>70.710678</td>\n",
              "      <td>200.0</td>\n",
              "      <td>225.0</td>\n",
              "      <td>250.0</td>\n",
              "      <td>275.0</td>\n",
              "      <td>300.0</td>\n",
              "    </tr>\n",
              "    <tr>\n",
              "      <th>Software</th>\n",
              "      <td>2.0</td>\n",
              "      <td>125.0</td>\n",
              "      <td>35.355339</td>\n",
              "      <td>100.0</td>\n",
              "      <td>112.5</td>\n",
              "      <td>125.0</td>\n",
              "      <td>137.5</td>\n",
              "      <td>150.0</td>\n",
              "    </tr>\n",
              "  </tbody>\n",
              "</table>\n",
              "</div>"
            ],
            "text/plain": [
              "           Salary                                                     \n",
              "            count   mean        std    min    25%    50%    75%    max\n",
              "Department                                                            \n",
              "Law           2.0  450.0  70.710678  400.0  425.0  450.0  475.0  500.0\n",
              "Marketing     2.0  250.0  70.710678  200.0  225.0  250.0  275.0  300.0\n",
              "Software      2.0  125.0  35.355339  100.0  112.5  125.0  137.5  150.0"
            ]
          },
          "metadata": {
            "tags": []
          },
          "execution_count": 102
        }
      ]
    },
    {
      "cell_type": "markdown",
      "metadata": {
        "id": "BU6-6FutADej"
      },
      "source": [
        "## Concatenate"
      ]
    },
    {
      "cell_type": "code",
      "metadata": {
        "id": "e-ZTFRLvAEvU",
        "outputId": "b0d1e63b-0847-4148-9693-bd98ec15c554",
        "colab": {
          "base_uri": "https://localhost:8080/",
          "height": 166
        }
      },
      "source": [
        "dict1 = {\"Name\" : [\"Carrie\",\"Samantha\",\"Charlotte\",\"Miranda\"],\n",
        "         \"Sport\" : [\"Running\",\"Swimming\",\"Running\",\"Basketball\"],\n",
        "         \"Calorie\" : [100,200,300,400]}\n",
        "dataFrame1 = pd.DataFrame(dict1, index = [0,1,2,3])\n",
        "dataFrame1"
      ],
      "execution_count": 106,
      "outputs": [
        {
          "output_type": "execute_result",
          "data": {
            "text/html": [
              "<div>\n",
              "<style scoped>\n",
              "    .dataframe tbody tr th:only-of-type {\n",
              "        vertical-align: middle;\n",
              "    }\n",
              "\n",
              "    .dataframe tbody tr th {\n",
              "        vertical-align: top;\n",
              "    }\n",
              "\n",
              "    .dataframe thead th {\n",
              "        text-align: right;\n",
              "    }\n",
              "</style>\n",
              "<table border=\"1\" class=\"dataframe\">\n",
              "  <thead>\n",
              "    <tr style=\"text-align: right;\">\n",
              "      <th></th>\n",
              "      <th>Name</th>\n",
              "      <th>Sport</th>\n",
              "      <th>Calorie</th>\n",
              "    </tr>\n",
              "  </thead>\n",
              "  <tbody>\n",
              "    <tr>\n",
              "      <th>0</th>\n",
              "      <td>Carrie</td>\n",
              "      <td>Running</td>\n",
              "      <td>100</td>\n",
              "    </tr>\n",
              "    <tr>\n",
              "      <th>1</th>\n",
              "      <td>Samantha</td>\n",
              "      <td>Swimming</td>\n",
              "      <td>200</td>\n",
              "    </tr>\n",
              "    <tr>\n",
              "      <th>2</th>\n",
              "      <td>Charlotte</td>\n",
              "      <td>Running</td>\n",
              "      <td>300</td>\n",
              "    </tr>\n",
              "    <tr>\n",
              "      <th>3</th>\n",
              "      <td>Miranda</td>\n",
              "      <td>Basketball</td>\n",
              "      <td>400</td>\n",
              "    </tr>\n",
              "  </tbody>\n",
              "</table>\n",
              "</div>"
            ],
            "text/plain": [
              "        Name       Sport  Calorie\n",
              "0     Carrie     Running      100\n",
              "1   Samantha    Swimming      200\n",
              "2  Charlotte     Running      300\n",
              "3    Miranda  Basketball      400"
            ]
          },
          "metadata": {
            "tags": []
          },
          "execution_count": 106
        }
      ]
    },
    {
      "cell_type": "code",
      "metadata": {
        "id": "-l-ggF7aBElf",
        "outputId": "e3b68281-091f-4e2e-8b96-545ce055ba41",
        "colab": {
          "base_uri": "https://localhost:8080/",
          "height": 166
        }
      },
      "source": [
        "dict2 = {\"Name\" : [\"Isabella\",\"Emma\",\"Noah\",\"Liam\"],\n",
        "         \"Sport\" : [\"Running\",\"Swimming\",\"Running\",\"Basketball\"],\n",
        "         \"Calorie\" : [200,100,50,300]}\n",
        "dataFrame2 = pd.DataFrame(dict2, index = [4,5,6,7])\n",
        "dataFrame2"
      ],
      "execution_count": 110,
      "outputs": [
        {
          "output_type": "execute_result",
          "data": {
            "text/html": [
              "<div>\n",
              "<style scoped>\n",
              "    .dataframe tbody tr th:only-of-type {\n",
              "        vertical-align: middle;\n",
              "    }\n",
              "\n",
              "    .dataframe tbody tr th {\n",
              "        vertical-align: top;\n",
              "    }\n",
              "\n",
              "    .dataframe thead th {\n",
              "        text-align: right;\n",
              "    }\n",
              "</style>\n",
              "<table border=\"1\" class=\"dataframe\">\n",
              "  <thead>\n",
              "    <tr style=\"text-align: right;\">\n",
              "      <th></th>\n",
              "      <th>Name</th>\n",
              "      <th>Sport</th>\n",
              "      <th>Calorie</th>\n",
              "    </tr>\n",
              "  </thead>\n",
              "  <tbody>\n",
              "    <tr>\n",
              "      <th>4</th>\n",
              "      <td>Isabella</td>\n",
              "      <td>Running</td>\n",
              "      <td>200</td>\n",
              "    </tr>\n",
              "    <tr>\n",
              "      <th>5</th>\n",
              "      <td>Emma</td>\n",
              "      <td>Swimming</td>\n",
              "      <td>100</td>\n",
              "    </tr>\n",
              "    <tr>\n",
              "      <th>6</th>\n",
              "      <td>Noah</td>\n",
              "      <td>Running</td>\n",
              "      <td>50</td>\n",
              "    </tr>\n",
              "    <tr>\n",
              "      <th>7</th>\n",
              "      <td>Liam</td>\n",
              "      <td>Basketball</td>\n",
              "      <td>300</td>\n",
              "    </tr>\n",
              "  </tbody>\n",
              "</table>\n",
              "</div>"
            ],
            "text/plain": [
              "       Name       Sport  Calorie\n",
              "4  Isabella     Running      200\n",
              "5      Emma    Swimming      100\n",
              "6      Noah     Running       50\n",
              "7      Liam  Basketball      300"
            ]
          },
          "metadata": {
            "tags": []
          },
          "execution_count": 110
        }
      ]
    },
    {
      "cell_type": "code",
      "metadata": {
        "id": "5I_ELLjvBaYE",
        "outputId": "d02f01da-03c6-4129-9997-7b61cd786eae",
        "colab": {
          "base_uri": "https://localhost:8080/",
          "height": 166
        }
      },
      "source": [
        "dict3 = {\"Name\" : [\"Lucas\",\"Harper\",\"Mason\",\"Ava\"],\n",
        "         \"Sport\" : [\"Running\",\"Swimming\",\"Badminton\",\"Tennis\"],\n",
        "         \"Calorie\" : [300,400,500,250]}\n",
        "dataFrame3 = pd.DataFrame(dict3, index = [8,9,10,11])\n",
        "dataFrame3"
      ],
      "execution_count": 111,
      "outputs": [
        {
          "output_type": "execute_result",
          "data": {
            "text/html": [
              "<div>\n",
              "<style scoped>\n",
              "    .dataframe tbody tr th:only-of-type {\n",
              "        vertical-align: middle;\n",
              "    }\n",
              "\n",
              "    .dataframe tbody tr th {\n",
              "        vertical-align: top;\n",
              "    }\n",
              "\n",
              "    .dataframe thead th {\n",
              "        text-align: right;\n",
              "    }\n",
              "</style>\n",
              "<table border=\"1\" class=\"dataframe\">\n",
              "  <thead>\n",
              "    <tr style=\"text-align: right;\">\n",
              "      <th></th>\n",
              "      <th>Name</th>\n",
              "      <th>Sport</th>\n",
              "      <th>Calorie</th>\n",
              "    </tr>\n",
              "  </thead>\n",
              "  <tbody>\n",
              "    <tr>\n",
              "      <th>8</th>\n",
              "      <td>Lucas</td>\n",
              "      <td>Running</td>\n",
              "      <td>300</td>\n",
              "    </tr>\n",
              "    <tr>\n",
              "      <th>9</th>\n",
              "      <td>Harper</td>\n",
              "      <td>Swimming</td>\n",
              "      <td>400</td>\n",
              "    </tr>\n",
              "    <tr>\n",
              "      <th>10</th>\n",
              "      <td>Mason</td>\n",
              "      <td>Badminton</td>\n",
              "      <td>500</td>\n",
              "    </tr>\n",
              "    <tr>\n",
              "      <th>11</th>\n",
              "      <td>Ava</td>\n",
              "      <td>Tennis</td>\n",
              "      <td>250</td>\n",
              "    </tr>\n",
              "  </tbody>\n",
              "</table>\n",
              "</div>"
            ],
            "text/plain": [
              "      Name      Sport  Calorie\n",
              "8    Lucas    Running      300\n",
              "9   Harper   Swimming      400\n",
              "10   Mason  Badminton      500\n",
              "11     Ava     Tennis      250"
            ]
          },
          "metadata": {
            "tags": []
          },
          "execution_count": 111
        }
      ]
    },
    {
      "cell_type": "code",
      "metadata": {
        "id": "ZMcDj1bYB5h-",
        "outputId": "6e5e3b9e-ebee-443c-99db-d90f42a16180",
        "colab": {
          "base_uri": "https://localhost:8080/",
          "height": 402
        }
      },
      "source": [
        "pd.concat([dataFrame1,dataFrame2,dataFrame3])"
      ],
      "execution_count": 113,
      "outputs": [
        {
          "output_type": "execute_result",
          "data": {
            "text/html": [
              "<div>\n",
              "<style scoped>\n",
              "    .dataframe tbody tr th:only-of-type {\n",
              "        vertical-align: middle;\n",
              "    }\n",
              "\n",
              "    .dataframe tbody tr th {\n",
              "        vertical-align: top;\n",
              "    }\n",
              "\n",
              "    .dataframe thead th {\n",
              "        text-align: right;\n",
              "    }\n",
              "</style>\n",
              "<table border=\"1\" class=\"dataframe\">\n",
              "  <thead>\n",
              "    <tr style=\"text-align: right;\">\n",
              "      <th></th>\n",
              "      <th>Name</th>\n",
              "      <th>Sport</th>\n",
              "      <th>Calorie</th>\n",
              "    </tr>\n",
              "  </thead>\n",
              "  <tbody>\n",
              "    <tr>\n",
              "      <th>0</th>\n",
              "      <td>Carrie</td>\n",
              "      <td>Running</td>\n",
              "      <td>100</td>\n",
              "    </tr>\n",
              "    <tr>\n",
              "      <th>1</th>\n",
              "      <td>Samantha</td>\n",
              "      <td>Swimming</td>\n",
              "      <td>200</td>\n",
              "    </tr>\n",
              "    <tr>\n",
              "      <th>2</th>\n",
              "      <td>Charlotte</td>\n",
              "      <td>Running</td>\n",
              "      <td>300</td>\n",
              "    </tr>\n",
              "    <tr>\n",
              "      <th>3</th>\n",
              "      <td>Miranda</td>\n",
              "      <td>Basketball</td>\n",
              "      <td>400</td>\n",
              "    </tr>\n",
              "    <tr>\n",
              "      <th>4</th>\n",
              "      <td>Isabella</td>\n",
              "      <td>Running</td>\n",
              "      <td>200</td>\n",
              "    </tr>\n",
              "    <tr>\n",
              "      <th>5</th>\n",
              "      <td>Emma</td>\n",
              "      <td>Swimming</td>\n",
              "      <td>100</td>\n",
              "    </tr>\n",
              "    <tr>\n",
              "      <th>6</th>\n",
              "      <td>Noah</td>\n",
              "      <td>Running</td>\n",
              "      <td>50</td>\n",
              "    </tr>\n",
              "    <tr>\n",
              "      <th>7</th>\n",
              "      <td>Liam</td>\n",
              "      <td>Basketball</td>\n",
              "      <td>300</td>\n",
              "    </tr>\n",
              "    <tr>\n",
              "      <th>8</th>\n",
              "      <td>Lucas</td>\n",
              "      <td>Running</td>\n",
              "      <td>300</td>\n",
              "    </tr>\n",
              "    <tr>\n",
              "      <th>9</th>\n",
              "      <td>Harper</td>\n",
              "      <td>Swimming</td>\n",
              "      <td>400</td>\n",
              "    </tr>\n",
              "    <tr>\n",
              "      <th>10</th>\n",
              "      <td>Mason</td>\n",
              "      <td>Badminton</td>\n",
              "      <td>500</td>\n",
              "    </tr>\n",
              "    <tr>\n",
              "      <th>11</th>\n",
              "      <td>Ava</td>\n",
              "      <td>Tennis</td>\n",
              "      <td>250</td>\n",
              "    </tr>\n",
              "  </tbody>\n",
              "</table>\n",
              "</div>"
            ],
            "text/plain": [
              "         Name       Sport  Calorie\n",
              "0      Carrie     Running      100\n",
              "1    Samantha    Swimming      200\n",
              "2   Charlotte     Running      300\n",
              "3     Miranda  Basketball      400\n",
              "4    Isabella     Running      200\n",
              "5        Emma    Swimming      100\n",
              "6        Noah     Running       50\n",
              "7        Liam  Basketball      300\n",
              "8       Lucas     Running      300\n",
              "9      Harper    Swimming      400\n",
              "10      Mason   Badminton      500\n",
              "11        Ava      Tennis      250"
            ]
          },
          "metadata": {
            "tags": []
          },
          "execution_count": 113
        }
      ]
    },
    {
      "cell_type": "markdown",
      "metadata": {
        "id": "wNT0h3EaCQL0"
      },
      "source": [
        "## Merge"
      ]
    },
    {
      "cell_type": "code",
      "metadata": {
        "id": "GeDDMJJJCSGt",
        "outputId": "9ca17eae-71ad-4253-a3a1-dc4377cfbea7",
        "colab": {
          "base_uri": "https://localhost:8080/",
          "height": 166
        }
      },
      "source": [
        "mergeDict1 = {\"Name\" : [\"Carrie\",\"Samantha\",\"Charlotte\",\"Miranda\"],\n",
        "         \"Sport\" : [\"Running\",\"Swimming\",\"Running\",\"Basketball\"]}\n",
        "mergeDataFrame1 = pd.DataFrame(mergeDict1, index = [0,1,2,3])\n",
        "mergeDataFrame1"
      ],
      "execution_count": 3,
      "outputs": [
        {
          "output_type": "execute_result",
          "data": {
            "text/html": [
              "<div>\n",
              "<style scoped>\n",
              "    .dataframe tbody tr th:only-of-type {\n",
              "        vertical-align: middle;\n",
              "    }\n",
              "\n",
              "    .dataframe tbody tr th {\n",
              "        vertical-align: top;\n",
              "    }\n",
              "\n",
              "    .dataframe thead th {\n",
              "        text-align: right;\n",
              "    }\n",
              "</style>\n",
              "<table border=\"1\" class=\"dataframe\">\n",
              "  <thead>\n",
              "    <tr style=\"text-align: right;\">\n",
              "      <th></th>\n",
              "      <th>Name</th>\n",
              "      <th>Sport</th>\n",
              "    </tr>\n",
              "  </thead>\n",
              "  <tbody>\n",
              "    <tr>\n",
              "      <th>0</th>\n",
              "      <td>Carrie</td>\n",
              "      <td>Running</td>\n",
              "    </tr>\n",
              "    <tr>\n",
              "      <th>1</th>\n",
              "      <td>Samantha</td>\n",
              "      <td>Swimming</td>\n",
              "    </tr>\n",
              "    <tr>\n",
              "      <th>2</th>\n",
              "      <td>Charlotte</td>\n",
              "      <td>Running</td>\n",
              "    </tr>\n",
              "    <tr>\n",
              "      <th>3</th>\n",
              "      <td>Miranda</td>\n",
              "      <td>Basketball</td>\n",
              "    </tr>\n",
              "  </tbody>\n",
              "</table>\n",
              "</div>"
            ],
            "text/plain": [
              "        Name       Sport\n",
              "0     Carrie     Running\n",
              "1   Samantha    Swimming\n",
              "2  Charlotte     Running\n",
              "3    Miranda  Basketball"
            ]
          },
          "metadata": {
            "tags": []
          },
          "execution_count": 3
        }
      ]
    },
    {
      "cell_type": "code",
      "metadata": {
        "id": "i8vuVyaNqe2v",
        "outputId": "cb0b5605-8778-47e6-94ff-366da4d2aba8",
        "colab": {
          "base_uri": "https://localhost:8080/",
          "height": 166
        }
      },
      "source": [
        "mergeDict2 = {\"Name\" : [\"Carrie\",\"Samantha\",\"Charlotte\",\"Miranda\"],\n",
        "              \"Calorie\" : [100,200,150,200]}\n",
        "mergeDataFrame2 = pd.DataFrame(mergeDict2, index = [0,1,2,3])\n",
        "mergeDataFrame2"
      ],
      "execution_count": 7,
      "outputs": [
        {
          "output_type": "execute_result",
          "data": {
            "text/html": [
              "<div>\n",
              "<style scoped>\n",
              "    .dataframe tbody tr th:only-of-type {\n",
              "        vertical-align: middle;\n",
              "    }\n",
              "\n",
              "    .dataframe tbody tr th {\n",
              "        vertical-align: top;\n",
              "    }\n",
              "\n",
              "    .dataframe thead th {\n",
              "        text-align: right;\n",
              "    }\n",
              "</style>\n",
              "<table border=\"1\" class=\"dataframe\">\n",
              "  <thead>\n",
              "    <tr style=\"text-align: right;\">\n",
              "      <th></th>\n",
              "      <th>Name</th>\n",
              "      <th>Calorie</th>\n",
              "    </tr>\n",
              "  </thead>\n",
              "  <tbody>\n",
              "    <tr>\n",
              "      <th>0</th>\n",
              "      <td>Carrie</td>\n",
              "      <td>100</td>\n",
              "    </tr>\n",
              "    <tr>\n",
              "      <th>1</th>\n",
              "      <td>Samantha</td>\n",
              "      <td>200</td>\n",
              "    </tr>\n",
              "    <tr>\n",
              "      <th>2</th>\n",
              "      <td>Charlotte</td>\n",
              "      <td>150</td>\n",
              "    </tr>\n",
              "    <tr>\n",
              "      <th>3</th>\n",
              "      <td>Miranda</td>\n",
              "      <td>200</td>\n",
              "    </tr>\n",
              "  </tbody>\n",
              "</table>\n",
              "</div>"
            ],
            "text/plain": [
              "        Name  Calorie\n",
              "0     Carrie      100\n",
              "1   Samantha      200\n",
              "2  Charlotte      150\n",
              "3    Miranda      200"
            ]
          },
          "metadata": {
            "tags": []
          },
          "execution_count": 7
        }
      ]
    },
    {
      "cell_type": "code",
      "metadata": {
        "id": "Ms79RAVZqwz9",
        "outputId": "530bfe18-3c14-4916-b85b-b289b658adc6",
        "colab": {
          "base_uri": "https://localhost:8080/",
          "height": 166
        }
      },
      "source": [
        "pd.merge(mergeDataFrame1,mergeDataFrame2, on=\"Name\")"
      ],
      "execution_count": 8,
      "outputs": [
        {
          "output_type": "execute_result",
          "data": {
            "text/html": [
              "<div>\n",
              "<style scoped>\n",
              "    .dataframe tbody tr th:only-of-type {\n",
              "        vertical-align: middle;\n",
              "    }\n",
              "\n",
              "    .dataframe tbody tr th {\n",
              "        vertical-align: top;\n",
              "    }\n",
              "\n",
              "    .dataframe thead th {\n",
              "        text-align: right;\n",
              "    }\n",
              "</style>\n",
              "<table border=\"1\" class=\"dataframe\">\n",
              "  <thead>\n",
              "    <tr style=\"text-align: right;\">\n",
              "      <th></th>\n",
              "      <th>Name</th>\n",
              "      <th>Sport</th>\n",
              "      <th>Calorie</th>\n",
              "    </tr>\n",
              "  </thead>\n",
              "  <tbody>\n",
              "    <tr>\n",
              "      <th>0</th>\n",
              "      <td>Carrie</td>\n",
              "      <td>Running</td>\n",
              "      <td>100</td>\n",
              "    </tr>\n",
              "    <tr>\n",
              "      <th>1</th>\n",
              "      <td>Samantha</td>\n",
              "      <td>Swimming</td>\n",
              "      <td>200</td>\n",
              "    </tr>\n",
              "    <tr>\n",
              "      <th>2</th>\n",
              "      <td>Charlotte</td>\n",
              "      <td>Running</td>\n",
              "      <td>150</td>\n",
              "    </tr>\n",
              "    <tr>\n",
              "      <th>3</th>\n",
              "      <td>Miranda</td>\n",
              "      <td>Basketball</td>\n",
              "      <td>200</td>\n",
              "    </tr>\n",
              "  </tbody>\n",
              "</table>\n",
              "</div>"
            ],
            "text/plain": [
              "        Name       Sport  Calorie\n",
              "0     Carrie     Running      100\n",
              "1   Samantha    Swimming      200\n",
              "2  Charlotte     Running      150\n",
              "3    Miranda  Basketball      200"
            ]
          },
          "metadata": {
            "tags": []
          },
          "execution_count": 8
        }
      ]
    },
    {
      "cell_type": "markdown",
      "metadata": {
        "id": "w5p0cEy8r1qu"
      },
      "source": [
        "## Advanced Operations"
      ]
    },
    {
      "cell_type": "code",
      "metadata": {
        "id": "qpVYrENJr6wM",
        "outputId": "861cfa3d-c85b-49ad-8bd2-7baeee916d58",
        "colab": {
          "base_uri": "https://localhost:8080/",
          "height": 166
        }
      },
      "source": [
        "dict1 = {\"Name\" : [\"Carrie\",\"Samantha\",\"Charlotte\",\"Miranda\"],\n",
        "         \"Department\" : [\"Software\",\"Sales\",\"Marketing\",\"Software\"],\n",
        "         \"Salary\" : [2000,3000,4000,5000]}\n",
        "salaryDataFrame = pd.DataFrame(dict1, index = [0,1,2,3])\n",
        "salaryDataFrame"
      ],
      "execution_count": 20,
      "outputs": [
        {
          "output_type": "execute_result",
          "data": {
            "text/html": [
              "<div>\n",
              "<style scoped>\n",
              "    .dataframe tbody tr th:only-of-type {\n",
              "        vertical-align: middle;\n",
              "    }\n",
              "\n",
              "    .dataframe tbody tr th {\n",
              "        vertical-align: top;\n",
              "    }\n",
              "\n",
              "    .dataframe thead th {\n",
              "        text-align: right;\n",
              "    }\n",
              "</style>\n",
              "<table border=\"1\" class=\"dataframe\">\n",
              "  <thead>\n",
              "    <tr style=\"text-align: right;\">\n",
              "      <th></th>\n",
              "      <th>Name</th>\n",
              "      <th>Department</th>\n",
              "      <th>Salary</th>\n",
              "    </tr>\n",
              "  </thead>\n",
              "  <tbody>\n",
              "    <tr>\n",
              "      <th>0</th>\n",
              "      <td>Carrie</td>\n",
              "      <td>Software</td>\n",
              "      <td>2000</td>\n",
              "    </tr>\n",
              "    <tr>\n",
              "      <th>1</th>\n",
              "      <td>Samantha</td>\n",
              "      <td>Sales</td>\n",
              "      <td>3000</td>\n",
              "    </tr>\n",
              "    <tr>\n",
              "      <th>2</th>\n",
              "      <td>Charlotte</td>\n",
              "      <td>Marketing</td>\n",
              "      <td>4000</td>\n",
              "    </tr>\n",
              "    <tr>\n",
              "      <th>3</th>\n",
              "      <td>Miranda</td>\n",
              "      <td>Software</td>\n",
              "      <td>5000</td>\n",
              "    </tr>\n",
              "  </tbody>\n",
              "</table>\n",
              "</div>"
            ],
            "text/plain": [
              "        Name Department  Salary\n",
              "0     Carrie   Software    2000\n",
              "1   Samantha      Sales    3000\n",
              "2  Charlotte  Marketing    4000\n",
              "3    Miranda   Software    5000"
            ]
          },
          "metadata": {
            "tags": []
          },
          "execution_count": 20
        }
      ]
    },
    {
      "cell_type": "code",
      "metadata": {
        "id": "rThTeddhsfQX",
        "outputId": "27463cd7-17dd-479a-b4b3-94b52286a3df",
        "colab": {
          "base_uri": "https://localhost:8080/"
        }
      },
      "source": [
        "salaryDataFrame[\"Department\"].unique()"
      ],
      "execution_count": 13,
      "outputs": [
        {
          "output_type": "execute_result",
          "data": {
            "text/plain": [
              "array(['Software', 'Sales', 'Marketing'], dtype=object)"
            ]
          },
          "metadata": {
            "tags": []
          },
          "execution_count": 13
        }
      ]
    },
    {
      "cell_type": "code",
      "metadata": {
        "id": "pyFye5jjsnex",
        "outputId": "c2baa2d0-744a-47af-ceea-758dcbfa705f",
        "colab": {
          "base_uri": "https://localhost:8080/"
        }
      },
      "source": [
        "salaryDataFrame[\"Department\"].nunique() # number of unique"
      ],
      "execution_count": 15,
      "outputs": [
        {
          "output_type": "execute_result",
          "data": {
            "text/plain": [
              "3"
            ]
          },
          "metadata": {
            "tags": []
          },
          "execution_count": 15
        }
      ]
    },
    {
      "cell_type": "code",
      "metadata": {
        "id": "eX73-CJ5suWX",
        "outputId": "4ba3f0fe-4c7c-43ce-de35-bcf57faddd3b",
        "colab": {
          "base_uri": "https://localhost:8080/"
        }
      },
      "source": [
        "salaryDataFrame[\"Department\"].value_counts()"
      ],
      "execution_count": 21,
      "outputs": [
        {
          "output_type": "execute_result",
          "data": {
            "text/plain": [
              "Software     2\n",
              "Marketing    1\n",
              "Sales        1\n",
              "Name: Department, dtype: int64"
            ]
          },
          "metadata": {
            "tags": []
          },
          "execution_count": 21
        }
      ]
    },
    {
      "cell_type": "code",
      "metadata": {
        "id": "dq0hx8pztPz2"
      },
      "source": [
        "def netSalary(salary):\n",
        "  return salary * 0.66"
      ],
      "execution_count": 22,
      "outputs": []
    },
    {
      "cell_type": "code",
      "metadata": {
        "id": "89tBnhV_tZCs",
        "outputId": "048a4dc2-3b33-4f24-a2c4-70f19c27a9e7",
        "colab": {
          "base_uri": "https://localhost:8080/"
        }
      },
      "source": [
        "salaryDataFrame[\"Salary\"].apply(netSalary) # apply function to data frame"
      ],
      "execution_count": 23,
      "outputs": [
        {
          "output_type": "execute_result",
          "data": {
            "text/plain": [
              "0    1320.0\n",
              "1    1980.0\n",
              "2    2640.0\n",
              "3    3300.0\n",
              "Name: Salary, dtype: float64"
            ]
          },
          "metadata": {
            "tags": []
          },
          "execution_count": 23
        }
      ]
    },
    {
      "cell_type": "markdown",
      "metadata": {
        "id": "0tC3Yrrmt9k1"
      },
      "source": [
        "## Working with Excel file"
      ]
    },
    {
      "cell_type": "code",
      "metadata": {
        "id": "1Ro58AQPt_QL"
      },
      "source": [
        "import pandas as pd\n",
        "dataFrame = pd.read_excel(\"salary.xlsx\") # read excel file"
      ],
      "execution_count": null,
      "outputs": []
    }
  ]
}