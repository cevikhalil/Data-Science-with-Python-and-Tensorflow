{
  "nbformat": 4,
  "nbformat_minor": 0,
  "metadata": {
    "colab": {
      "name": "17-Numpy.ipynb",
      "provenance": [],
      "collapsed_sections": [
        "NxbzVMFroAPu",
        "kmi6ssZfoJZC",
        "lelKCHNhoc0F",
        "IxfuiO_uorNd",
        "D-lG7K92qS7C",
        "Y2hvLIjLqhI0",
        "H7Ut_VXrrK4p",
        "JrHze01Ity6i",
        "8_tHTE8ru4mb"
      ],
      "authorship_tag": "ABX9TyPdLgAr0Ed05nHI/RV4JuBa",
      "include_colab_link": true
    },
    "kernelspec": {
      "name": "python3",
      "display_name": "Python 3"
    }
  },
  "cells": [
    {
      "cell_type": "markdown",
      "metadata": {
        "id": "view-in-github",
        "colab_type": "text"
      },
      "source": [
        "<a href=\"https://colab.research.google.com/github/cevikhalil/Data-Science-with-Python-and-Tensorflow/blob/main/17_Numpy.ipynb\" target=\"_parent\"><img src=\"https://colab.research.google.com/assets/colab-badge.svg\" alt=\"Open In Colab\"/></a>"
      ]
    },
    {
      "cell_type": "code",
      "metadata": {
        "id": "VLb8egxxl18c"
      },
      "source": [
        "import numpy as np"
      ],
      "execution_count": 66,
      "outputs": []
    },
    {
      "cell_type": "markdown",
      "metadata": {
        "id": "NxbzVMFroAPu"
      },
      "source": [
        "## Numpy Array"
      ]
    },
    {
      "cell_type": "code",
      "metadata": {
        "id": "wqt_HiKVn0ir",
        "outputId": "f613bfad-0367-47e6-f495-6b9e4e712655",
        "colab": {
          "base_uri": "https://localhost:8080/"
        }
      },
      "source": [
        "myList = [2,3,4]\n",
        "np.array(myList)"
      ],
      "execution_count": 67,
      "outputs": [
        {
          "output_type": "execute_result",
          "data": {
            "text/plain": [
              "array([2, 3, 4])"
            ]
          },
          "metadata": {
            "tags": []
          },
          "execution_count": 67
        }
      ]
    },
    {
      "cell_type": "markdown",
      "metadata": {
        "id": "kmi6ssZfoJZC"
      },
      "source": [
        "## Arange"
      ]
    },
    {
      "cell_type": "code",
      "metadata": {
        "id": "NDRVEgMZoOJs",
        "outputId": "e4a8e5cd-d59d-41d6-825b-d8d253857fa4",
        "colab": {
          "base_uri": "https://localhost:8080/"
        }
      },
      "source": [
        "list(range(0,8))"
      ],
      "execution_count": 68,
      "outputs": [
        {
          "output_type": "execute_result",
          "data": {
            "text/plain": [
              "[0, 1, 2, 3, 4, 5, 6, 7]"
            ]
          },
          "metadata": {
            "tags": []
          },
          "execution_count": 68
        }
      ]
    },
    {
      "cell_type": "code",
      "metadata": {
        "id": "KFa6xk0aoSOt",
        "outputId": "412a49f7-8b6c-4c82-dc18-34ea38f163f0",
        "colab": {
          "base_uri": "https://localhost:8080/"
        }
      },
      "source": [
        "np.arange(0,8)"
      ],
      "execution_count": 69,
      "outputs": [
        {
          "output_type": "execute_result",
          "data": {
            "text/plain": [
              "array([0, 1, 2, 3, 4, 5, 6, 7])"
            ]
          },
          "metadata": {
            "tags": []
          },
          "execution_count": 69
        }
      ]
    },
    {
      "cell_type": "code",
      "metadata": {
        "id": "1ianqHOJoVi-",
        "outputId": "179267cc-8740-4bed-dca8-7f11a40fe6c9",
        "colab": {
          "base_uri": "https://localhost:8080/"
        }
      },
      "source": [
        "np.arange(0,8,2)"
      ],
      "execution_count": 70,
      "outputs": [
        {
          "output_type": "execute_result",
          "data": {
            "text/plain": [
              "array([0, 2, 4, 6])"
            ]
          },
          "metadata": {
            "tags": []
          },
          "execution_count": 70
        }
      ]
    },
    {
      "cell_type": "markdown",
      "metadata": {
        "id": "lelKCHNhoc0F"
      },
      "source": [
        "## Zeros & Ones"
      ]
    },
    {
      "cell_type": "code",
      "metadata": {
        "id": "PLtZcbHbodot",
        "outputId": "d4a14f21-6c96-4ac8-a031-ff5790013b76",
        "colab": {
          "base_uri": "https://localhost:8080/"
        }
      },
      "source": [
        "np.zeros(8)"
      ],
      "execution_count": 71,
      "outputs": [
        {
          "output_type": "execute_result",
          "data": {
            "text/plain": [
              "array([0., 0., 0., 0., 0., 0., 0., 0.])"
            ]
          },
          "metadata": {
            "tags": []
          },
          "execution_count": 71
        }
      ]
    },
    {
      "cell_type": "code",
      "metadata": {
        "id": "nGRjXZUWogI0",
        "outputId": "c635b0a0-07f4-4488-d06c-6973f34c1b12",
        "colab": {
          "base_uri": "https://localhost:8080/"
        }
      },
      "source": [
        "np.zeros((2,2))"
      ],
      "execution_count": 72,
      "outputs": [
        {
          "output_type": "execute_result",
          "data": {
            "text/plain": [
              "array([[0., 0.],\n",
              "       [0., 0.]])"
            ]
          },
          "metadata": {
            "tags": []
          },
          "execution_count": 72
        }
      ]
    },
    {
      "cell_type": "code",
      "metadata": {
        "id": "jOhPgOnDooDV",
        "outputId": "e7a0a3d2-bed2-42bd-eede-00394201315f",
        "colab": {
          "base_uri": "https://localhost:8080/"
        }
      },
      "source": [
        "np.ones(6)"
      ],
      "execution_count": 73,
      "outputs": [
        {
          "output_type": "execute_result",
          "data": {
            "text/plain": [
              "array([1., 1., 1., 1., 1., 1.])"
            ]
          },
          "metadata": {
            "tags": []
          },
          "execution_count": 73
        }
      ]
    },
    {
      "cell_type": "markdown",
      "metadata": {
        "id": "IxfuiO_uorNd"
      },
      "source": [
        "## Linspace"
      ]
    },
    {
      "cell_type": "code",
      "metadata": {
        "id": "Vdftjg_noskH",
        "outputId": "145d6472-6a02-47ac-838c-75c0aed3180b",
        "colab": {
          "base_uri": "https://localhost:8080/"
        }
      },
      "source": [
        "np.linspace(0,30,6)"
      ],
      "execution_count": 74,
      "outputs": [
        {
          "output_type": "execute_result",
          "data": {
            "text/plain": [
              "array([ 0.,  6., 12., 18., 24., 30.])"
            ]
          },
          "metadata": {
            "tags": []
          },
          "execution_count": 74
        }
      ]
    },
    {
      "cell_type": "code",
      "metadata": {
        "id": "1AQRVNqppTD9",
        "outputId": "b83e993b-1bc8-4955-c136-876a73706807",
        "colab": {
          "base_uri": "https://localhost:8080/"
        }
      },
      "source": [
        "np.linspace(0,12,15)"
      ],
      "execution_count": 75,
      "outputs": [
        {
          "output_type": "execute_result",
          "data": {
            "text/plain": [
              "array([ 0.        ,  0.85714286,  1.71428571,  2.57142857,  3.42857143,\n",
              "        4.28571429,  5.14285714,  6.        ,  6.85714286,  7.71428571,\n",
              "        8.57142857,  9.42857143, 10.28571429, 11.14285714, 12.        ])"
            ]
          },
          "metadata": {
            "tags": []
          },
          "execution_count": 75
        }
      ]
    },
    {
      "cell_type": "markdown",
      "metadata": {
        "id": "D-lG7K92qS7C"
      },
      "source": [
        " ## Eye"
      ]
    },
    {
      "cell_type": "code",
      "metadata": {
        "id": "frv7uOA9qT7c",
        "outputId": "80270466-fb24-45f9-c225-4c0bc9436ddb",
        "colab": {
          "base_uri": "https://localhost:8080/"
        }
      },
      "source": [
        "np.eye(8)"
      ],
      "execution_count": 76,
      "outputs": [
        {
          "output_type": "execute_result",
          "data": {
            "text/plain": [
              "array([[1., 0., 0., 0., 0., 0., 0., 0.],\n",
              "       [0., 1., 0., 0., 0., 0., 0., 0.],\n",
              "       [0., 0., 1., 0., 0., 0., 0., 0.],\n",
              "       [0., 0., 0., 1., 0., 0., 0., 0.],\n",
              "       [0., 0., 0., 0., 1., 0., 0., 0.],\n",
              "       [0., 0., 0., 0., 0., 1., 0., 0.],\n",
              "       [0., 0., 0., 0., 0., 0., 1., 0.],\n",
              "       [0., 0., 0., 0., 0., 0., 0., 1.]])"
            ]
          },
          "metadata": {
            "tags": []
          },
          "execution_count": 76
        }
      ]
    },
    {
      "cell_type": "markdown",
      "metadata": {
        "id": "Y2hvLIjLqhI0"
      },
      "source": [
        "## Random"
      ]
    },
    {
      "cell_type": "code",
      "metadata": {
        "id": "UP4tBSNyqjE1",
        "outputId": "0a4f33b6-c864-4742-e36a-f7e3b80a3a7f",
        "colab": {
          "base_uri": "https://localhost:8080/"
        }
      },
      "source": [
        "np.random.randn(4)"
      ],
      "execution_count": 77,
      "outputs": [
        {
          "output_type": "execute_result",
          "data": {
            "text/plain": [
              "array([ 0.15164577, -0.17394512, -0.01497521, -1.06818531])"
            ]
          },
          "metadata": {
            "tags": []
          },
          "execution_count": 77
        }
      ]
    },
    {
      "cell_type": "code",
      "metadata": {
        "id": "iVdR6s0KqqGE",
        "outputId": "e88a7997-3df1-4078-f8a1-eb8ffa4bc4bd",
        "colab": {
          "base_uri": "https://localhost:8080/"
        }
      },
      "source": [
        "np.random.randn(3,3)"
      ],
      "execution_count": 78,
      "outputs": [
        {
          "output_type": "execute_result",
          "data": {
            "text/plain": [
              "array([[-0.59330737, -1.40957317, -0.75717951],\n",
              "       [-1.20885327, -1.13118713, -2.12504966],\n",
              "       [ 1.20535786, -0.4155362 , -0.97552702]])"
            ]
          },
          "metadata": {
            "tags": []
          },
          "execution_count": 78
        }
      ]
    },
    {
      "cell_type": "code",
      "metadata": {
        "id": "FqZDApkiq2KV",
        "outputId": "0af94657-2b82-47d5-96ca-8c897712a866",
        "colab": {
          "base_uri": "https://localhost:8080/"
        }
      },
      "source": [
        "np.random.randint(1,88)"
      ],
      "execution_count": 79,
      "outputs": [
        {
          "output_type": "execute_result",
          "data": {
            "text/plain": [
              "46"
            ]
          },
          "metadata": {
            "tags": []
          },
          "execution_count": 79
        }
      ]
    },
    {
      "cell_type": "code",
      "metadata": {
        "id": "BBY2dXgtq8sF",
        "outputId": "40096d02-e605-4738-93dc-4e05694dd01c",
        "colab": {
          "base_uri": "https://localhost:8080/"
        }
      },
      "source": [
        "np.random.randint(1,88,7)"
      ],
      "execution_count": 80,
      "outputs": [
        {
          "output_type": "execute_result",
          "data": {
            "text/plain": [
              "array([14, 26, 36, 24, 55,  8, 34])"
            ]
          },
          "metadata": {
            "tags": []
          },
          "execution_count": 80
        }
      ]
    },
    {
      "cell_type": "markdown",
      "metadata": {
        "id": "H7Ut_VXrrK4p"
      },
      "source": [
        "## Numpy Array Methods"
      ]
    },
    {
      "cell_type": "code",
      "metadata": {
        "id": "q-DvOc69rM9c",
        "outputId": "73f1f1a8-8842-4e36-f9ba-6fe3a6b3489b",
        "colab": {
          "base_uri": "https://localhost:8080/"
        }
      },
      "source": [
        "myArray = np.random.randint(0,40,12)\n",
        "myArray"
      ],
      "execution_count": 81,
      "outputs": [
        {
          "output_type": "execute_result",
          "data": {
            "text/plain": [
              "array([12, 22, 12, 23, 20,  0, 26, 14, 37, 11,  5,  2])"
            ]
          },
          "metadata": {
            "tags": []
          },
          "execution_count": 81
        }
      ]
    },
    {
      "cell_type": "code",
      "metadata": {
        "id": "o0xJflYWroVk",
        "outputId": "622f8254-9b92-4e65-9b89-8fcbea55e7f0",
        "colab": {
          "base_uri": "https://localhost:8080/"
        }
      },
      "source": [
        "myArray.reshape(4,3)"
      ],
      "execution_count": 82,
      "outputs": [
        {
          "output_type": "execute_result",
          "data": {
            "text/plain": [
              "array([[12, 22, 12],\n",
              "       [23, 20,  0],\n",
              "       [26, 14, 37],\n",
              "       [11,  5,  2]])"
            ]
          },
          "metadata": {
            "tags": []
          },
          "execution_count": 82
        }
      ]
    },
    {
      "cell_type": "code",
      "metadata": {
        "id": "-6VWeVgor8Bb",
        "outputId": "32aa7b9d-a88b-4f1e-ad9e-0855548fdcdf",
        "colab": {
          "base_uri": "https://localhost:8080/"
        }
      },
      "source": [
        "myArray.reshape(2,6)"
      ],
      "execution_count": 83,
      "outputs": [
        {
          "output_type": "execute_result",
          "data": {
            "text/plain": [
              "array([[12, 22, 12, 23, 20,  0],\n",
              "       [26, 14, 37, 11,  5,  2]])"
            ]
          },
          "metadata": {
            "tags": []
          },
          "execution_count": 83
        }
      ]
    },
    {
      "cell_type": "code",
      "metadata": {
        "id": "GuZvCdkcsAR0",
        "outputId": "2cbe4727-98dc-4485-b618-d76ad1d755ba",
        "colab": {
          "base_uri": "https://localhost:8080/"
        }
      },
      "source": [
        "print(\"max number: \",myArray.max())\n",
        "print(\"index of max: \", myArray.argmax())\n",
        "print(\"min number: \",myArray.min())\n",
        "print(\"index of min: \", myArray.argmin())"
      ],
      "execution_count": 84,
      "outputs": [
        {
          "output_type": "stream",
          "text": [
            "max number:  37\n",
            "index of max:  8\n",
            "min number:  0\n",
            "index of min:  5\n"
          ],
          "name": "stdout"
        }
      ]
    },
    {
      "cell_type": "code",
      "metadata": {
        "id": "iC3rdFiitVpA",
        "outputId": "9cc8533b-e541-411e-8a8e-399c841d2b7f",
        "colab": {
          "base_uri": "https://localhost:8080/"
        }
      },
      "source": [
        "myArray.shape"
      ],
      "execution_count": 85,
      "outputs": [
        {
          "output_type": "execute_result",
          "data": {
            "text/plain": [
              "(12,)"
            ]
          },
          "metadata": {
            "tags": []
          },
          "execution_count": 85
        }
      ]
    },
    {
      "cell_type": "markdown",
      "metadata": {
        "id": "JrHze01Ity6i"
      },
      "source": [
        "## Operations"
      ]
    },
    {
      "cell_type": "code",
      "metadata": {
        "id": "8qL1Sc07t5Gl",
        "outputId": "62615abd-ac9d-4a3d-9146-d940f19209f8",
        "colab": {
          "base_uri": "https://localhost:8080/"
        }
      },
      "source": [
        "import numpy as np\n",
        "myArray = np.arange(0,15)\n",
        "myArray"
      ],
      "execution_count": 86,
      "outputs": [
        {
          "output_type": "execute_result",
          "data": {
            "text/plain": [
              "array([ 0,  1,  2,  3,  4,  5,  6,  7,  8,  9, 10, 11, 12, 13, 14])"
            ]
          },
          "metadata": {
            "tags": []
          },
          "execution_count": 86
        }
      ]
    },
    {
      "cell_type": "code",
      "metadata": {
        "id": "9uD594bquJ42",
        "outputId": "30307ccd-f8f8-42a8-82d2-73f2db4af367",
        "colab": {
          "base_uri": "https://localhost:8080/"
        }
      },
      "source": [
        "myArray[3:5]"
      ],
      "execution_count": 87,
      "outputs": [
        {
          "output_type": "execute_result",
          "data": {
            "text/plain": [
              "array([3, 4])"
            ]
          },
          "metadata": {
            "tags": []
          },
          "execution_count": 87
        }
      ]
    },
    {
      "cell_type": "code",
      "metadata": {
        "id": "b2l2MJ2auezs",
        "outputId": "a4121f10-edab-41e1-e7c3-459d45872cdb",
        "colab": {
          "base_uri": "https://localhost:8080/"
        }
      },
      "source": [
        "myArray[3:8] = -3\n",
        "myArray"
      ],
      "execution_count": 88,
      "outputs": [
        {
          "output_type": "execute_result",
          "data": {
            "text/plain": [
              "array([ 0,  1,  2, -3, -3, -3, -3, -3,  8,  9, 10, 11, 12, 13, 14])"
            ]
          },
          "metadata": {
            "tags": []
          },
          "execution_count": 88
        }
      ]
    },
    {
      "cell_type": "code",
      "metadata": {
        "id": "daQ3VcWLuogl",
        "outputId": "14375b20-86ce-43ab-991a-a06cc9286cfa",
        "colab": {
          "base_uri": "https://localhost:8080/"
        }
      },
      "source": [
        "secondArray = np.arange(0,24)\n",
        "secondArray[4:8]"
      ],
      "execution_count": 89,
      "outputs": [
        {
          "output_type": "execute_result",
          "data": {
            "text/plain": [
              "array([4, 5, 6, 7])"
            ]
          },
          "metadata": {
            "tags": []
          },
          "execution_count": 89
        }
      ]
    },
    {
      "cell_type": "markdown",
      "metadata": {
        "id": "8_tHTE8ru4mb"
      },
      "source": [
        "## Matrix"
      ]
    },
    {
      "cell_type": "code",
      "metadata": {
        "id": "qONxgue_u6PL",
        "outputId": "a9eb1317-d025-4ef3-a8f2-a9399d2b0760",
        "colab": {
          "base_uri": "https://localhost:8080/"
        }
      },
      "source": [
        "myList = [[10,20,30],[20,30,40],[40,50,60]]\n",
        "myMatrix = np.array(myList)\n",
        "myMatrix"
      ],
      "execution_count": 90,
      "outputs": [
        {
          "output_type": "execute_result",
          "data": {
            "text/plain": [
              "array([[10, 20, 30],\n",
              "       [20, 30, 40],\n",
              "       [40, 50, 60]])"
            ]
          },
          "metadata": {
            "tags": []
          },
          "execution_count": 90
        }
      ]
    },
    {
      "cell_type": "code",
      "metadata": {
        "id": "kHMsKGFDwew-",
        "outputId": "b75b328f-d513-4622-ef2d-23a22dfd9070",
        "colab": {
          "base_uri": "https://localhost:8080/"
        }
      },
      "source": [
        "myMatrix[0]"
      ],
      "execution_count": 91,
      "outputs": [
        {
          "output_type": "execute_result",
          "data": {
            "text/plain": [
              "array([10, 20, 30])"
            ]
          },
          "metadata": {
            "tags": []
          },
          "execution_count": 91
        }
      ]
    },
    {
      "cell_type": "code",
      "metadata": {
        "id": "lfHqX1H1whL9",
        "outputId": "0ed91946-9dda-4620-d1df-1edaaa8e1e82",
        "colab": {
          "base_uri": "https://localhost:8080/"
        }
      },
      "source": [
        "myMatrix[1][2]"
      ],
      "execution_count": 92,
      "outputs": [
        {
          "output_type": "execute_result",
          "data": {
            "text/plain": [
              "40"
            ]
          },
          "metadata": {
            "tags": []
          },
          "execution_count": 92
        }
      ]
    },
    {
      "cell_type": "code",
      "metadata": {
        "id": "mDyBmgsdwzQJ",
        "outputId": "b6a1cedd-172b-415a-aa5a-82edab31bc40",
        "colab": {
          "base_uri": "https://localhost:8080/"
        }
      },
      "source": [
        "myMatrix[1,2]"
      ],
      "execution_count": 94,
      "outputs": [
        {
          "output_type": "execute_result",
          "data": {
            "text/plain": [
              "40"
            ]
          },
          "metadata": {
            "tags": []
          },
          "execution_count": 94
        }
      ]
    },
    {
      "cell_type": "code",
      "metadata": {
        "id": "r4TUv4-1xDcb",
        "outputId": "0fd63962-5826-4172-8f67-029158ddb918",
        "colab": {
          "base_uri": "https://localhost:8080/"
        }
      },
      "source": [
        "myMatrix[1:,2]"
      ],
      "execution_count": 95,
      "outputs": [
        {
          "output_type": "execute_result",
          "data": {
            "text/plain": [
              "array([40, 60])"
            ]
          },
          "metadata": {
            "tags": []
          },
          "execution_count": 95
        }
      ]
    },
    {
      "cell_type": "code",
      "metadata": {
        "id": "wkl2p-l-xRbT",
        "outputId": "7bec5546-e53f-4e9a-9c06-64430ef72957",
        "colab": {
          "base_uri": "https://localhost:8080/"
        }
      },
      "source": [
        "myMatrix[0:,2]"
      ],
      "execution_count": 96,
      "outputs": [
        {
          "output_type": "execute_result",
          "data": {
            "text/plain": [
              "array([30, 40, 60])"
            ]
          },
          "metadata": {
            "tags": []
          },
          "execution_count": 96
        }
      ]
    }
  ]
}