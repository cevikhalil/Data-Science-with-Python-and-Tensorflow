{
  "nbformat": 4,
  "nbformat_minor": 0,
  "metadata": {
    "colab": {
      "name": "15-Finding_Errors.ipynb",
      "provenance": [],
      "collapsed_sections": [],
      "authorship_tag": "ABX9TyOs64KZP7bA93fuHS430nO0",
      "include_colab_link": true
    },
    "kernelspec": {
      "name": "python3",
      "display_name": "Python 3"
    }
  },
  "cells": [
    {
      "cell_type": "markdown",
      "metadata": {
        "id": "view-in-github",
        "colab_type": "text"
      },
      "source": [
        "<a href=\"https://colab.research.google.com/github/cevikhalil/Data-Science-with-Python-and-Tensorflow/blob/main/15_Finding_Errors.ipynb\" target=\"_parent\"><img src=\"https://colab.research.google.com/assets/colab-badge.svg\" alt=\"Open In Colab\"/></a>"
      ]
    },
    {
      "cell_type": "code",
      "metadata": {
        "id": "VKAbUs-eRCUy",
        "outputId": "5f733f78-a063-4b2e-962e-85ceac9362d8",
        "colab": {
          "base_uri": "https://localhost:8080/"
        }
      },
      "source": [
        "x = int(input(\"Enter first number: \"))\n",
        "y = int(input(\"Enter second number: \"))"
      ],
      "execution_count": null,
      "outputs": [
        {
          "output_type": "stream",
          "text": [
            "Enter first number: 4\n",
            "Enter second number: 6\n"
          ],
          "name": "stdout"
        }
      ]
    },
    {
      "cell_type": "markdown",
      "metadata": {
        "id": "RUsHA7BORnK9"
      },
      "source": [
        "## Try & Except & Else & Finally"
      ]
    },
    {
      "cell_type": "code",
      "metadata": {
        "id": "Jqycx0SXRn7l",
        "outputId": "75cd34de-e3aa-4e56-929f-348beb4c22ef",
        "colab": {
          "base_uri": "https://localhost:8080/"
        }
      },
      "source": [
        "while True:\n",
        "  try:\n",
        "    myInt = int(input(\"Enter your number: \"))\n",
        "  except:\n",
        "    print(\"Please enter a real number!\")\n",
        "    continue\n",
        "  else: \n",
        "    print(\"Thank you\")\n",
        "    break\n",
        "  finally:\n",
        "    print(\"Finally is called\")"
      ],
      "execution_count": null,
      "outputs": [
        {
          "output_type": "stream",
          "text": [
            "Please enter a real number!\n",
            "Finally is called\n",
            "Please enter a real number!\n",
            "Finally is called\n"
          ],
          "name": "stdout"
        }
      ]
    }
  ]
}