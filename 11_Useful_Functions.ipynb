{
  "nbformat": 4,
  "nbformat_minor": 0,
  "metadata": {
    "colab": {
      "name": "11-Useful_Functions.ipynb",
      "provenance": [],
      "collapsed_sections": [],
      "authorship_tag": "ABX9TyO2eVYQ9Z3wZJ0cKipKlE0X",
      "include_colab_link": true
    },
    "kernelspec": {
      "name": "python3",
      "display_name": "Python 3"
    }
  },
  "cells": [
    {
      "cell_type": "markdown",
      "metadata": {
        "id": "view-in-github",
        "colab_type": "text"
      },
      "source": [
        "<a href=\"https://colab.research.google.com/github/cevikhalil/Data-Science-with-Python-and-Tensorflow/blob/main/11_Useful_Functions.ipynb\" target=\"_parent\"><img src=\"https://colab.research.google.com/assets/colab-badge.svg\" alt=\"Open In Colab\"/></a>"
      ]
    },
    {
      "cell_type": "code",
      "metadata": {
        "id": "fq0btkMD0a2e"
      },
      "source": [
        "def divide(num):\n",
        "  return num/2"
      ],
      "execution_count": null,
      "outputs": []
    },
    {
      "cell_type": "code",
      "metadata": {
        "id": "ZeJIQnh20n-k",
        "outputId": "9d1470e4-e185-408e-d760-4cf923c29ad2",
        "colab": {
          "base_uri": "https://localhost:8080/"
        }
      },
      "source": [
        "divide(44)"
      ],
      "execution_count": null,
      "outputs": [
        {
          "output_type": "execute_result",
          "data": {
            "text/plain": [
              "22.0"
            ]
          },
          "metadata": {
            "tags": []
          },
          "execution_count": 3
        }
      ]
    },
    {
      "cell_type": "code",
      "metadata": {
        "id": "q63Q7Oda0sjG"
      },
      "source": [
        "myList = [1,2,3,4,5,6,7,8,9,10]"
      ],
      "execution_count": null,
      "outputs": []
    },
    {
      "cell_type": "code",
      "metadata": {
        "id": "nYc05RTX1AUL",
        "outputId": "12bc7357-f364-438c-cb75-fad3002657d3",
        "colab": {
          "base_uri": "https://localhost:8080/"
        }
      },
      "source": [
        "newList = []\n",
        "\n",
        "for element in myList:\n",
        "  newList.append(divide(element))\n",
        "print(newList)"
      ],
      "execution_count": null,
      "outputs": [
        {
          "output_type": "stream",
          "text": [
            "[0.5, 1.0, 1.5, 2.0, 2.5, 3.0, 3.5, 4.0, 4.5, 5.0]\n"
          ],
          "name": "stdout"
        }
      ]
    },
    {
      "cell_type": "markdown",
      "metadata": {
        "id": "karTbZp61Vne"
      },
      "source": [
        "1- Map"
      ]
    },
    {
      "cell_type": "code",
      "metadata": {
        "id": "IFy5_EFx1XR-",
        "outputId": "13420507-ab11-4bae-ae2e-248a72cb333a",
        "colab": {
          "base_uri": "https://localhost:8080/"
        }
      },
      "source": [
        "list(map(divide, myList))"
      ],
      "execution_count": null,
      "outputs": [
        {
          "output_type": "execute_result",
          "data": {
            "text/plain": [
              "[0.5, 1.0, 1.5, 2.0, 2.5, 3.0, 3.5, 4.0, 4.5, 5.0]"
            ]
          },
          "metadata": {
            "tags": []
          },
          "execution_count": 8
        }
      ]
    },
    {
      "cell_type": "code",
      "metadata": {
        "id": "kXK0jJrv1hCj"
      },
      "source": [
        "def controlFunction(string):\n",
        "  return \"a\" in string"
      ],
      "execution_count": null,
      "outputs": []
    },
    {
      "cell_type": "code",
      "metadata": {
        "id": "wnsrpIvx11qw",
        "outputId": "8d90baa8-a3bb-4815-d692-c86e6ac7a8d3",
        "colab": {
          "base_uri": "https://localhost:8080/"
        }
      },
      "source": [
        "\"a\" in \"Jackson\""
      ],
      "execution_count": null,
      "outputs": [
        {
          "output_type": "execute_result",
          "data": {
            "text/plain": [
              "True"
            ]
          },
          "metadata": {
            "tags": []
          },
          "execution_count": 13
        }
      ]
    },
    {
      "cell_type": "code",
      "metadata": {
        "id": "zEd4zklA180i",
        "outputId": "045be338-e3e3-46e5-f712-8b9514a9987c",
        "colab": {
          "base_uri": "https://localhost:8080/"
        }
      },
      "source": [
        "\"a\" in \"Arthur\""
      ],
      "execution_count": null,
      "outputs": [
        {
          "output_type": "execute_result",
          "data": {
            "text/plain": [
              "False"
            ]
          },
          "metadata": {
            "tags": []
          },
          "execution_count": 14
        }
      ]
    },
    {
      "cell_type": "code",
      "metadata": {
        "id": "I3GK72zK2Hm5",
        "outputId": "1e4ebc33-006b-42b1-c70a-5cb0082cf871",
        "colab": {
          "base_uri": "https://localhost:8080/"
        }
      },
      "source": [
        "controlFunction(\"Cate\")"
      ],
      "execution_count": null,
      "outputs": [
        {
          "output_type": "execute_result",
          "data": {
            "text/plain": [
              "True"
            ]
          },
          "metadata": {
            "tags": []
          },
          "execution_count": 17
        }
      ]
    },
    {
      "cell_type": "code",
      "metadata": {
        "id": "pnKaXBKg2Zxa",
        "outputId": "d7619cd1-75ea-4f96-b7c3-be144bbbffd7",
        "colab": {
          "base_uri": "https://localhost:8080/"
        }
      },
      "source": [
        "stringList = [\"stephen\",\"william\",\"anne\",\"lily\",\"kate\"]\n",
        "result = list(map(controlFunction,stringList))\n",
        "result"
      ],
      "execution_count": null,
      "outputs": [
        {
          "output_type": "execute_result",
          "data": {
            "text/plain": [
              "[False, True, True, False, True]"
            ]
          },
          "metadata": {
            "tags": []
          },
          "execution_count": 27
        }
      ]
    },
    {
      "cell_type": "code",
      "metadata": {
        "id": "hPeJg1Cj28os",
        "outputId": "ed7e365f-f2cd-4bad-9dc1-315dd3bde106",
        "colab": {
          "base_uri": "https://localhost:8080/"
        }
      },
      "source": [
        "result.count(False)"
      ],
      "execution_count": null,
      "outputs": [
        {
          "output_type": "execute_result",
          "data": {
            "text/plain": [
              "2"
            ]
          },
          "metadata": {
            "tags": []
          },
          "execution_count": 28
        }
      ]
    },
    {
      "cell_type": "code",
      "metadata": {
        "id": "VUNLh0Ms3Lar",
        "outputId": "4a3fa875-5e80-4a4b-ed5e-b22440e0b0bf",
        "colab": {
          "base_uri": "https://localhost:8080/"
        }
      },
      "source": [
        "result.count(True)"
      ],
      "execution_count": null,
      "outputs": [
        {
          "output_type": "execute_result",
          "data": {
            "text/plain": [
              "3"
            ]
          },
          "metadata": {
            "tags": []
          },
          "execution_count": 29
        }
      ]
    },
    {
      "cell_type": "markdown",
      "metadata": {
        "id": "xFZthIY23eG5"
      },
      "source": [
        "2- Filter"
      ]
    },
    {
      "cell_type": "code",
      "metadata": {
        "id": "wC7IHN0x3fT5",
        "outputId": "7f65da0b-80e0-4fc2-a9f9-dfdb98def646",
        "colab": {
          "base_uri": "https://localhost:8080/"
        }
      },
      "source": [
        "list(filter(controlFunction,stringList))"
      ],
      "execution_count": null,
      "outputs": [
        {
          "output_type": "execute_result",
          "data": {
            "text/plain": [
              "['william', 'anne', 'kate']"
            ]
          },
          "metadata": {
            "tags": []
          },
          "execution_count": 30
        }
      ]
    },
    {
      "cell_type": "markdown",
      "metadata": {
        "id": "RwqIarJ23xlt"
      },
      "source": [
        "3- Lambda"
      ]
    },
    {
      "cell_type": "code",
      "metadata": {
        "id": "RT_FqoBQ3zdm"
      },
      "source": [
        "multiply = lambda num: num*3"
      ],
      "execution_count": null,
      "outputs": []
    },
    {
      "cell_type": "code",
      "metadata": {
        "id": "54PrM1S034Tl",
        "outputId": "19a04431-1088-47cd-c68b-1aed9e054e90",
        "colab": {
          "base_uri": "https://localhost:8080/"
        }
      },
      "source": [
        "multiply(4)"
      ],
      "execution_count": null,
      "outputs": [
        {
          "output_type": "execute_result",
          "data": {
            "text/plain": [
              "12"
            ]
          },
          "metadata": {
            "tags": []
          },
          "execution_count": 32
        }
      ]
    },
    {
      "cell_type": "code",
      "metadata": {
        "id": "ZgDkenzK38mL"
      },
      "source": [
        "sampleList = [40,80,120]"
      ],
      "execution_count": null,
      "outputs": []
    },
    {
      "cell_type": "code",
      "metadata": {
        "id": "FgkCzokf4Am1",
        "outputId": "a083e0dd-44e2-4507-8b6b-05ffbe56b56b",
        "colab": {
          "base_uri": "https://localhost:8080/"
        }
      },
      "source": [
        "list(map(lambda num: num /4, sampleList))"
      ],
      "execution_count": null,
      "outputs": [
        {
          "output_type": "execute_result",
          "data": {
            "text/plain": [
              "[10.0, 20.0, 30.0]"
            ]
          },
          "metadata": {
            "tags": []
          },
          "execution_count": 34
        }
      ]
    }
  ]
}