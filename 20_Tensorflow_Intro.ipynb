{
  "nbformat": 4,
  "nbformat_minor": 0,
  "metadata": {
    "colab": {
      "name": "20-Tensorflow_Intro.ipynb",
      "provenance": [],
      "collapsed_sections": [
        "15qk9RAR2qHD",
        "q8O0zukB43qI",
        "8GdahMzt6zpg",
        "5k9xHrJyDj_c",
        "LHmNf9y996Hn"
      ],
      "authorship_tag": "ABX9TyN+4lR30c9jm3KoVyiopDll",
      "include_colab_link": true
    },
    "kernelspec": {
      "name": "python3",
      "display_name": "Python 3"
    }
  },
  "cells": [
    {
      "cell_type": "markdown",
      "metadata": {
        "id": "view-in-github",
        "colab_type": "text"
      },
      "source": [
        "<a href=\"https://colab.research.google.com/github/cevikhalil/Data-Science-with-Python-and-Tensorflow/blob/main/20_Tensorflow_Intro.ipynb\" target=\"_parent\"><img src=\"https://colab.research.google.com/assets/colab-badge.svg\" alt=\"Open In Colab\"/></a>"
      ]
    },
    {
      "cell_type": "markdown",
      "metadata": {
        "id": "15qk9RAR2qHD"
      },
      "source": [
        "## Perceptron\n",
        "\n"
      ]
    },
    {
      "cell_type": "markdown",
      "metadata": {
        "id": "424IYrOB6vvp"
      },
      "source": [
        "* In the context of neural networks, a perceptron is an artificial neuron using the Heaviside step function as the activation function. The perceptron algorithm is also termed the single-layer perceptron, to distinguish it from a multilayer perceptron, which is a misnomer for a more complicated neural network. As a linear classifier, the single-layer perceptron is the simplest feedforward neural network.\n"
      ]
    },
    {
      "cell_type": "markdown",
      "metadata": {
        "id": "q8O0zukB43qI"
      },
      "source": [
        "## Activation Functions\n"
      ]
    },
    {
      "cell_type": "markdown",
      "metadata": {
        "id": "GT1-M_Rt6lcT"
      },
      "source": [
        "1. ReLU (Rectified Linear Unit)\n",
        "  * Takes value between 0 and infinity\n",
        "  * Generally used for deep learning\n",
        "---\n",
        "2. Sigmoid\n",
        "  * Takes value between 0 and 1 \n",
        "  * Generally used for classification problems\n",
        "---\n",
        "3. Tanh (Hyperbolic Tangent)\n",
        "  * Takes value between -1 and 1\n",
        "  * Generally used for classification problems\n"
      ]
    },
    {
      "cell_type": "markdown",
      "metadata": {
        "id": "8GdahMzt6zpg"
      },
      "source": [
        "## Regression"
      ]
    },
    {
      "cell_type": "markdown",
      "metadata": {
        "id": "1fBippFD614o"
      },
      "source": [
        "* **Cost Function:** a function that measures the performance of a Machine Learning model for given data. Cost Function quantifies the error between predicted values and expected values and presents it in the form of a single real number. \n",
        "* **Cross Entropy Loss:** measures the performance of a classification model whose output is a probability value between 0 and 1. Cross-entropy loss increases as the predicted probability diverges from the actual label.\n",
        "* **Gradient Descent:** an optimization function which can be used to minimize cost function"
      ]
    },
    {
      "cell_type": "markdown",
      "metadata": {
        "id": "5k9xHrJyDj_c"
      },
      "source": [
        "## Tensorflow Introduction"
      ]
    },
    {
      "cell_type": "code",
      "metadata": {
        "id": "iiEGJ22HGVbx",
        "outputId": "747725d6-f1fe-4d75-b971-c1bd9b339203",
        "colab": {
          "base_uri": "https://localhost:8080/"
        }
      },
      "source": [
        "import pandas as pd\n",
        "from google.colab import drive\n",
        "drive.mount('/content/drive')"
      ],
      "execution_count": 114,
      "outputs": [
        {
          "output_type": "stream",
          "text": [
            "Drive already mounted at /content/drive; to attempt to forcibly remount, call drive.mount(\"/content/drive\", force_remount=True).\n"
          ],
          "name": "stdout"
        }
      ]
    },
    {
      "cell_type": "code",
      "metadata": {
        "id": "A_LFmbxLHejF",
        "outputId": "a3bb9f66-61dd-4392-9436-aaece7c7080f",
        "colab": {
          "base_uri": "https://localhost:8080/",
          "height": 402
        }
      },
      "source": [
        "df = pd.read_excel('/content/drive/My Drive/Veri_bilimi_icin_python_ve_tensorflow/bike_prices.xlsx')\n",
        "df"
      ],
      "execution_count": null,
      "outputs": [
        {
          "output_type": "execute_result",
          "data": {
            "text/html": [
              "<div>\n",
              "<style scoped>\n",
              "    .dataframe tbody tr th:only-of-type {\n",
              "        vertical-align: middle;\n",
              "    }\n",
              "\n",
              "    .dataframe tbody tr th {\n",
              "        vertical-align: top;\n",
              "    }\n",
              "\n",
              "    .dataframe thead th {\n",
              "        text-align: right;\n",
              "    }\n",
              "</style>\n",
              "<table border=\"1\" class=\"dataframe\">\n",
              "  <thead>\n",
              "    <tr style=\"text-align: right;\">\n",
              "      <th></th>\n",
              "      <th>Fiyat</th>\n",
              "      <th>BisikletOzellik1</th>\n",
              "      <th>BisikletOzellik2</th>\n",
              "    </tr>\n",
              "  </thead>\n",
              "  <tbody>\n",
              "    <tr>\n",
              "      <th>0</th>\n",
              "      <td>807.673876</td>\n",
              "      <td>1749.628226</td>\n",
              "      <td>1749.590668</td>\n",
              "    </tr>\n",
              "    <tr>\n",
              "      <th>1</th>\n",
              "      <td>959.227520</td>\n",
              "      <td>1748.007826</td>\n",
              "      <td>1751.824206</td>\n",
              "    </tr>\n",
              "    <tr>\n",
              "      <th>2</th>\n",
              "      <td>718.020033</td>\n",
              "      <td>1750.122967</td>\n",
              "      <td>1747.977026</td>\n",
              "    </tr>\n",
              "    <tr>\n",
              "      <th>3</th>\n",
              "      <td>945.668885</td>\n",
              "      <td>1749.916440</td>\n",
              "      <td>1750.771646</td>\n",
              "    </tr>\n",
              "    <tr>\n",
              "      <th>4</th>\n",
              "      <td>955.542968</td>\n",
              "      <td>1750.780519</td>\n",
              "      <td>1750.592430</td>\n",
              "    </tr>\n",
              "    <tr>\n",
              "      <th>...</th>\n",
              "      <td>...</td>\n",
              "      <td>...</td>\n",
              "      <td>...</td>\n",
              "    </tr>\n",
              "    <tr>\n",
              "      <th>995</th>\n",
              "      <td>833.920637</td>\n",
              "      <td>1750.033229</td>\n",
              "      <td>1749.427281</td>\n",
              "    </tr>\n",
              "    <tr>\n",
              "      <th>996</th>\n",
              "      <td>800.298076</td>\n",
              "      <td>1747.996913</td>\n",
              "      <td>1750.035046</td>\n",
              "    </tr>\n",
              "    <tr>\n",
              "      <th>997</th>\n",
              "      <td>799.261737</td>\n",
              "      <td>1752.540381</td>\n",
              "      <td>1747.983310</td>\n",
              "    </tr>\n",
              "    <tr>\n",
              "      <th>998</th>\n",
              "      <td>705.802257</td>\n",
              "      <td>1751.349290</td>\n",
              "      <td>1747.484989</td>\n",
              "    </tr>\n",
              "    <tr>\n",
              "      <th>999</th>\n",
              "      <td>1048.892414</td>\n",
              "      <td>1748.656426</td>\n",
              "      <td>1752.539962</td>\n",
              "    </tr>\n",
              "  </tbody>\n",
              "</table>\n",
              "<p>1000 rows × 3 columns</p>\n",
              "</div>"
            ],
            "text/plain": [
              "           Fiyat  BisikletOzellik1  BisikletOzellik2\n",
              "0     807.673876       1749.628226       1749.590668\n",
              "1     959.227520       1748.007826       1751.824206\n",
              "2     718.020033       1750.122967       1747.977026\n",
              "3     945.668885       1749.916440       1750.771646\n",
              "4     955.542968       1750.780519       1750.592430\n",
              "..           ...               ...               ...\n",
              "995   833.920637       1750.033229       1749.427281\n",
              "996   800.298076       1747.996913       1750.035046\n",
              "997   799.261737       1752.540381       1747.983310\n",
              "998   705.802257       1751.349290       1747.484989\n",
              "999  1048.892414       1748.656426       1752.539962\n",
              "\n",
              "[1000 rows x 3 columns]"
            ]
          },
          "metadata": {
            "tags": []
          },
          "execution_count": 65
        }
      ]
    },
    {
      "cell_type": "code",
      "metadata": {
        "id": "VDnGPHWnHn5p",
        "outputId": "b39cea1e-b08f-47c4-ad99-152a8c987d21",
        "colab": {
          "base_uri": "https://localhost:8080/",
          "height": 195
        }
      },
      "source": [
        "df.head()"
      ],
      "execution_count": null,
      "outputs": [
        {
          "output_type": "execute_result",
          "data": {
            "text/html": [
              "<div>\n",
              "<style scoped>\n",
              "    .dataframe tbody tr th:only-of-type {\n",
              "        vertical-align: middle;\n",
              "    }\n",
              "\n",
              "    .dataframe tbody tr th {\n",
              "        vertical-align: top;\n",
              "    }\n",
              "\n",
              "    .dataframe thead th {\n",
              "        text-align: right;\n",
              "    }\n",
              "</style>\n",
              "<table border=\"1\" class=\"dataframe\">\n",
              "  <thead>\n",
              "    <tr style=\"text-align: right;\">\n",
              "      <th></th>\n",
              "      <th>Fiyat</th>\n",
              "      <th>BisikletOzellik1</th>\n",
              "      <th>BisikletOzellik2</th>\n",
              "    </tr>\n",
              "  </thead>\n",
              "  <tbody>\n",
              "    <tr>\n",
              "      <th>0</th>\n",
              "      <td>807.673876</td>\n",
              "      <td>1749.628226</td>\n",
              "      <td>1749.590668</td>\n",
              "    </tr>\n",
              "    <tr>\n",
              "      <th>1</th>\n",
              "      <td>959.227520</td>\n",
              "      <td>1748.007826</td>\n",
              "      <td>1751.824206</td>\n",
              "    </tr>\n",
              "    <tr>\n",
              "      <th>2</th>\n",
              "      <td>718.020033</td>\n",
              "      <td>1750.122967</td>\n",
              "      <td>1747.977026</td>\n",
              "    </tr>\n",
              "    <tr>\n",
              "      <th>3</th>\n",
              "      <td>945.668885</td>\n",
              "      <td>1749.916440</td>\n",
              "      <td>1750.771646</td>\n",
              "    </tr>\n",
              "    <tr>\n",
              "      <th>4</th>\n",
              "      <td>955.542968</td>\n",
              "      <td>1750.780519</td>\n",
              "      <td>1750.592430</td>\n",
              "    </tr>\n",
              "  </tbody>\n",
              "</table>\n",
              "</div>"
            ],
            "text/plain": [
              "        Fiyat  BisikletOzellik1  BisikletOzellik2\n",
              "0  807.673876       1749.628226       1749.590668\n",
              "1  959.227520       1748.007826       1751.824206\n",
              "2  718.020033       1750.122967       1747.977026\n",
              "3  945.668885       1749.916440       1750.771646\n",
              "4  955.542968       1750.780519       1750.592430"
            ]
          },
          "metadata": {
            "tags": []
          },
          "execution_count": 66
        }
      ]
    },
    {
      "cell_type": "code",
      "metadata": {
        "id": "YLHZogu3Huwv",
        "outputId": "c69e4bd3-0347-402a-94f2-e2df95d41d97",
        "colab": {
          "base_uri": "https://localhost:8080/",
          "height": 567
        }
      },
      "source": [
        "import seaborn as sbn\n",
        "import matplotlib.pyplot as plt\n",
        "sbn.pairplot(df)"
      ],
      "execution_count": null,
      "outputs": [
        {
          "output_type": "execute_result",
          "data": {
            "text/plain": [
              "<seaborn.axisgrid.PairGrid at 0x7fd0b9d2b2e8>"
            ]
          },
          "metadata": {
            "tags": []
          },
          "execution_count": 67
        },
        {
          "output_type": "display_data",
          "data": {
            "image/png": "[encoded data removed]",
            "text/plain": [
              "<Figure size 540x540 with 12 Axes>"
            ]
          },
          "metadata": {
            "tags": [],
            "needs_background": "light"
          }
        }
      ]
    },
    {
      "cell_type": "markdown",
      "metadata": {
        "id": "B5syl8QkJItq"
      },
      "source": [
        "**Test / Train Split**"
      ]
    },
    {
      "cell_type": "code",
      "metadata": {
        "id": "dZgYNuQTJK3n"
      },
      "source": [
        "from sklearn.model_selection import train_test_split\n",
        "y = df[\"Fiyat\"].values # y -> label\n",
        "x = df[[\"BisikletOzellik1\",\"BisikletOzellik2\"]].values # x -> feature\n",
        "\n",
        "x_train, x_test, y_train, y_test = train_test_split(x,y,test_size=0.33,random_state=15)"
      ],
      "execution_count": null,
      "outputs": []
    },
    {
      "cell_type": "code",
      "metadata": {
        "id": "xgXYW4uXJyxZ",
        "outputId": "31d4380b-53a8-42f5-a5ca-3b14dad203fd",
        "colab": {
          "base_uri": "https://localhost:8080/"
        }
      },
      "source": [
        "x_train"
      ],
      "execution_count": null,
      "outputs": [
        {
          "output_type": "execute_result",
          "data": {
            "text/plain": [
              "array([[1748.374239, 1751.217187],\n",
              "       [1751.580415, 1753.658535],\n",
              "       [1750.727042, 1745.942278],\n",
              "       ...,\n",
              "       [1747.497907, 1750.085896],\n",
              "       [1753.042364, 1746.84704 ],\n",
              "       [1749.557564, 1746.592948]])"
            ]
          },
          "metadata": {
            "tags": []
          },
          "execution_count": 69
        }
      ]
    },
    {
      "cell_type": "code",
      "metadata": {
        "id": "dL8ueVqnJ2PY",
        "outputId": "3a19adf5-1f08-45b8-fb5c-206a46125c49",
        "colab": {
          "base_uri": "https://localhost:8080/"
        }
      },
      "source": [
        "print(x_train.shape)\n",
        "print(y_train.shape)"
      ],
      "execution_count": null,
      "outputs": [
        {
          "output_type": "stream",
          "text": [
            "(670, 2)\n",
            "(670,)\n"
          ],
          "name": "stdout"
        }
      ]
    },
    {
      "cell_type": "code",
      "metadata": {
        "id": "zitZop-5J6NB",
        "outputId": "3dbc2494-7887-4f96-80a0-112747d183eb",
        "colab": {
          "base_uri": "https://localhost:8080/"
        }
      },
      "source": [
        "print(x_test.shape)\n",
        "print(y_test.shape)"
      ],
      "execution_count": null,
      "outputs": [
        {
          "output_type": "stream",
          "text": [
            "(330, 2)\n",
            "(330,)\n"
          ],
          "name": "stdout"
        }
      ]
    },
    {
      "cell_type": "markdown",
      "metadata": {
        "id": "rJLBpy6rKOVi"
      },
      "source": [
        "**Scale**"
      ]
    },
    {
      "cell_type": "markdown",
      "metadata": {
        "id": "LlO8DUjwNjC9"
      },
      "source": [
        ""
      ]
    },
    {
      "cell_type": "code",
      "metadata": {
        "id": "-qktCpmxKXeD",
        "outputId": "caae00ae-4bac-4e5f-fd29-9f47bbe4ad75",
        "colab": {
          "base_uri": "https://localhost:8080/"
        }
      },
      "source": [
        "from sklearn.preprocessing import MinMaxScaler\n",
        "scaler = MinMaxScaler()\n",
        "scaler.fit(x_train)"
      ],
      "execution_count": null,
      "outputs": [
        {
          "output_type": "execute_result",
          "data": {
            "text/plain": [
              "MinMaxScaler(copy=True, feature_range=(0, 1))"
            ]
          },
          "metadata": {
            "tags": []
          },
          "execution_count": 72
        }
      ]
    },
    {
      "cell_type": "code",
      "metadata": {
        "id": "uqU3TmbPKixe",
        "outputId": "bde7df9d-eb37-4f6d-eb67-436eb262eb1a",
        "colab": {
          "base_uri": "https://localhost:8080/"
        }
      },
      "source": [
        "x_train = scaler.transform(x_train)\n",
        "x_test = scaler.transform(x_test)\n",
        "\n",
        "print(x_train)\n",
        "print(x_test)"
      ],
      "execution_count": null,
      "outputs": [
        {
          "output_type": "stream",
          "text": [
            "[[0.3177906  0.64341466]\n",
            " [0.61991638 0.89583174]\n",
            " [0.53950097 0.0980286 ]\n",
            " ...\n",
            " [0.2352117  0.52644765]\n",
            " [0.7576794  0.19157421]\n",
            " [0.4292982  0.16530301]]\n",
            "[[ 0.56706914  0.70743354]\n",
            " [ 0.45694459  0.23213923]\n",
            " [ 0.54990366  0.48049092]\n",
            " [ 0.2940838   0.62874574]\n",
            " [ 0.25255028  0.65552399]\n",
            " [-0.01410839  0.26503552]\n",
            " [ 0.47207615  0.58340399]\n",
            " [ 0.44645595  0.66652423]\n",
            " [ 0.71271197  0.47558898]\n",
            " [ 0.52327593  0.65795133]\n",
            " [ 0.51589828  0.35124843]\n",
            " [ 0.68132069  0.46394647]\n",
            " [ 0.34838222  0.66396795]\n",
            " [ 0.59835704  0.66492102]\n",
            " [ 0.7743903   0.65539702]\n",
            " [ 0.36366154  0.34590211]\n",
            " [ 0.38364758  0.85598251]\n",
            " [ 0.15783877  0.41240613]\n",
            " [ 0.3581219   0.90091814]\n",
            " [ 0.54142039  0.49688287]\n",
            " [ 0.49003412  0.52974122]\n",
            " [ 0.61542611  0.26192082]\n",
            " [ 0.5697328  -0.01882354]\n",
            " [ 0.15993374  0.36593875]\n",
            " [ 0.58693437  0.41410011]\n",
            " [ 0.66459019  0.6746364 ]\n",
            " [ 0.37258234  0.37907714]\n",
            " [ 0.37582535  0.4277929 ]\n",
            " [ 0.36091834  0.57131193]\n",
            " [ 0.39482364  0.43438779]\n",
            " [ 0.23086485  0.14302699]\n",
            " [ 0.56465726  0.36452454]\n",
            " [ 0.41175552  0.37654713]\n",
            " [ 0.29892885  0.33748802]\n",
            " [ 0.44038606  0.54730429]\n",
            " [ 0.44156161  0.49660051]\n",
            " [ 0.59256777  0.6456561 ]\n",
            " [ 0.38235358  0.73500956]\n",
            " [ 0.54677279  0.44564227]\n",
            " [ 0.40511637  0.53621462]\n",
            " [ 0.48107817  0.37579567]\n",
            " [ 0.46325835  0.87201776]\n",
            " [ 0.56767025  0.7302716 ]\n",
            " [ 0.59915264  0.70319631]\n",
            " [ 0.71708595  0.39398944]\n",
            " [ 0.41194379  0.22274137]\n",
            " [ 0.32203596  0.90852648]\n",
            " [ 0.37616034  0.68011817]\n",
            " [ 0.42903906  0.73391174]\n",
            " [ 0.57768631  0.44562511]\n",
            " [ 0.36728459  0.48690219]\n",
            " [ 0.35972159  0.55523233]\n",
            " [ 0.3818354   0.46874812]\n",
            " [ 0.80615229  0.51130912]\n",
            " [ 0.30768832  0.78621697]\n",
            " [ 0.6712856   0.48834968]\n",
            " [ 0.26649734  0.70355694]\n",
            " [ 0.27335341  0.85087017]\n",
            " [ 0.63785739  0.44739126]\n",
            " [ 0.4751682   0.67477691]\n",
            " [ 0.38619459  0.45812485]\n",
            " [ 0.45544987  0.49738918]\n",
            " [ 0.15750358  0.49984579]\n",
            " [ 0.26512551  0.64278003]\n",
            " [ 0.58461823  0.5740477 ]\n",
            " [ 0.27423571  0.4121339 ]\n",
            " [ 0.69295745  0.31579979]\n",
            " [ 0.3698872   0.49035208]\n",
            " [ 0.57599464  0.44652731]\n",
            " [ 0.42444325  0.48547692]\n",
            " [ 0.34815993  0.49476343]\n",
            " [ 0.46311596  0.59734906]\n",
            " [ 0.54078187  0.69923648]\n",
            " [ 0.53688894  0.5687205 ]\n",
            " [ 0.63965431  0.56849283]\n",
            " [ 0.45878956  0.28203976]\n",
            " [ 0.47372851  0.24181822]\n",
            " [ 0.30780046  0.39333187]\n",
            " [ 0.44692853  0.535184  ]\n",
            " [ 0.30649242  0.63840601]\n",
            " [ 0.35201545  0.70167251]\n",
            " [ 0.49821095  0.63797373]\n",
            " [ 0.34456986  0.2754152 ]\n",
            " [ 0.43660876  0.52139703]\n",
            " [ 0.22387271  0.34708936]\n",
            " [ 0.70499094  0.50041703]\n",
            " [ 0.69863402  0.35153844]\n",
            " [ 0.49388898  0.5318985 ]\n",
            " [ 0.31158153  0.59739372]\n",
            " [ 0.47597473  0.23239595]\n",
            " [ 0.62151174  0.35218516]\n",
            " [ 0.37624251  0.3724532 ]\n",
            " [ 0.67041027  0.79282696]\n",
            " [ 0.46796856  0.54110684]\n",
            " [ 0.52777364  0.43801966]\n",
            " [ 0.65666572  0.69038567]\n",
            " [ 0.52803457  0.46534402]\n",
            " [ 0.48784529  0.61624486]\n",
            " [ 0.42953162  0.64540931]\n",
            " [ 0.34839183  0.06978167]\n",
            " [ 0.68062902  0.54613813]\n",
            " [ 0.52565662  0.710983  ]\n",
            " [ 0.38374351  0.56837062]\n",
            " [ 0.54183605  0.69426909]\n",
            " [ 0.33331191  0.22162473]\n",
            " [ 0.2834197   0.3649683 ]\n",
            " [ 0.53599882  0.46601059]\n",
            " [ 0.53597177  0.29539342]\n",
            " [ 0.61185942  0.50137652]\n",
            " [ 0.34677028  0.63989176]\n",
            " [ 0.41560623  0.36492467]\n",
            " [ 0.70286665  0.41401316]\n",
            " [ 0.47291642  0.64069885]\n",
            " [ 0.7699756   0.58886146]\n",
            " [ 0.17781934  0.45013747]\n",
            " [ 0.36054141  0.61102013]\n",
            " [ 0.42134367  0.52109223]\n",
            " [ 0.41033948  0.53941999]\n",
            " [ 0.45001681  0.7123575 ]\n",
            " [ 0.19296391  0.55262715]\n",
            " [ 0.51824062  0.30575293]\n",
            " [ 0.30289321  0.58478397]\n",
            " [ 0.61129562  0.74755086]\n",
            " [ 0.21832487  0.55668665]\n",
            " [ 0.73390456  0.32879137]\n",
            " [ 0.49197776  0.53469248]\n",
            " [ 0.61977852  0.32805346]\n",
            " [ 0.5080001   0.56753666]\n",
            " [ 0.66965387  0.52329014]\n",
            " [ 0.38392349  0.61663931]\n",
            " [ 0.15560895  0.75913455]\n",
            " [ 0.49430247  0.76745072]\n",
            " [ 0.66265155  0.60615779]\n",
            " [ 0.49718693  0.41914039]\n",
            " [ 0.30970461  0.45964616]\n",
            " [ 0.41972645  0.42352909]\n",
            " [ 0.30598516  0.43846755]\n",
            " [ 0.30090274  0.44506213]\n",
            " [ 0.40581868  0.3195121 ]\n",
            " [ 0.42436928  0.84722093]\n",
            " [ 0.32163095  0.32924795]\n",
            " [ 0.4881228   0.63398671]\n",
            " [ 0.54889641  0.28413005]\n",
            " [ 0.65374517  0.45083547]\n",
            " [ 0.78430581  0.49465673]\n",
            " [ 0.51633816  0.18127932]\n",
            " [ 0.21779058  0.48799143]\n",
            " [ 0.33004035  0.4848699 ]\n",
            " [ 0.38842931  0.55136028]\n",
            " [ 0.21553465  0.49499647]\n",
            " [ 0.42860786  0.16822726]\n",
            " [ 0.63592591  0.15744714]\n",
            " [ 0.3885945   0.39253419]\n",
            " [ 0.24728693  0.84011331]\n",
            " [ 0.73591812  0.66280158]\n",
            " [ 0.57761497  0.49648905]\n",
            " [ 0.40781019  0.3627374 ]\n",
            " [ 0.66756021  0.32144637]\n",
            " [ 0.22692245  0.64405156]\n",
            " [ 0.41893753  0.63886704]\n",
            " [ 0.46192336  0.20253744]\n",
            " [ 0.37766373  0.53680892]\n",
            " [ 0.48240186  0.52089557]\n",
            " [ 0.15953316  0.39071376]\n",
            " [ 0.64257891  0.48294287]\n",
            " [ 0.51878962  0.63885598]\n",
            " [ 0.78793103  0.72395949]\n",
            " [ 0.74046012  0.30216201]\n",
            " [ 0.44918502  0.37169088]\n",
            " [ 0.44187644  0.63393563]\n",
            " [ 0.54083549  0.29763456]\n",
            " [ 0.39201146  0.72071224]\n",
            " [ 0.65419814  0.83835275]\n",
            " [ 0.38868185  0.5892008 ]\n",
            " [ 0.48828875  0.51717768]\n",
            " [ 0.27011276  0.35482085]\n",
            " [ 0.22296036  0.33253376]\n",
            " [ 0.53932927  0.32956681]\n",
            " [ 0.49964602  0.60712523]\n",
            " [ 0.17096817  0.46240313]\n",
            " [ 0.50191165  0.37474324]\n",
            " [ 0.36743857  0.50045095]\n",
            " [ 0.44863281  0.31616208]\n",
            " [ 0.50371582  0.55664622]\n",
            " [ 0.42472614  0.53849877]\n",
            " [ 0.32981061  0.28170477]\n",
            " [ 0.7555783   0.59659708]\n",
            " [ 0.5036524   0.58527426]\n",
            " [ 0.82222702  0.66530544]\n",
            " [ 0.35592195  0.47185599]\n",
            " [ 0.69319379  0.41353941]\n",
            " [ 0.51079305  0.24454819]\n",
            " [ 0.42370372  0.30009747]\n",
            " [ 0.4580063   0.36016986]\n",
            " [ 0.19808441  0.42944108]\n",
            " [ 0.44487417  0.77197745]\n",
            " [ 0.60746319  0.34611695]\n",
            " [ 0.53597356  0.46458698]\n",
            " [ 0.5182557   0.81013145]\n",
            " [ 0.27351389  0.27811808]\n",
            " [ 0.63279551  0.53402125]\n",
            " [ 0.31806303  0.34515013]\n",
            " [ 0.41942095  0.18780132]\n",
            " [ 0.67400467  0.27097108]\n",
            " [ 0.44145777  0.20712341]\n",
            " [ 0.70830848  0.55230053]\n",
            " [ 0.39519209  0.74095256]\n",
            " [ 0.25462255  0.34199883]\n",
            " [ 0.56898403  0.54387518]\n",
            " [ 0.29521619  0.55103955]\n",
            " [ 0.34341231  0.88488041]\n",
            " [ 0.42479474  0.59182418]\n",
            " [ 0.30905234  0.61259066]\n",
            " [ 0.6523625   0.54798844]\n",
            " [ 0.76049384  0.5631249 ]\n",
            " [ 0.7795793   0.36916118]\n",
            " [ 0.59908941  0.42780293]\n",
            " [ 0.40269177  0.50861306]\n",
            " [ 0.56222908  0.21410644]\n",
            " [ 0.70353363  0.95642378]\n",
            " [ 0.66989265  0.47822683]\n",
            " [ 0.28831253  0.20935462]\n",
            " [ 0.28292997  0.52013812]\n",
            " [ 0.50654703  0.63663345]\n",
            " [ 0.41409314  0.52419876]\n",
            " [ 0.57491804  0.37040902]\n",
            " [ 0.62397328  0.21368749]\n",
            " [ 0.15923265  0.57307467]\n",
            " [ 0.72999514  0.5042043 ]\n",
            " [ 0.59822803  0.50654883]\n",
            " [ 0.45964199  0.66813064]\n",
            " [ 0.63945303  0.51673547]\n",
            " [ 0.53232328  0.52306061]\n",
            " [ 0.59785883  0.3015582 ]\n",
            " [ 0.5155385   0.71259665]\n",
            " [ 0.4239017   0.85107137]\n",
            " [ 0.55247847  0.63711754]\n",
            " [ 0.37083414  0.73039091]\n",
            " [ 0.66732067  0.5621191 ]\n",
            " [ 0.51583524  0.4692351 ]\n",
            " [ 0.47110433  0.67588363]\n",
            " [ 0.32530545  0.3011377 ]\n",
            " [ 0.54625498  0.50461622]\n",
            " [ 0.65290735  0.65262279]\n",
            " [ 0.47432331  0.40783422]\n",
            " [ 0.39129379  0.1996166 ]\n",
            " [ 0.18260437  0.34892044]\n",
            " [ 0.73246667  0.52403767]\n",
            " [ 0.46866324  0.52340398]\n",
            " [ 0.57048026  0.69727946]\n",
            " [ 0.39583419  0.52316214]\n",
            " [ 0.50089262  0.35059178]\n",
            " [ 0.21652362  0.25751744]\n",
            " [ 0.31106288  0.59544302]\n",
            " [ 0.34579394  0.46994158]\n",
            " [ 0.47302384  0.48946322]\n",
            " [ 0.39479179  0.57156927]\n",
            " [ 0.3555029   0.61712742]\n",
            " [ 0.52312064  0.19211733]\n",
            " [ 0.49115888  0.67860626]\n",
            " [ 0.27416589  0.32881019]\n",
            " [ 0.3980364   0.56583926]\n",
            " [ 0.28223425  0.52119014]\n",
            " [ 0.56944973  0.51805094]\n",
            " [ 0.37344683  0.67438764]\n",
            " [ 0.22179856  0.54046995]\n",
            " [ 0.5674505   0.47461368]\n",
            " [ 0.57023978  0.79996311]\n",
            " [ 0.42784863  0.69630737]\n",
            " [ 0.46139961  0.49255207]\n",
            " [ 0.60950587  0.69284475]\n",
            " [ 0.56159018  0.61600582]\n",
            " [ 0.1905362   0.31848324]\n",
            " [ 0.10876383  0.31365791]\n",
            " [ 0.70485326  0.51841209]\n",
            " [ 0.47737295  0.71592723]\n",
            " [ 0.6363182   0.52187946]\n",
            " [ 0.6244614   0.47637383]\n",
            " [ 0.45555692 -0.02603092]\n",
            " [ 0.85019106  0.49719036]\n",
            " [ 0.72797658  0.43944461]\n",
            " [ 0.40612164  0.48622528]\n",
            " [ 0.49564519  0.57623838]\n",
            " [ 0.59548596  0.51828853]\n",
            " [ 0.60702133  0.58194668]\n",
            " [ 0.43826376  0.64942683]\n",
            " [ 0.64810555  0.53396604]\n",
            " [ 0.30079418  0.3001106 ]\n",
            " [ 0.34412254  0.69275842]\n",
            " [ 0.56559016  0.59177031]\n",
            " [ 0.63065153  0.44708015]\n",
            " [ 0.56774111  0.44768045]\n",
            " [ 0.38488231  0.39556649]\n",
            " [ 0.2706317   0.70295685]\n",
            " [ 0.35697339  0.59140264]\n",
            " [ 0.50956634  0.41960452]\n",
            " [ 0.55548448  0.5871255 ]\n",
            " [ 0.22432852  0.59265121]\n",
            " [ 0.39602774  0.71734578]\n",
            " [ 0.52224295  0.17921147]\n",
            " [ 0.3327369   0.23417999]\n",
            " [ 0.44905564  0.35004732]\n",
            " [ 0.46391732  0.44072813]\n",
            " [ 0.62407938  0.45657375]\n",
            " [ 0.66573832  0.82723423]\n",
            " [ 0.29092164  0.29718449]\n",
            " [ 0.5252059   0.68358544]\n",
            " [ 0.35891637  0.32868374]\n",
            " [ 0.6664086   0.71659329]\n",
            " [ 0.48787375  0.42286759]\n",
            " [ 0.42197625  0.93763126]\n",
            " [ 0.21626118  0.5424769 ]\n",
            " [ 0.41472233  0.27600681]\n",
            " [ 0.09025065  0.72892688]\n",
            " [ 0.38709017  0.61620919]\n",
            " [ 0.54463447  0.44597033]\n",
            " [ 0.57143003  0.22727482]\n",
            " [ 0.67758626  0.54974001]\n",
            " [ 0.57300503  0.72004422]\n",
            " [ 0.17424633  0.54815304]\n",
            " [ 0.69796138  0.43144886]\n",
            " [ 0.60976943  0.66281481]\n",
            " [ 0.45857745  0.64564556]\n",
            " [ 0.2630457   0.42942505]\n",
            " [ 0.16605301  0.35632883]\n",
            " [ 0.5952093   0.61845385]\n",
            " [ 0.31564182  0.49730223]\n",
            " [ 0.54624801  0.35371248]\n",
            " [ 0.66522438  0.76350236]\n",
            " [ 0.2393012   0.54917074]]\n"
          ],
          "name": "stdout"
        }
      ]
    },
    {
      "cell_type": "markdown",
      "metadata": {
        "id": "RdFbKAIXLc_Z"
      },
      "source": [
        "**Tensorflow**"
      ]
    },
    {
      "cell_type": "code",
      "metadata": {
        "id": "-w7JQHkoKxxs"
      },
      "source": [
        "import tensorflow as tf\n",
        "from tensorflow.keras.models import Sequential\n",
        "from tensorflow.keras.layers import Dense"
      ],
      "execution_count": null,
      "outputs": []
    },
    {
      "cell_type": "code",
      "metadata": {
        "id": "ZBKopqW_MuxE",
        "outputId": "1e844b33-27f0-4882-e18a-7651902f37f7",
        "colab": {
          "base_uri": "https://localhost:8080/"
        }
      },
      "source": [
        "model = Sequential()\n",
        "\n",
        "model.add(Dense(5,activation=\"relu\"))\n",
        "model.add(Dense(5,activation=\"relu\"))\n",
        "model.add(Dense(5,activation=\"relu\"))\n",
        "\n",
        "model.add(Dense(1))\n",
        "\n",
        "model.compile(optimizer = \"rmsprop\", loss = \"mse\" )\n",
        "# mse -> mean squared error\n",
        "# rms -> root mean square \n",
        "model.fit(x_train,y_train,epochs = 250)"
      ],
      "execution_count": null,
      "outputs": [
        {
          "output_type": "stream",
          "text": [
            "Epoch 1/250\n",
            "21/21 [==============================] - 0s 1ms/step - loss: 797754.1875\n",
            "Epoch 2/250\n",
            "21/21 [==============================] - 0s 1ms/step - loss: 797139.4375\n",
            "Epoch 3/250\n",
            "21/21 [==============================] - 0s 956us/step - loss: 796692.5625\n",
            "Epoch 4/250\n",
            "21/21 [==============================] - 0s 930us/step - loss: 796320.3750\n",
            "Epoch 5/250\n",
            "21/21 [==============================] - 0s 959us/step - loss: 796028.7500\n",
            "Epoch 6/250\n",
            "21/21 [==============================] - 0s 970us/step - loss: 795828.5000\n",
            "Epoch 7/250\n",
            "21/21 [==============================] - 0s 992us/step - loss: 795703.1250\n",
            "Epoch 8/250\n",
            "21/21 [==============================] - 0s 1ms/step - loss: 795626.5000\n",
            "Epoch 9/250\n",
            "21/21 [==============================] - 0s 1ms/step - loss: 795567.3125\n",
            "Epoch 10/250\n",
            "21/21 [==============================] - 0s 1ms/step - loss: 795506.3750\n",
            "Epoch 11/250\n",
            "21/21 [==============================] - 0s 1ms/step - loss: 795431.7500\n",
            "Epoch 12/250\n",
            "21/21 [==============================] - 0s 1ms/step - loss: 795341.0000\n",
            "Epoch 13/250\n",
            "21/21 [==============================] - 0s 954us/step - loss: 795234.9375\n",
            "Epoch 14/250\n",
            "21/21 [==============================] - 0s 1ms/step - loss: 795110.6875\n",
            "Epoch 15/250\n",
            "21/21 [==============================] - 0s 918us/step - loss: 794965.3125\n",
            "Epoch 16/250\n",
            "21/21 [==============================] - 0s 927us/step - loss: 794794.4375\n",
            "Epoch 17/250\n",
            "21/21 [==============================] - 0s 945us/step - loss: 794596.8750\n",
            "Epoch 18/250\n",
            "21/21 [==============================] - 0s 1ms/step - loss: 794371.9375\n",
            "Epoch 19/250\n",
            "21/21 [==============================] - 0s 1ms/step - loss: 794117.3125\n",
            "Epoch 20/250\n",
            "21/21 [==============================] - 0s 1ms/step - loss: 793832.8125\n",
            "Epoch 21/250\n",
            "21/21 [==============================] - 0s 1ms/step - loss: 793514.1250\n",
            "Epoch 22/250\n",
            "21/21 [==============================] - 0s 1ms/step - loss: 793162.8750\n",
            "Epoch 23/250\n",
            "21/21 [==============================] - 0s 1ms/step - loss: 792776.3125\n",
            "Epoch 24/250\n",
            "21/21 [==============================] - 0s 1ms/step - loss: 792354.9375\n",
            "Epoch 25/250\n",
            "21/21 [==============================] - 0s 1ms/step - loss: 791895.6875\n",
            "Epoch 26/250\n",
            "21/21 [==============================] - 0s 1ms/step - loss: 791393.2500\n",
            "Epoch 27/250\n",
            "21/21 [==============================] - 0s 1ms/step - loss: 790836.8750\n",
            "Epoch 28/250\n",
            "21/21 [==============================] - 0s 1ms/step - loss: 790220.0625\n",
            "Epoch 29/250\n",
            "21/21 [==============================] - 0s 1ms/step - loss: 789536.8125\n",
            "Epoch 30/250\n",
            "21/21 [==============================] - 0s 1ms/step - loss: 788779.4375\n",
            "Epoch 31/250\n",
            "21/21 [==============================] - 0s 1ms/step - loss: 787956.4375\n",
            "Epoch 32/250\n",
            "21/21 [==============================] - 0s 1ms/step - loss: 787055.6250\n",
            "Epoch 33/250\n",
            "21/21 [==============================] - 0s 1ms/step - loss: 786066.0000\n",
            "Epoch 34/250\n",
            "21/21 [==============================] - 0s 1ms/step - loss: 784997.7500\n",
            "Epoch 35/250\n",
            "21/21 [==============================] - 0s 1ms/step - loss: 783834.4375\n",
            "Epoch 36/250\n",
            "21/21 [==============================] - 0s 1ms/step - loss: 782576.5000\n",
            "Epoch 37/250\n",
            "21/21 [==============================] - 0s 1ms/step - loss: 781223.0000\n",
            "Epoch 38/250\n",
            "21/21 [==============================] - 0s 1ms/step - loss: 779760.6250\n",
            "Epoch 39/250\n",
            "21/21 [==============================] - 0s 1ms/step - loss: 778175.8750\n",
            "Epoch 40/250\n",
            "21/21 [==============================] - 0s 1ms/step - loss: 776479.7500\n",
            "Epoch 41/250\n",
            "21/21 [==============================] - 0s 1ms/step - loss: 774669.6875\n",
            "Epoch 42/250\n",
            "21/21 [==============================] - 0s 2ms/step - loss: 772723.5000\n",
            "Epoch 43/250\n",
            "21/21 [==============================] - 0s 1ms/step - loss: 770660.8750\n",
            "Epoch 44/250\n",
            "21/21 [==============================] - 0s 1ms/step - loss: 768444.1250\n",
            "Epoch 45/250\n",
            "21/21 [==============================] - 0s 1ms/step - loss: 766092.4375\n",
            "Epoch 46/250\n",
            "21/21 [==============================] - 0s 1ms/step - loss: 763584.5000\n",
            "Epoch 47/250\n",
            "21/21 [==============================] - 0s 1ms/step - loss: 760917.5000\n",
            "Epoch 48/250\n",
            "21/21 [==============================] - 0s 1ms/step - loss: 758112.6875\n",
            "Epoch 49/250\n",
            "21/21 [==============================] - 0s 1ms/step - loss: 755121.9375\n",
            "Epoch 50/250\n",
            "21/21 [==============================] - 0s 1ms/step - loss: 751950.3125\n",
            "Epoch 51/250\n",
            "21/21 [==============================] - 0s 1ms/step - loss: 748623.0625\n",
            "Epoch 52/250\n",
            "21/21 [==============================] - 0s 1ms/step - loss: 745105.6875\n",
            "Epoch 53/250\n",
            "21/21 [==============================] - 0s 1ms/step - loss: 741387.3750\n",
            "Epoch 54/250\n",
            "21/21 [==============================] - 0s 1ms/step - loss: 737484.3125\n",
            "Epoch 55/250\n",
            "21/21 [==============================] - 0s 1ms/step - loss: 733386.4375\n",
            "Epoch 56/250\n",
            "21/21 [==============================] - 0s 1ms/step - loss: 729082.8125\n",
            "Epoch 57/250\n",
            "21/21 [==============================] - 0s 1ms/step - loss: 724542.5625\n",
            "Epoch 58/250\n",
            "21/21 [==============================] - 0s 2ms/step - loss: 719818.8125\n",
            "Epoch 59/250\n",
            "21/21 [==============================] - 0s 1ms/step - loss: 714845.5625\n",
            "Epoch 60/250\n",
            "21/21 [==============================] - 0s 993us/step - loss: 709669.5625\n",
            "Epoch 61/250\n",
            "21/21 [==============================] - 0s 1ms/step - loss: 704227.0625\n",
            "Epoch 62/250\n",
            "21/21 [==============================] - 0s 1ms/step - loss: 698578.1875\n",
            "Epoch 63/250\n",
            "21/21 [==============================] - 0s 1ms/step - loss: 692664.1875\n",
            "Epoch 64/250\n",
            "21/21 [==============================] - 0s 954us/step - loss: 686506.9375\n",
            "Epoch 65/250\n",
            "21/21 [==============================] - 0s 1ms/step - loss: 680100.0625\n",
            "Epoch 66/250\n",
            "21/21 [==============================] - 0s 907us/step - loss: 673431.3750\n",
            "Epoch 67/250\n",
            "21/21 [==============================] - 0s 1ms/step - loss: 666471.8125\n",
            "Epoch 68/250\n",
            "21/21 [==============================] - 0s 1ms/step - loss: 659284.7500\n",
            "Epoch 69/250\n",
            "21/21 [==============================] - 0s 1ms/step - loss: 651840.3125\n",
            "Epoch 70/250\n",
            "21/21 [==============================] - 0s 1ms/step - loss: 644115.1250\n",
            "Epoch 71/250\n",
            "21/21 [==============================] - 0s 1ms/step - loss: 636138.0625\n",
            "Epoch 72/250\n",
            "21/21 [==============================] - 0s 1ms/step - loss: 627837.0625\n",
            "Epoch 73/250\n",
            "21/21 [==============================] - 0s 1ms/step - loss: 619229.3750\n",
            "Epoch 74/250\n",
            "21/21 [==============================] - 0s 1ms/step - loss: 610444.5625\n",
            "Epoch 75/250\n",
            "21/21 [==============================] - 0s 1ms/step - loss: 601315.3125\n",
            "Epoch 76/250\n",
            "21/21 [==============================] - 0s 1ms/step - loss: 591911.6250\n",
            "Epoch 77/250\n",
            "21/21 [==============================] - 0s 1ms/step - loss: 582171.6875\n",
            "Epoch 78/250\n",
            "21/21 [==============================] - 0s 1ms/step - loss: 572196.5000\n",
            "Epoch 79/250\n",
            "21/21 [==============================] - 0s 1ms/step - loss: 561960.8750\n",
            "Epoch 80/250\n",
            "21/21 [==============================] - 0s 1ms/step - loss: 551413.9375\n",
            "Epoch 81/250\n",
            "21/21 [==============================] - 0s 1ms/step - loss: 540626.7500\n",
            "Epoch 82/250\n",
            "21/21 [==============================] - 0s 1ms/step - loss: 529578.0000\n",
            "Epoch 83/250\n",
            "21/21 [==============================] - 0s 1ms/step - loss: 518168.7500\n",
            "Epoch 84/250\n",
            "21/21 [==============================] - 0s 1ms/step - loss: 506550.2500\n",
            "Epoch 85/250\n",
            "21/21 [==============================] - 0s 1ms/step - loss: 494680.4688\n",
            "Epoch 86/250\n",
            "21/21 [==============================] - 0s 1ms/step - loss: 482502.2188\n",
            "Epoch 87/250\n",
            "21/21 [==============================] - 0s 1ms/step - loss: 470064.0938\n",
            "Epoch 88/250\n",
            "21/21 [==============================] - 0s 1ms/step - loss: 457462.8438\n",
            "Epoch 89/250\n",
            "21/21 [==============================] - 0s 1ms/step - loss: 444568.8438\n",
            "Epoch 90/250\n",
            "21/21 [==============================] - 0s 1ms/step - loss: 431403.2188\n",
            "Epoch 91/250\n",
            "21/21 [==============================] - 0s 964us/step - loss: 418044.7500\n",
            "Epoch 92/250\n",
            "21/21 [==============================] - 0s 1ms/step - loss: 404559.6562\n",
            "Epoch 93/250\n",
            "21/21 [==============================] - 0s 953us/step - loss: 390891.7500\n",
            "Epoch 94/250\n",
            "21/21 [==============================] - 0s 907us/step - loss: 377019.8750\n",
            "Epoch 95/250\n",
            "21/21 [==============================] - 0s 1ms/step - loss: 362935.6562\n",
            "Epoch 96/250\n",
            "21/21 [==============================] - 0s 1ms/step - loss: 348733.2812\n",
            "Epoch 97/250\n",
            "21/21 [==============================] - 0s 1ms/step - loss: 334369.5312\n",
            "Epoch 98/250\n",
            "21/21 [==============================] - 0s 1ms/step - loss: 319996.8438\n",
            "Epoch 99/250\n",
            "21/21 [==============================] - 0s 1ms/step - loss: 305538.0938\n",
            "Epoch 100/250\n",
            "21/21 [==============================] - 0s 1ms/step - loss: 290944.5625\n",
            "Epoch 101/250\n",
            "21/21 [==============================] - 0s 1ms/step - loss: 276267.9062\n",
            "Epoch 102/250\n",
            "21/21 [==============================] - 0s 1ms/step - loss: 261632.4844\n",
            "Epoch 103/250\n",
            "21/21 [==============================] - 0s 1ms/step - loss: 247005.9219\n",
            "Epoch 104/250\n",
            "21/21 [==============================] - 0s 1ms/step - loss: 232427.6250\n",
            "Epoch 105/250\n",
            "21/21 [==============================] - 0s 1ms/step - loss: 217917.5938\n",
            "Epoch 106/250\n",
            "21/21 [==============================] - 0s 1ms/step - loss: 203570.4531\n",
            "Epoch 107/250\n",
            "21/21 [==============================] - 0s 1ms/step - loss: 189348.0781\n",
            "Epoch 108/250\n",
            "21/21 [==============================] - 0s 1ms/step - loss: 175319.8906\n",
            "Epoch 109/250\n",
            "21/21 [==============================] - 0s 1ms/step - loss: 161439.6250\n",
            "Epoch 110/250\n",
            "21/21 [==============================] - 0s 969us/step - loss: 147808.5781\n",
            "Epoch 111/250\n",
            "21/21 [==============================] - 0s 1ms/step - loss: 134458.7656\n",
            "Epoch 112/250\n",
            "21/21 [==============================] - 0s 1ms/step - loss: 121589.3828\n",
            "Epoch 113/250\n",
            "21/21 [==============================] - 0s 1ms/step - loss: 109068.5000\n",
            "Epoch 114/250\n",
            "21/21 [==============================] - 0s 991us/step - loss: 97027.3828\n",
            "Epoch 115/250\n",
            "21/21 [==============================] - 0s 1ms/step - loss: 85495.5469\n",
            "Epoch 116/250\n",
            "21/21 [==============================] - 0s 1ms/step - loss: 74580.8359\n",
            "Epoch 117/250\n",
            "21/21 [==============================] - 0s 1ms/step - loss: 64109.3477\n",
            "Epoch 118/250\n",
            "21/21 [==============================] - 0s 923us/step - loss: 54378.4492\n",
            "Epoch 119/250\n",
            "21/21 [==============================] - 0s 1ms/step - loss: 45367.6719\n",
            "Epoch 120/250\n",
            "21/21 [==============================] - 0s 2ms/step - loss: 37176.9258\n",
            "Epoch 121/250\n",
            "21/21 [==============================] - 0s 1ms/step - loss: 29836.5254\n",
            "Epoch 122/250\n",
            "21/21 [==============================] - 0s 1ms/step - loss: 23444.0918\n",
            "Epoch 123/250\n",
            "21/21 [==============================] - 0s 1ms/step - loss: 17967.4883\n",
            "Epoch 124/250\n",
            "21/21 [==============================] - 0s 1ms/step - loss: 13520.1445\n",
            "Epoch 125/250\n",
            "21/21 [==============================] - 0s 1ms/step - loss: 10120.9287\n",
            "Epoch 126/250\n",
            "21/21 [==============================] - 0s 1ms/step - loss: 7819.6963\n",
            "Epoch 127/250\n",
            "21/21 [==============================] - 0s 1ms/step - loss: 6492.1709\n",
            "Epoch 128/250\n",
            "21/21 [==============================] - 0s 1ms/step - loss: 5980.3574\n",
            "Epoch 129/250\n",
            "21/21 [==============================] - 0s 1ms/step - loss: 5845.6792\n",
            "Epoch 130/250\n",
            "21/21 [==============================] - 0s 1ms/step - loss: 5755.3403\n",
            "Epoch 131/250\n",
            "21/21 [==============================] - 0s 1ms/step - loss: 5673.6938\n",
            "Epoch 132/250\n",
            "21/21 [==============================] - 0s 1ms/step - loss: 5592.5142\n",
            "Epoch 133/250\n",
            "21/21 [==============================] - 0s 1ms/step - loss: 5516.2285\n",
            "Epoch 134/250\n",
            "21/21 [==============================] - 0s 1ms/step - loss: 5423.2324\n",
            "Epoch 135/250\n",
            "21/21 [==============================] - 0s 1ms/step - loss: 5346.8848\n",
            "Epoch 136/250\n",
            "21/21 [==============================] - 0s 1ms/step - loss: 5267.4541\n",
            "Epoch 137/250\n",
            "21/21 [==============================] - 0s 1ms/step - loss: 5178.8330\n",
            "Epoch 138/250\n",
            "21/21 [==============================] - 0s 1ms/step - loss: 5107.8130\n",
            "Epoch 139/250\n",
            "21/21 [==============================] - 0s 1ms/step - loss: 5028.4199\n",
            "Epoch 140/250\n",
            "21/21 [==============================] - 0s 1ms/step - loss: 4966.3467\n",
            "Epoch 141/250\n",
            "21/21 [==============================] - 0s 1ms/step - loss: 4892.3428\n",
            "Epoch 142/250\n",
            "21/21 [==============================] - 0s 1ms/step - loss: 4814.0664\n",
            "Epoch 143/250\n",
            "21/21 [==============================] - 0s 1ms/step - loss: 4735.3516\n",
            "Epoch 144/250\n",
            "21/21 [==============================] - 0s 1ms/step - loss: 4657.6489\n",
            "Epoch 145/250\n",
            "21/21 [==============================] - 0s 1ms/step - loss: 4583.5386\n",
            "Epoch 146/250\n",
            "21/21 [==============================] - 0s 1ms/step - loss: 4506.8442\n",
            "Epoch 147/250\n",
            "21/21 [==============================] - 0s 1ms/step - loss: 4433.6465\n",
            "Epoch 148/250\n",
            "21/21 [==============================] - 0s 996us/step - loss: 4355.6260\n",
            "Epoch 149/250\n",
            "21/21 [==============================] - 0s 1ms/step - loss: 4284.5991\n",
            "Epoch 150/250\n",
            "21/21 [==============================] - 0s 1ms/step - loss: 4210.4263\n",
            "Epoch 151/250\n",
            "21/21 [==============================] - 0s 1ms/step - loss: 4141.4717\n",
            "Epoch 152/250\n",
            "21/21 [==============================] - 0s 1ms/step - loss: 4067.3193\n",
            "Epoch 153/250\n",
            "21/21 [==============================] - 0s 1ms/step - loss: 3998.6548\n",
            "Epoch 154/250\n",
            "21/21 [==============================] - 0s 1ms/step - loss: 3921.8635\n",
            "Epoch 155/250\n",
            "21/21 [==============================] - 0s 1ms/step - loss: 3853.7952\n",
            "Epoch 156/250\n",
            "21/21 [==============================] - 0s 1ms/step - loss: 3791.6736\n",
            "Epoch 157/250\n",
            "21/21 [==============================] - 0s 1ms/step - loss: 3717.0178\n",
            "Epoch 158/250\n",
            "21/21 [==============================] - 0s 1ms/step - loss: 3650.8025\n",
            "Epoch 159/250\n",
            "21/21 [==============================] - 0s 1ms/step - loss: 3574.6660\n",
            "Epoch 160/250\n",
            "21/21 [==============================] - 0s 1ms/step - loss: 3489.7451\n",
            "Epoch 161/250\n",
            "21/21 [==============================] - 0s 1ms/step - loss: 3430.3557\n",
            "Epoch 162/250\n",
            "21/21 [==============================] - 0s 1ms/step - loss: 3352.8933\n",
            "Epoch 163/250\n",
            "21/21 [==============================] - 0s 1ms/step - loss: 3291.4993\n",
            "Epoch 164/250\n",
            "21/21 [==============================] - 0s 1ms/step - loss: 3234.9585\n",
            "Epoch 165/250\n",
            "21/21 [==============================] - 0s 1ms/step - loss: 3165.2007\n",
            "Epoch 166/250\n",
            "21/21 [==============================] - 0s 1ms/step - loss: 3097.9377\n",
            "Epoch 167/250\n",
            "21/21 [==============================] - 0s 1ms/step - loss: 3024.7278\n",
            "Epoch 168/250\n",
            "21/21 [==============================] - 0s 988us/step - loss: 2961.1211\n",
            "Epoch 169/250\n",
            "21/21 [==============================] - 0s 987us/step - loss: 2899.2346\n",
            "Epoch 170/250\n",
            "21/21 [==============================] - 0s 1ms/step - loss: 2834.6663\n",
            "Epoch 171/250\n",
            "21/21 [==============================] - 0s 1ms/step - loss: 2766.1460\n",
            "Epoch 172/250\n",
            "21/21 [==============================] - 0s 1ms/step - loss: 2703.0293\n",
            "Epoch 173/250\n",
            "21/21 [==============================] - 0s 1ms/step - loss: 2643.1079\n",
            "Epoch 174/250\n",
            "21/21 [==============================] - 0s 1ms/step - loss: 2582.4485\n",
            "Epoch 175/250\n",
            "21/21 [==============================] - 0s 1ms/step - loss: 2524.2007\n",
            "Epoch 176/250\n",
            "21/21 [==============================] - 0s 992us/step - loss: 2463.4521\n",
            "Epoch 177/250\n",
            "21/21 [==============================] - 0s 1ms/step - loss: 2406.3088\n",
            "Epoch 178/250\n",
            "21/21 [==============================] - 0s 1ms/step - loss: 2350.6499\n",
            "Epoch 179/250\n",
            "21/21 [==============================] - 0s 1ms/step - loss: 2294.7903\n",
            "Epoch 180/250\n",
            "21/21 [==============================] - 0s 1ms/step - loss: 2237.1506\n",
            "Epoch 181/250\n",
            "21/21 [==============================] - 0s 1ms/step - loss: 2174.7346\n",
            "Epoch 182/250\n",
            "21/21 [==============================] - 0s 1ms/step - loss: 2126.8962\n",
            "Epoch 183/250\n",
            "21/21 [==============================] - 0s 1ms/step - loss: 2073.2234\n",
            "Epoch 184/250\n",
            "21/21 [==============================] - 0s 1ms/step - loss: 2017.6537\n",
            "Epoch 185/250\n",
            "21/21 [==============================] - 0s 1ms/step - loss: 1959.5686\n",
            "Epoch 186/250\n",
            "21/21 [==============================] - 0s 1ms/step - loss: 1907.5074\n",
            "Epoch 187/250\n",
            "21/21 [==============================] - 0s 1ms/step - loss: 1852.7903\n",
            "Epoch 188/250\n",
            "21/21 [==============================] - 0s 1ms/step - loss: 1794.1373\n",
            "Epoch 189/250\n",
            "21/21 [==============================] - 0s 1ms/step - loss: 1744.6776\n",
            "Epoch 190/250\n",
            "21/21 [==============================] - 0s 2ms/step - loss: 1699.2870\n",
            "Epoch 191/250\n",
            "21/21 [==============================] - 0s 1ms/step - loss: 1652.6805\n",
            "Epoch 192/250\n",
            "21/21 [==============================] - 0s 1ms/step - loss: 1599.3785\n",
            "Epoch 193/250\n",
            "21/21 [==============================] - 0s 1ms/step - loss: 1549.0793\n",
            "Epoch 194/250\n",
            "21/21 [==============================] - 0s 1ms/step - loss: 1495.7153\n",
            "Epoch 195/250\n",
            "21/21 [==============================] - 0s 1ms/step - loss: 1450.0425\n",
            "Epoch 196/250\n",
            "21/21 [==============================] - 0s 1ms/step - loss: 1402.2618\n",
            "Epoch 197/250\n",
            "21/21 [==============================] - 0s 1ms/step - loss: 1352.2474\n",
            "Epoch 198/250\n",
            "21/21 [==============================] - 0s 1ms/step - loss: 1312.4603\n",
            "Epoch 199/250\n",
            "21/21 [==============================] - 0s 1ms/step - loss: 1267.3483\n",
            "Epoch 200/250\n",
            "21/21 [==============================] - 0s 1ms/step - loss: 1225.0907\n",
            "Epoch 201/250\n",
            "21/21 [==============================] - 0s 1ms/step - loss: 1182.4323\n",
            "Epoch 202/250\n",
            "21/21 [==============================] - 0s 1ms/step - loss: 1141.7292\n",
            "Epoch 203/250\n",
            "21/21 [==============================] - 0s 1ms/step - loss: 1097.7767\n",
            "Epoch 204/250\n",
            "21/21 [==============================] - 0s 1ms/step - loss: 1056.5671\n",
            "Epoch 205/250\n",
            "21/21 [==============================] - 0s 1ms/step - loss: 1011.6653\n",
            "Epoch 206/250\n",
            "21/21 [==============================] - 0s 1ms/step - loss: 971.8596\n",
            "Epoch 207/250\n",
            "21/21 [==============================] - 0s 1ms/step - loss: 932.5997\n",
            "Epoch 208/250\n",
            "21/21 [==============================] - 0s 1ms/step - loss: 896.0928\n",
            "Epoch 209/250\n",
            "21/21 [==============================] - 0s 1ms/step - loss: 856.3384\n",
            "Epoch 210/250\n",
            "21/21 [==============================] - 0s 1ms/step - loss: 822.1288\n",
            "Epoch 211/250\n",
            "21/21 [==============================] - 0s 1ms/step - loss: 783.5162\n",
            "Epoch 212/250\n",
            "21/21 [==============================] - 0s 1ms/step - loss: 747.8464\n",
            "Epoch 213/250\n",
            "21/21 [==============================] - 0s 1ms/step - loss: 715.2194\n",
            "Epoch 214/250\n",
            "21/21 [==============================] - 0s 1ms/step - loss: 685.2426\n",
            "Epoch 215/250\n",
            "21/21 [==============================] - 0s 1ms/step - loss: 651.6794\n",
            "Epoch 216/250\n",
            "21/21 [==============================] - 0s 1ms/step - loss: 619.5507\n",
            "Epoch 217/250\n",
            "21/21 [==============================] - 0s 1ms/step - loss: 589.7030\n",
            "Epoch 218/250\n",
            "21/21 [==============================] - 0s 1ms/step - loss: 558.2055\n",
            "Epoch 219/250\n",
            "21/21 [==============================] - 0s 1ms/step - loss: 529.1678\n",
            "Epoch 220/250\n",
            "21/21 [==============================] - 0s 1ms/step - loss: 501.5828\n",
            "Epoch 221/250\n",
            "21/21 [==============================] - 0s 1ms/step - loss: 477.2308\n",
            "Epoch 222/250\n",
            "21/21 [==============================] - 0s 1ms/step - loss: 450.4354\n",
            "Epoch 223/250\n",
            "21/21 [==============================] - 0s 1ms/step - loss: 424.8069\n",
            "Epoch 224/250\n",
            "21/21 [==============================] - 0s 2ms/step - loss: 400.6904\n",
            "Epoch 225/250\n",
            "21/21 [==============================] - 0s 1ms/step - loss: 376.8557\n",
            "Epoch 226/250\n",
            "21/21 [==============================] - 0s 1ms/step - loss: 353.2551\n",
            "Epoch 227/250\n",
            "21/21 [==============================] - 0s 1ms/step - loss: 334.7371\n",
            "Epoch 228/250\n",
            "21/21 [==============================] - 0s 1ms/step - loss: 316.7112\n",
            "Epoch 229/250\n",
            "21/21 [==============================] - 0s 1ms/step - loss: 297.5988\n",
            "Epoch 230/250\n",
            "21/21 [==============================] - 0s 1ms/step - loss: 280.2737\n",
            "Epoch 231/250\n",
            "21/21 [==============================] - 0s 1ms/step - loss: 262.9747\n",
            "Epoch 232/250\n",
            "21/21 [==============================] - 0s 1ms/step - loss: 247.3248\n",
            "Epoch 233/250\n",
            "21/21 [==============================] - 0s 1ms/step - loss: 234.9608\n",
            "Epoch 234/250\n",
            "21/21 [==============================] - 0s 1ms/step - loss: 219.8819\n",
            "Epoch 235/250\n",
            "21/21 [==============================] - 0s 1ms/step - loss: 209.3104\n",
            "Epoch 236/250\n",
            "21/21 [==============================] - 0s 1ms/step - loss: 199.0287\n",
            "Epoch 237/250\n",
            "21/21 [==============================] - 0s 1ms/step - loss: 185.7623\n",
            "Epoch 238/250\n",
            "21/21 [==============================] - 0s 1ms/step - loss: 175.0757\n",
            "Epoch 239/250\n",
            "21/21 [==============================] - 0s 1ms/step - loss: 165.3090\n",
            "Epoch 240/250\n",
            "21/21 [==============================] - 0s 1ms/step - loss: 157.4321\n",
            "Epoch 241/250\n",
            "21/21 [==============================] - 0s 1ms/step - loss: 147.9282\n",
            "Epoch 242/250\n",
            "21/21 [==============================] - 0s 1ms/step - loss: 140.9530\n",
            "Epoch 243/250\n",
            "21/21 [==============================] - 0s 1ms/step - loss: 133.8465\n",
            "Epoch 244/250\n",
            "21/21 [==============================] - 0s 1ms/step - loss: 125.5271\n",
            "Epoch 245/250\n",
            "21/21 [==============================] - 0s 1ms/step - loss: 119.8741\n",
            "Epoch 246/250\n",
            "21/21 [==============================] - 0s 1ms/step - loss: 115.2365\n",
            "Epoch 247/250\n",
            "21/21 [==============================] - 0s 1ms/step - loss: 111.0028\n",
            "Epoch 248/250\n",
            "21/21 [==============================] - 0s 1ms/step - loss: 105.8407\n",
            "Epoch 249/250\n",
            "21/21 [==============================] - 0s 1ms/step - loss: 102.4350\n",
            "Epoch 250/250\n",
            "21/21 [==============================] - 0s 1ms/step - loss: 99.4257\n"
          ],
          "name": "stdout"
        },
        {
          "output_type": "execute_result",
          "data": {
            "text/plain": [
              "<tensorflow.python.keras.callbacks.History at 0x7fd0b96a4f28>"
            ]
          },
          "metadata": {
            "tags": []
          },
          "execution_count": 75
        }
      ]
    },
    {
      "cell_type": "code",
      "metadata": {
        "id": "kU3UeP9KNnrN"
      },
      "source": [
        "loss = model.history.history[\"loss\"]"
      ],
      "execution_count": null,
      "outputs": []
    },
    {
      "cell_type": "code",
      "metadata": {
        "id": "HKy84wCqQlO-",
        "outputId": "f4e25ba3-1328-4634-911a-ec3cf85e2715",
        "colab": {
          "base_uri": "https://localhost:8080/",
          "height": 282
        }
      },
      "source": [
        "sbn.lineplot(x=range(len(loss)),y=loss)"
      ],
      "execution_count": null,
      "outputs": [
        {
          "output_type": "execute_result",
          "data": {
            "text/plain": [
              "<matplotlib.axes._subplots.AxesSubplot at 0x7fd0c100bfd0>"
            ]
          },
          "metadata": {
            "tags": []
          },
          "execution_count": 77
        },
        {
          "output_type": "display_data",
          "data": {
            "image/png": "[encoded data removed]",
            "text/plain": [
              "<Figure size 432x288 with 1 Axes>"
            ]
          },
          "metadata": {
            "tags": [],
            "needs_background": "light"
          }
        }
      ]
    },
    {
      "cell_type": "code",
      "metadata": {
        "id": "yRYYi2-1RLbj",
        "outputId": "89d75b80-4a67-4c79-9f5e-0967ebc38eac",
        "colab": {
          "base_uri": "https://localhost:8080/"
        }
      },
      "source": [
        "trainLoss = model.evaluate(x_train,y_train,verbose=0)\n",
        "trainLoss"
      ],
      "execution_count": null,
      "outputs": [
        {
          "output_type": "execute_result",
          "data": {
            "text/plain": [
              "96.17283630371094"
            ]
          },
          "metadata": {
            "tags": []
          },
          "execution_count": 78
        }
      ]
    },
    {
      "cell_type": "code",
      "metadata": {
        "id": "7LcmTwRgRa4Y",
        "outputId": "c2bfb7e3-1a79-4e8d-8539-07cfae3ee57d",
        "colab": {
          "base_uri": "https://localhost:8080/"
        }
      },
      "source": [
        "testLoss = model.evaluate(x_test,y_test,verbose=0)\n",
        "testLoss"
      ],
      "execution_count": null,
      "outputs": [
        {
          "output_type": "execute_result",
          "data": {
            "text/plain": [
              "94.12112426757812"
            ]
          },
          "metadata": {
            "tags": []
          },
          "execution_count": 79
        }
      ]
    },
    {
      "cell_type": "code",
      "metadata": {
        "id": "AucOy-PASJmi",
        "outputId": "87fce7df-559c-451f-c627-72218b81b310",
        "colab": {
          "base_uri": "https://localhost:8080/"
        }
      },
      "source": [
        "testPrediction = model.predict(x_test)\n",
        "testPrediction"
      ],
      "execution_count": null,
      "outputs": [
        {
          "output_type": "execute_result",
          "data": {
            "text/plain": [
              "array([[1072.3696 ],\n",
              "       [ 630.6836 ],\n",
              "       [ 875.9457 ],\n",
              "       [ 895.15173],\n",
              "       [ 900.53033],\n",
              "       [ 465.6638 ],\n",
              "       [ 930.0378 ],\n",
              "       [ 988.94257],\n",
              "       [ 938.379  ],\n",
              "       [1013.17676],\n",
              "       [ 754.183  ],\n",
              "       [ 915.83527],\n",
              "       [ 946.7355 ],\n",
              "       [1049.6725 ],\n",
              "       [1113.652  ],\n",
              "       [ 687.51575],\n",
              "       [1121.4037 ],\n",
              "       [ 658.9205 ],\n",
              "       [1148.4777 ],\n",
              "       [ 886.16034],\n",
              "       [ 892.5877 ],\n",
              "       [ 720.29645],\n",
              "       [ 467.31204],\n",
              "       [ 620.994  ],\n",
              "       [ 835.66583],\n",
              "       [1084.8444 ],\n",
              "       [ 718.8493 ],\n",
              "       [ 760.8334 ],\n",
              "       [ 874.5256 ],\n",
              "       [ 774.10046],\n",
              "       [ 463.93127],\n",
              "       [ 785.18665],\n",
              "       [ 732.7442 ],\n",
              "       [ 654.043  ],\n",
              "       [ 886.9595 ],\n",
              "       [ 845.12164],\n",
              "       [1031.2281 ],\n",
              "       [1019.9088 ],\n",
              "       [ 845.5811 ],\n",
              "       [ 863.2925 ],\n",
              "       [ 760.4427 ],\n",
              "       [1167.3165 ],\n",
              "       [1091.6763 ],\n",
              "       [1081.9426 ],\n",
              "       [ 872.062  ],\n",
              "       [ 604.45233],\n",
              "       [1140.0828 ],\n",
              "       [ 971.565  ],\n",
              "       [1038.0687 ],\n",
              "       [ 858.19824],\n",
              "       [ 806.6771 ],\n",
              "       [ 860.61633],\n",
              "       [ 797.47107],\n",
              "       [1006.372  ],\n",
              "       [1032.1385 ],\n",
              "       [ 932.10223],\n",
              "       [ 946.3183 ],\n",
              "       [1072.0698 ],\n",
              "       [ 884.25867],\n",
              "       [1007.5625 ],\n",
              "       [ 790.38586],\n",
              "       [ 851.4548 ],\n",
              "       [ 731.7621 ],\n",
              "       [ 895.0324 ],\n",
              "       [ 968.21423],\n",
              "       [ 706.25385],\n",
              "       [ 796.9446 ],\n",
              "       [ 810.61993],\n",
              "       [ 858.26   ],\n",
              "       [ 828.843  ],\n",
              "       [ 805.4238 ],\n",
              "       [ 938.0153 ],\n",
              "       [1054.7871 ],\n",
              "       [ 944.26556],\n",
              "       [ 986.0663 ],\n",
              "       [ 673.08527],\n",
              "       [ 645.6199 ],\n",
              "       [ 704.2761 ],\n",
              "       [ 879.51697],\n",
              "       [ 908.28467],\n",
              "       [ 979.68884],\n",
              "       [ 986.26135],\n",
              "       [ 620.88525],\n",
              "       [ 863.79346],\n",
              "       [ 631.38794],\n",
              "       [ 955.94617],\n",
              "       [ 829.0921 ],\n",
              "       [ 895.96326],\n",
              "       [ 876.1345 ],\n",
              "       [ 638.6737 ],\n",
              "       [ 798.1192 ],\n",
              "       [ 714.81647],\n",
              "       [1185.8662 ],\n",
              "       [ 893.05743],\n",
              "       [ 831.456  ],\n",
              "       [1094.751  ],\n",
              "       [ 854.3679 ],\n",
              "       [ 963.8906 ],\n",
              "       [ 964.40436],\n",
              "       [ 450.8219 ],\n",
              "       [ 984.1511 ],\n",
              "       [1058.4106 ],\n",
              "       [ 881.3973 ],\n",
              "       [1051.072  ],\n",
              "       [ 571.3908 ],\n",
              "       [ 670.64136],\n",
              "       [ 858.1785 ],\n",
              "       [ 715.76764],\n",
              "       [ 918.6927 ],\n",
              "       [ 925.98236],\n",
              "       [ 724.61725],\n",
              "       [ 882.964  ],\n",
              "       [ 978.20026],\n",
              "       [1056.3164 ],\n",
              "       [ 698.57587],\n",
              "       [ 907.51263],\n",
              "       [ 857.3015 ],\n",
              "       [ 868.1019 ],\n",
              "       [1028.6509 ],\n",
              "       [ 790.3036 ],\n",
              "       [ 717.16876],\n",
              "       [ 862.06006],\n",
              "       [1123.9235 ],\n",
              "       [ 804.0543 ],\n",
              "       [ 824.5188 ],\n",
              "       [ 897.51416],\n",
              "       [ 777.2702 ],\n",
              "       [ 931.4734 ],\n",
              "       [ 960.5974 ],\n",
              "       [ 921.75665],\n",
              "       [ 947.39453],\n",
              "       [1092.728  ],\n",
              "       [1026.8989 ],\n",
              "       [ 803.20105],\n",
              "       [ 760.4012 ],\n",
              "       [ 775.2131 ],\n",
              "       [ 741.20544],\n",
              "       [ 744.6327 ],\n",
              "       [ 682.71594],\n",
              "       [1130.7303 ],\n",
              "       [ 656.44196],\n",
              "       [ 978.81165],\n",
              "       [ 711.64813],\n",
              "       [ 893.6251 ],\n",
              "       [ 983.54706],\n",
              "       [ 612.50366],\n",
              "       [ 746.5019 ],\n",
              "       [ 789.76263],\n",
              "       [ 869.1147 ],\n",
              "       [ 751.4267 ],\n",
              "       [ 565.76306],\n",
              "       [ 641.4774 ],\n",
              "       [ 736.62354],\n",
              "       [1052.441  ],\n",
              "       [1104.1119 ],\n",
              "       [ 900.62103],\n",
              "       [ 719.6062 ],\n",
              "       [ 791.2798 ],\n",
              "       [ 880.4836 ],\n",
              "       [ 954.61523],\n",
              "       [ 608.0118 ],\n",
              "       [ 852.57104],\n",
              "       [ 882.0863 ],\n",
              "       [ 641.508  ],\n",
              "       [ 915.8599 ],\n",
              "       [ 995.4062 ],\n",
              "       [1176.4083 ],\n",
              "       [ 804.97217],\n",
              "       [ 743.9849 ],\n",
              "       [ 959.8724 ],\n",
              "       [ 719.6254 ],\n",
              "       [1011.9224 ],\n",
              "       [1217.2385 ],\n",
              "       [ 900.80023],\n",
              "       [ 881.38873],\n",
              "       [ 656.7348 ],\n",
              "       [ 618.8668 ],\n",
              "       [ 745.6612 ],\n",
              "       [ 961.101  ],\n",
              "       [ 706.01355],\n",
              "       [ 768.0771 ],\n",
              "       [ 818.04803],\n",
              "       [ 697.4142 ],\n",
              "       [ 920.63336],\n",
              "       [ 873.2114 ],\n",
              "       [ 620.104  ],\n",
              "       [1056.8899 ],\n",
              "       [ 944.50085],\n",
              "       [1141.4681 ],\n",
              "       [ 789.4765 ],\n",
              "       [ 878.6162 ],\n",
              "       [ 663.0432 ],\n",
              "       [ 673.8202 ],\n",
              "       [ 737.9738 ],\n",
              "       [ 689.58276],\n",
              "       [1076.3092 ],\n",
              "       [ 787.3142 ],\n",
              "       [ 856.98004],\n",
              "       [1138.1375 ],\n",
              "       [ 594.1072 ],\n",
              "       [ 954.49316],\n",
              "       [ 668.2563 ],\n",
              "       [ 578.346  ],\n",
              "       [ 751.7856 ],\n",
              "       [ 603.4769 ],\n",
              "       [1000.60443],\n",
              "       [1030.115  ],\n",
              "       [ 639.704  ],\n",
              "       [ 936.6435 ],\n",
              "       [ 830.75964],\n",
              "       [1129.0819 ],\n",
              "       [ 917.7457 ],\n",
              "       [ 887.78467],\n",
              "       [ 974.1455 ],\n",
              "       [1030.9619 ],\n",
              "       [ 876.8751 ],\n",
              "       [ 852.06903],\n",
              "       [ 839.265  ],\n",
              "       [ 658.65314],\n",
              "       [1335.9413 ],\n",
              "       [ 923.08435],\n",
              "       [ 542.76294],\n",
              "       [ 799.9485 ],\n",
              "       [ 988.549  ],\n",
              "       [ 856.93176],\n",
              "       [ 794.2906 ],\n",
              "       [ 683.53253],\n",
              "       [ 793.5866 ],\n",
              "       [ 969.32385],\n",
              "       [ 917.43964],\n",
              "       [ 995.6712 ],\n",
              "       [ 942.78644],\n",
              "       [ 904.29156],\n",
              "       [ 746.2004 ],\n",
              "       [1055.623  ],\n",
              "       [1133.7529 ],\n",
              "       [1007.72076],\n",
              "       [1011.34717],\n",
              "       [ 992.0512 ],\n",
              "       [ 852.6308 ],\n",
              "       [1006.8256 ],\n",
              "       [ 634.4821 ],\n",
              "       [ 894.59015],\n",
              "       [1061.6979 ],\n",
              "       [ 784.4225 ],\n",
              "       [ 576.7143 ],\n",
              "       [ 616.0537 ],\n",
              "       [ 986.887  ],\n",
              "       [ 878.56616],\n",
              "       [1065.2887 ],\n",
              "       [ 848.6059 ],\n",
              "       [ 747.5035 ],\n",
              "       [ 553.6269 ],\n",
              "       [ 874.2945 ],\n",
              "       [ 783.7403 ],\n",
              "       [ 852.02045],\n",
              "       [ 888.5813 ],\n",
              "       [ 910.55115],\n",
              "       [ 624.3207 ],\n",
              "       [1017.29236],\n",
              "       [ 636.682  ],\n",
              "       [ 885.1247 ],\n",
              "       [ 800.54224],\n",
              "       [ 915.28046],\n",
              "       [ 965.6734 ],\n",
              "       [ 791.93896],\n",
              "       [ 878.21014],\n",
              "       [1150.8918 ],\n",
              "       [1006.19696],\n",
              "       [ 849.84863],\n",
              "       [1077.5336 ],\n",
              "       [ 993.8238 ],\n",
              "       [ 593.8913 ],\n",
              "       [ 556.4513 ],\n",
              "       [ 970.9088 ],\n",
              "       [1042.808  ],\n",
              "       [ 945.7987 ],\n",
              "       [ 902.9743 ],\n",
              "       [ 414.6436 ],\n",
              "       [1012.5828 ],\n",
              "       [ 914.4495 ],\n",
              "       [ 821.98126],\n",
              "       [ 933.68756],\n",
              "       [ 926.11743],\n",
              "       [ 983.961  ],\n",
              "       [ 971.32544],\n",
              "       [ 960.7029 ],\n",
              "       [ 623.60944],\n",
              "       [ 969.0239 ],\n",
              "       [ 975.23083],\n",
              "       [ 881.0546 ],\n",
              "       [ 855.85004],\n",
              "       [ 737.63745],\n",
              "       [ 947.50684],\n",
              "       [ 889.6817 ],\n",
              "       [ 808.6467 ],\n",
              "       [ 967.2249 ],\n",
              "       [ 836.524  ],\n",
              "       [1010.7537 ],\n",
              "       [ 613.19055],\n",
              "       [ 581.6347 ],\n",
              "       [ 725.8681 ],\n",
              "       [ 807.6244 ],\n",
              "       [ 886.2927 ],\n",
              "       [1212.6741 ],\n",
              "       [ 617.13324],\n",
              "       [1035.36   ],\n",
              "       [ 671.2062 ],\n",
              "       [1120.6052 ],\n",
              "       [ 802.5064 ],\n",
              "       [1205.2104 ],\n",
              "       [ 791.35144],\n",
              "       [ 650.0439 ],\n",
              "       [ 895.4768 ],\n",
              "       [ 922.6916 ],\n",
              "       [ 844.9812 ],\n",
              "       [ 673.4032 ],\n",
              "       [ 985.91406],\n",
              "       [1085.3202 ],\n",
              "       [ 778.9213 ],\n",
              "       [ 895.5117 ],\n",
              "       [1052.5778 ],\n",
              "       [ 976.46985],\n",
              "       [ 716.113  ],\n",
              "       [ 615.4738 ],\n",
              "       [1009.60394],\n",
              "       [ 794.25555],\n",
              "       [ 768.64056],\n",
              "       [1159.2726 ],\n",
              "       [ 806.3525 ]], dtype=float32)"
            ]
          },
          "metadata": {
            "tags": []
          },
          "execution_count": 80
        }
      ]
    },
    {
      "cell_type": "code",
      "metadata": {
        "id": "WuVUFtnoSVUl",
        "outputId": "dc4c88d7-8041-482d-9dd6-733efe887183",
        "colab": {
          "base_uri": "https://localhost:8080/",
          "height": 402
        }
      },
      "source": [
        "predictionDf = pd.DataFrame(y_test,columns = [\"Real Y\"])\n",
        "predictionDf"
      ],
      "execution_count": null,
      "outputs": [
        {
          "output_type": "execute_result",
          "data": {
            "text/html": [
              "<div>\n",
              "<style scoped>\n",
              "    .dataframe tbody tr th:only-of-type {\n",
              "        vertical-align: middle;\n",
              "    }\n",
              "\n",
              "    .dataframe tbody tr th {\n",
              "        vertical-align: top;\n",
              "    }\n",
              "\n",
              "    .dataframe thead th {\n",
              "        text-align: right;\n",
              "    }\n",
              "</style>\n",
              "<table border=\"1\" class=\"dataframe\">\n",
              "  <thead>\n",
              "    <tr style=\"text-align: right;\">\n",
              "      <th></th>\n",
              "      <th>Real Y</th>\n",
              "    </tr>\n",
              "  </thead>\n",
              "  <tbody>\n",
              "    <tr>\n",
              "      <th>0</th>\n",
              "      <td>1081.652164</td>\n",
              "    </tr>\n",
              "    <tr>\n",
              "      <th>1</th>\n",
              "      <td>622.675990</td>\n",
              "    </tr>\n",
              "    <tr>\n",
              "      <th>2</th>\n",
              "      <td>889.356810</td>\n",
              "    </tr>\n",
              "    <tr>\n",
              "      <th>3</th>\n",
              "      <td>902.826733</td>\n",
              "    </tr>\n",
              "    <tr>\n",
              "      <th>4</th>\n",
              "      <td>897.662404</td>\n",
              "    </tr>\n",
              "    <tr>\n",
              "      <th>...</th>\n",
              "      <td>...</td>\n",
              "    </tr>\n",
              "    <tr>\n",
              "      <th>325</th>\n",
              "      <td>1028.438035</td>\n",
              "    </tr>\n",
              "    <tr>\n",
              "      <th>326</th>\n",
              "      <td>789.934950</td>\n",
              "    </tr>\n",
              "    <tr>\n",
              "      <th>327</th>\n",
              "      <td>758.490486</td>\n",
              "    </tr>\n",
              "    <tr>\n",
              "      <th>328</th>\n",
              "      <td>1172.871659</td>\n",
              "    </tr>\n",
              "    <tr>\n",
              "      <th>329</th>\n",
              "      <td>820.947936</td>\n",
              "    </tr>\n",
              "  </tbody>\n",
              "</table>\n",
              "<p>330 rows × 1 columns</p>\n",
              "</div>"
            ],
            "text/plain": [
              "          Real Y\n",
              "0    1081.652164\n",
              "1     622.675990\n",
              "2     889.356810\n",
              "3     902.826733\n",
              "4     897.662404\n",
              "..           ...\n",
              "325  1028.438035\n",
              "326   789.934950\n",
              "327   758.490486\n",
              "328  1172.871659\n",
              "329   820.947936\n",
              "\n",
              "[330 rows x 1 columns]"
            ]
          },
          "metadata": {
            "tags": []
          },
          "execution_count": 81
        }
      ]
    },
    {
      "cell_type": "code",
      "metadata": {
        "id": "qa4A_LP6Sjw8",
        "outputId": "0eb86df0-fb83-4905-a568-f35a8d5b91a2",
        "colab": {
          "base_uri": "https://localhost:8080/"
        }
      },
      "source": [
        "import pandas as pd\n",
        "testPrediction = pd.Series(testPrediction.reshape(330,))\n",
        "testPrediction"
      ],
      "execution_count": null,
      "outputs": [
        {
          "output_type": "execute_result",
          "data": {
            "text/plain": [
              "0      1072.369629\n",
              "1       630.683594\n",
              "2       875.945679\n",
              "3       895.151733\n",
              "4       900.530334\n",
              "          ...     \n",
              "325    1009.603943\n",
              "326     794.255554\n",
              "327     768.640564\n",
              "328    1159.272583\n",
              "329     806.352478\n",
              "Length: 330, dtype: float32"
            ]
          },
          "metadata": {
            "tags": []
          },
          "execution_count": 83
        }
      ]
    },
    {
      "cell_type": "code",
      "metadata": {
        "id": "IHyeTsi82vwG",
        "outputId": "7ebce62e-f409-407e-a6cc-d5659f9452ae",
        "colab": {
          "base_uri": "https://localhost:8080/",
          "height": 402
        }
      },
      "source": [
        "predictionDf = pd.concat([predictionDf,testPrediction],axis=1)\n",
        "predictionDf"
      ],
      "execution_count": null,
      "outputs": [
        {
          "output_type": "execute_result",
          "data": {
            "text/html": [
              "<div>\n",
              "<style scoped>\n",
              "    .dataframe tbody tr th:only-of-type {\n",
              "        vertical-align: middle;\n",
              "    }\n",
              "\n",
              "    .dataframe tbody tr th {\n",
              "        vertical-align: top;\n",
              "    }\n",
              "\n",
              "    .dataframe thead th {\n",
              "        text-align: right;\n",
              "    }\n",
              "</style>\n",
              "<table border=\"1\" class=\"dataframe\">\n",
              "  <thead>\n",
              "    <tr style=\"text-align: right;\">\n",
              "      <th></th>\n",
              "      <th>Real Y</th>\n",
              "      <th>0</th>\n",
              "    </tr>\n",
              "  </thead>\n",
              "  <tbody>\n",
              "    <tr>\n",
              "      <th>0</th>\n",
              "      <td>1081.652164</td>\n",
              "      <td>1072.369629</td>\n",
              "    </tr>\n",
              "    <tr>\n",
              "      <th>1</th>\n",
              "      <td>622.675990</td>\n",
              "      <td>630.683594</td>\n",
              "    </tr>\n",
              "    <tr>\n",
              "      <th>2</th>\n",
              "      <td>889.356810</td>\n",
              "      <td>875.945679</td>\n",
              "    </tr>\n",
              "    <tr>\n",
              "      <th>3</th>\n",
              "      <td>902.826733</td>\n",
              "      <td>895.151733</td>\n",
              "    </tr>\n",
              "    <tr>\n",
              "      <th>4</th>\n",
              "      <td>897.662404</td>\n",
              "      <td>900.530334</td>\n",
              "    </tr>\n",
              "    <tr>\n",
              "      <th>...</th>\n",
              "      <td>...</td>\n",
              "      <td>...</td>\n",
              "    </tr>\n",
              "    <tr>\n",
              "      <th>325</th>\n",
              "      <td>1028.438035</td>\n",
              "      <td>1009.603943</td>\n",
              "    </tr>\n",
              "    <tr>\n",
              "      <th>326</th>\n",
              "      <td>789.934950</td>\n",
              "      <td>794.255554</td>\n",
              "    </tr>\n",
              "    <tr>\n",
              "      <th>327</th>\n",
              "      <td>758.490486</td>\n",
              "      <td>768.640564</td>\n",
              "    </tr>\n",
              "    <tr>\n",
              "      <th>328</th>\n",
              "      <td>1172.871659</td>\n",
              "      <td>1159.272583</td>\n",
              "    </tr>\n",
              "    <tr>\n",
              "      <th>329</th>\n",
              "      <td>820.947936</td>\n",
              "      <td>806.352478</td>\n",
              "    </tr>\n",
              "  </tbody>\n",
              "</table>\n",
              "<p>330 rows × 2 columns</p>\n",
              "</div>"
            ],
            "text/plain": [
              "          Real Y            0\n",
              "0    1081.652164  1072.369629\n",
              "1     622.675990   630.683594\n",
              "2     889.356810   875.945679\n",
              "3     902.826733   895.151733\n",
              "4     897.662404   900.530334\n",
              "..           ...          ...\n",
              "325  1028.438035  1009.603943\n",
              "326   789.934950   794.255554\n",
              "327   758.490486   768.640564\n",
              "328  1172.871659  1159.272583\n",
              "329   820.947936   806.352478\n",
              "\n",
              "[330 rows x 2 columns]"
            ]
          },
          "metadata": {
            "tags": []
          },
          "execution_count": 84
        }
      ]
    },
    {
      "cell_type": "code",
      "metadata": {
        "id": "qWEa5crX7TBC",
        "outputId": "c05ed794-1bdc-45d4-db85-228b31ba14eb",
        "colab": {
          "base_uri": "https://localhost:8080/",
          "height": 402
        }
      },
      "source": [
        "predictionDf.columns = [\"Real Y\", \"Predicted Y\"]\n",
        "predictionDf"
      ],
      "execution_count": null,
      "outputs": [
        {
          "output_type": "execute_result",
          "data": {
            "text/html": [
              "<div>\n",
              "<style scoped>\n",
              "    .dataframe tbody tr th:only-of-type {\n",
              "        vertical-align: middle;\n",
              "    }\n",
              "\n",
              "    .dataframe tbody tr th {\n",
              "        vertical-align: top;\n",
              "    }\n",
              "\n",
              "    .dataframe thead th {\n",
              "        text-align: right;\n",
              "    }\n",
              "</style>\n",
              "<table border=\"1\" class=\"dataframe\">\n",
              "  <thead>\n",
              "    <tr style=\"text-align: right;\">\n",
              "      <th></th>\n",
              "      <th>Real Y</th>\n",
              "      <th>Predicted Y</th>\n",
              "    </tr>\n",
              "  </thead>\n",
              "  <tbody>\n",
              "    <tr>\n",
              "      <th>0</th>\n",
              "      <td>1081.652164</td>\n",
              "      <td>1072.369629</td>\n",
              "    </tr>\n",
              "    <tr>\n",
              "      <th>1</th>\n",
              "      <td>622.675990</td>\n",
              "      <td>630.683594</td>\n",
              "    </tr>\n",
              "    <tr>\n",
              "      <th>2</th>\n",
              "      <td>889.356810</td>\n",
              "      <td>875.945679</td>\n",
              "    </tr>\n",
              "    <tr>\n",
              "      <th>3</th>\n",
              "      <td>902.826733</td>\n",
              "      <td>895.151733</td>\n",
              "    </tr>\n",
              "    <tr>\n",
              "      <th>4</th>\n",
              "      <td>897.662404</td>\n",
              "      <td>900.530334</td>\n",
              "    </tr>\n",
              "    <tr>\n",
              "      <th>...</th>\n",
              "      <td>...</td>\n",
              "      <td>...</td>\n",
              "    </tr>\n",
              "    <tr>\n",
              "      <th>325</th>\n",
              "      <td>1028.438035</td>\n",
              "      <td>1009.603943</td>\n",
              "    </tr>\n",
              "    <tr>\n",
              "      <th>326</th>\n",
              "      <td>789.934950</td>\n",
              "      <td>794.255554</td>\n",
              "    </tr>\n",
              "    <tr>\n",
              "      <th>327</th>\n",
              "      <td>758.490486</td>\n",
              "      <td>768.640564</td>\n",
              "    </tr>\n",
              "    <tr>\n",
              "      <th>328</th>\n",
              "      <td>1172.871659</td>\n",
              "      <td>1159.272583</td>\n",
              "    </tr>\n",
              "    <tr>\n",
              "      <th>329</th>\n",
              "      <td>820.947936</td>\n",
              "      <td>806.352478</td>\n",
              "    </tr>\n",
              "  </tbody>\n",
              "</table>\n",
              "<p>330 rows × 2 columns</p>\n",
              "</div>"
            ],
            "text/plain": [
              "          Real Y  Predicted Y\n",
              "0    1081.652164  1072.369629\n",
              "1     622.675990   630.683594\n",
              "2     889.356810   875.945679\n",
              "3     902.826733   895.151733\n",
              "4     897.662404   900.530334\n",
              "..           ...          ...\n",
              "325  1028.438035  1009.603943\n",
              "326   789.934950   794.255554\n",
              "327   758.490486   768.640564\n",
              "328  1172.871659  1159.272583\n",
              "329   820.947936   806.352478\n",
              "\n",
              "[330 rows x 2 columns]"
            ]
          },
          "metadata": {
            "tags": []
          },
          "execution_count": 86
        }
      ]
    },
    {
      "cell_type": "code",
      "metadata": {
        "id": "xznQ9f1H73Pe",
        "outputId": "5b5d76e0-a3be-4f88-93f0-0a117fedea13",
        "colab": {
          "base_uri": "https://localhost:8080/",
          "height": 296
        }
      },
      "source": [
        "sbn.scatterplot(x = \"Real Y\", y = \"Predicted Y\", data = predictionDf)"
      ],
      "execution_count": null,
      "outputs": [
        {
          "output_type": "execute_result",
          "data": {
            "text/plain": [
              "<matplotlib.axes._subplots.AxesSubplot at 0x7fd0b9d00f60>"
            ]
          },
          "metadata": {
            "tags": []
          },
          "execution_count": 88
        },
        {
          "output_type": "display_data",
          "data": {
            "image/png": "[encoded data removed]",
            "text/plain": [
              "<Figure size 432x288 with 1 Axes>"
            ]
          },
          "metadata": {
            "tags": [],
            "needs_background": "light"
          }
        }
      ]
    },
    {
      "cell_type": "code",
      "metadata": {
        "id": "-V-n3KnF3PJ5",
        "outputId": "40acdfb6-e236-4b3d-99ca-581908ea347d",
        "colab": {
          "base_uri": "https://localhost:8080/"
        }
      },
      "source": [
        "from sklearn.metrics import mean_absolute_error, mean_squared_error\n",
        "mae = mean_absolute_error(predictionDf[\"Real Y\"],predictionDf[\"Predicted Y\"])\n",
        "mse = mean_squared_error(predictionDf[\"Real Y\"],predictionDf[\"Predicted Y\"])\n",
        "print(\"Mean Absolute Error: \",mae)\n",
        "print(\"Mean Squared Error: \",mse)"
      ],
      "execution_count": null,
      "outputs": [
        {
          "output_type": "stream",
          "text": [
            "Mean Absolute Error:  7.800101981464249\n",
            "Mean Squared Error:  94.12110804135631\n"
          ],
          "name": "stdout"
        }
      ]
    },
    {
      "cell_type": "code",
      "metadata": {
        "id": "vdej2kMA8UjA",
        "outputId": "dce6a8b6-0c73-402a-b0ef-e4707c62c3f6",
        "colab": {
          "base_uri": "https://localhost:8080/",
          "height": 284
        }
      },
      "source": [
        "df.describe()"
      ],
      "execution_count": null,
      "outputs": [
        {
          "output_type": "execute_result",
          "data": {
            "text/html": [
              "<div>\n",
              "<style scoped>\n",
              "    .dataframe tbody tr th:only-of-type {\n",
              "        vertical-align: middle;\n",
              "    }\n",
              "\n",
              "    .dataframe tbody tr th {\n",
              "        vertical-align: top;\n",
              "    }\n",
              "\n",
              "    .dataframe thead th {\n",
              "        text-align: right;\n",
              "    }\n",
              "</style>\n",
              "<table border=\"1\" class=\"dataframe\">\n",
              "  <thead>\n",
              "    <tr style=\"text-align: right;\">\n",
              "      <th></th>\n",
              "      <th>Fiyat</th>\n",
              "      <th>BisikletOzellik1</th>\n",
              "      <th>BisikletOzellik2</th>\n",
              "    </tr>\n",
              "  </thead>\n",
              "  <tbody>\n",
              "    <tr>\n",
              "      <th>count</th>\n",
              "      <td>1000.000000</td>\n",
              "      <td>1000.000000</td>\n",
              "      <td>1000.000000</td>\n",
              "    </tr>\n",
              "    <tr>\n",
              "      <th>mean</th>\n",
              "      <td>872.677801</td>\n",
              "      <td>1750.024800</td>\n",
              "      <td>1749.964733</td>\n",
              "    </tr>\n",
              "    <tr>\n",
              "      <th>std</th>\n",
              "      <td>164.124504</td>\n",
              "      <td>1.704531</td>\n",
              "      <td>1.659578</td>\n",
              "    </tr>\n",
              "    <tr>\n",
              "      <th>min</th>\n",
              "      <td>390.856887</td>\n",
              "      <td>1744.852108</td>\n",
              "      <td>1744.742389</td>\n",
              "    </tr>\n",
              "    <tr>\n",
              "      <th>25%</th>\n",
              "      <td>757.795031</td>\n",
              "      <td>1748.831119</td>\n",
              "      <td>1748.803186</td>\n",
              "    </tr>\n",
              "    <tr>\n",
              "      <th>50%</th>\n",
              "      <td>879.168705</td>\n",
              "      <td>1750.017350</td>\n",
              "      <td>1750.003926</td>\n",
              "    </tr>\n",
              "    <tr>\n",
              "      <th>75%</th>\n",
              "      <td>988.612778</td>\n",
              "      <td>1751.115766</td>\n",
              "      <td>1751.129414</td>\n",
              "    </tr>\n",
              "    <tr>\n",
              "      <th>max</th>\n",
              "      <td>1355.213745</td>\n",
              "      <td>1755.613884</td>\n",
              "      <td>1754.666038</td>\n",
              "    </tr>\n",
              "  </tbody>\n",
              "</table>\n",
              "</div>"
            ],
            "text/plain": [
              "             Fiyat  BisikletOzellik1  BisikletOzellik2\n",
              "count  1000.000000       1000.000000       1000.000000\n",
              "mean    872.677801       1750.024800       1749.964733\n",
              "std     164.124504          1.704531          1.659578\n",
              "min     390.856887       1744.852108       1744.742389\n",
              "25%     757.795031       1748.831119       1748.803186\n",
              "50%     879.168705       1750.017350       1750.003926\n",
              "75%     988.612778       1751.115766       1751.129414\n",
              "max    1355.213745       1755.613884       1754.666038"
            ]
          },
          "metadata": {
            "tags": []
          },
          "execution_count": 92
        }
      ]
    },
    {
      "cell_type": "code",
      "metadata": {
        "id": "KNPEb2La81dH"
      },
      "source": [
        "from tensorflow.keras.models import load_model\n",
        "model.save(\"bike_model.h5\")\n",
        "calledModel = load_model(\"bike_model.h5\")"
      ],
      "execution_count": null,
      "outputs": []
    },
    {
      "cell_type": "code",
      "metadata": {
        "id": "5Qh-VinQ9FTb",
        "outputId": "36dcae21-d32a-47ce-8f00-041d246319c1",
        "colab": {
          "base_uri": "https://localhost:8080/"
        }
      },
      "source": [
        "newBikeFeatures = [[1751,1750]]\n",
        "newBikeFeatures = scaler.transform(newBikeFeatures)\n",
        "calledModel.predict(newBikeFeatures)"
      ],
      "execution_count": null,
      "outputs": [
        {
          "output_type": "execute_result",
          "data": {
            "text/plain": [
              "array([[913.149]], dtype=float32)"
            ]
          },
          "metadata": {
            "tags": []
          },
          "execution_count": 103
        }
      ]
    },
    {
      "cell_type": "markdown",
      "metadata": {
        "id": "LHmNf9y996Hn"
      },
      "source": [
        "## Used Car Dataset (from Kaggle)"
      ]
    },
    {
      "cell_type": "code",
      "metadata": {
        "id": "Mo307UYK97hY"
      },
      "source": [
        "import pandas as pd\n",
        "import numpy as np\n",
        "import matplotlib.pyplot as plt\n",
        "import seaborn as sbn"
      ],
      "execution_count": 113,
      "outputs": []
    },
    {
      "cell_type": "code",
      "metadata": {
        "id": "2o0lxkZG_ZLw",
        "outputId": "aacc78a9-ea82-4bf2-c8a1-d4aa2f39d13e",
        "colab": {
          "base_uri": "https://localhost:8080/",
          "height": 194
        }
      },
      "source": [
        "dataFrame = pd.read_excel(\"/content/drive/My Drive/Veri_bilimi_icin_python_ve_tensorflow/merc.xlsx\")\n",
        "dataFrame.head()"
      ],
      "execution_count": 116,
      "outputs": [
        {
          "output_type": "execute_result",
          "data": {
            "text/html": [
              "<div>\n",
              "<style scoped>\n",
              "    .dataframe tbody tr th:only-of-type {\n",
              "        vertical-align: middle;\n",
              "    }\n",
              "\n",
              "    .dataframe tbody tr th {\n",
              "        vertical-align: top;\n",
              "    }\n",
              "\n",
              "    .dataframe thead th {\n",
              "        text-align: right;\n",
              "    }\n",
              "</style>\n",
              "<table border=\"1\" class=\"dataframe\">\n",
              "  <thead>\n",
              "    <tr style=\"text-align: right;\">\n",
              "      <th></th>\n",
              "      <th>year</th>\n",
              "      <th>price</th>\n",
              "      <th>transmission</th>\n",
              "      <th>mileage</th>\n",
              "      <th>tax</th>\n",
              "      <th>mpg</th>\n",
              "      <th>engineSize</th>\n",
              "    </tr>\n",
              "  </thead>\n",
              "  <tbody>\n",
              "    <tr>\n",
              "      <th>0</th>\n",
              "      <td>2005</td>\n",
              "      <td>5200</td>\n",
              "      <td>Automatic</td>\n",
              "      <td>63000</td>\n",
              "      <td>325</td>\n",
              "      <td>32.1</td>\n",
              "      <td>1.8</td>\n",
              "    </tr>\n",
              "    <tr>\n",
              "      <th>1</th>\n",
              "      <td>2017</td>\n",
              "      <td>34948</td>\n",
              "      <td>Automatic</td>\n",
              "      <td>27000</td>\n",
              "      <td>20</td>\n",
              "      <td>61.4</td>\n",
              "      <td>2.1</td>\n",
              "    </tr>\n",
              "    <tr>\n",
              "      <th>2</th>\n",
              "      <td>2016</td>\n",
              "      <td>49948</td>\n",
              "      <td>Automatic</td>\n",
              "      <td>6200</td>\n",
              "      <td>555</td>\n",
              "      <td>28.0</td>\n",
              "      <td>5.5</td>\n",
              "    </tr>\n",
              "    <tr>\n",
              "      <th>3</th>\n",
              "      <td>2016</td>\n",
              "      <td>61948</td>\n",
              "      <td>Automatic</td>\n",
              "      <td>16000</td>\n",
              "      <td>325</td>\n",
              "      <td>30.4</td>\n",
              "      <td>4.0</td>\n",
              "    </tr>\n",
              "    <tr>\n",
              "      <th>4</th>\n",
              "      <td>2016</td>\n",
              "      <td>73948</td>\n",
              "      <td>Automatic</td>\n",
              "      <td>4000</td>\n",
              "      <td>325</td>\n",
              "      <td>30.1</td>\n",
              "      <td>4.0</td>\n",
              "    </tr>\n",
              "  </tbody>\n",
              "</table>\n",
              "</div>"
            ],
            "text/plain": [
              "   year  price transmission  mileage  tax   mpg  engineSize\n",
              "0  2005   5200    Automatic    63000  325  32.1         1.8\n",
              "1  2017  34948    Automatic    27000   20  61.4         2.1\n",
              "2  2016  49948    Automatic     6200  555  28.0         5.5\n",
              "3  2016  61948    Automatic    16000  325  30.4         4.0\n",
              "4  2016  73948    Automatic     4000  325  30.1         4.0"
            ]
          },
          "metadata": {
            "tags": []
          },
          "execution_count": 116
        }
      ]
    },
    {
      "cell_type": "code",
      "metadata": {
        "id": "drOokN2AOour",
        "outputId": "50c363c6-9835-42a7-f7e4-45e4a1d5e5e4",
        "colab": {
          "base_uri": "https://localhost:8080/",
          "height": 282
        }
      },
      "source": [
        "dataFrame.describe()"
      ],
      "execution_count": 117,
      "outputs": [
        {
          "output_type": "execute_result",
          "data": {
            "text/html": [
              "<div>\n",
              "<style scoped>\n",
              "    .dataframe tbody tr th:only-of-type {\n",
              "        vertical-align: middle;\n",
              "    }\n",
              "\n",
              "    .dataframe tbody tr th {\n",
              "        vertical-align: top;\n",
              "    }\n",
              "\n",
              "    .dataframe thead th {\n",
              "        text-align: right;\n",
              "    }\n",
              "</style>\n",
              "<table border=\"1\" class=\"dataframe\">\n",
              "  <thead>\n",
              "    <tr style=\"text-align: right;\">\n",
              "      <th></th>\n",
              "      <th>year</th>\n",
              "      <th>price</th>\n",
              "      <th>mileage</th>\n",
              "      <th>tax</th>\n",
              "      <th>mpg</th>\n",
              "      <th>engineSize</th>\n",
              "    </tr>\n",
              "  </thead>\n",
              "  <tbody>\n",
              "    <tr>\n",
              "      <th>count</th>\n",
              "      <td>13119.000000</td>\n",
              "      <td>13119.000000</td>\n",
              "      <td>13119.000000</td>\n",
              "      <td>13119.000000</td>\n",
              "      <td>13119.000000</td>\n",
              "      <td>13119.000000</td>\n",
              "    </tr>\n",
              "    <tr>\n",
              "      <th>mean</th>\n",
              "      <td>2017.296288</td>\n",
              "      <td>24698.596920</td>\n",
              "      <td>21949.559037</td>\n",
              "      <td>129.972178</td>\n",
              "      <td>55.155843</td>\n",
              "      <td>2.071530</td>\n",
              "    </tr>\n",
              "    <tr>\n",
              "      <th>std</th>\n",
              "      <td>2.224709</td>\n",
              "      <td>11842.675542</td>\n",
              "      <td>21176.512267</td>\n",
              "      <td>65.260286</td>\n",
              "      <td>15.220082</td>\n",
              "      <td>0.572426</td>\n",
              "    </tr>\n",
              "    <tr>\n",
              "      <th>min</th>\n",
              "      <td>1970.000000</td>\n",
              "      <td>650.000000</td>\n",
              "      <td>1.000000</td>\n",
              "      <td>0.000000</td>\n",
              "      <td>1.100000</td>\n",
              "      <td>0.000000</td>\n",
              "    </tr>\n",
              "    <tr>\n",
              "      <th>25%</th>\n",
              "      <td>2016.000000</td>\n",
              "      <td>17450.000000</td>\n",
              "      <td>6097.500000</td>\n",
              "      <td>125.000000</td>\n",
              "      <td>45.600000</td>\n",
              "      <td>1.800000</td>\n",
              "    </tr>\n",
              "    <tr>\n",
              "      <th>50%</th>\n",
              "      <td>2018.000000</td>\n",
              "      <td>22480.000000</td>\n",
              "      <td>15189.000000</td>\n",
              "      <td>145.000000</td>\n",
              "      <td>56.500000</td>\n",
              "      <td>2.000000</td>\n",
              "    </tr>\n",
              "    <tr>\n",
              "      <th>75%</th>\n",
              "      <td>2019.000000</td>\n",
              "      <td>28980.000000</td>\n",
              "      <td>31779.500000</td>\n",
              "      <td>145.000000</td>\n",
              "      <td>64.200000</td>\n",
              "      <td>2.100000</td>\n",
              "    </tr>\n",
              "    <tr>\n",
              "      <th>max</th>\n",
              "      <td>2020.000000</td>\n",
              "      <td>159999.000000</td>\n",
              "      <td>259000.000000</td>\n",
              "      <td>580.000000</td>\n",
              "      <td>217.300000</td>\n",
              "      <td>6.200000</td>\n",
              "    </tr>\n",
              "  </tbody>\n",
              "</table>\n",
              "</div>"
            ],
            "text/plain": [
              "               year          price  ...           mpg    engineSize\n",
              "count  13119.000000   13119.000000  ...  13119.000000  13119.000000\n",
              "mean    2017.296288   24698.596920  ...     55.155843      2.071530\n",
              "std        2.224709   11842.675542  ...     15.220082      0.572426\n",
              "min     1970.000000     650.000000  ...      1.100000      0.000000\n",
              "25%     2016.000000   17450.000000  ...     45.600000      1.800000\n",
              "50%     2018.000000   22480.000000  ...     56.500000      2.000000\n",
              "75%     2019.000000   28980.000000  ...     64.200000      2.100000\n",
              "max     2020.000000  159999.000000  ...    217.300000      6.200000\n",
              "\n",
              "[8 rows x 6 columns]"
            ]
          },
          "metadata": {
            "tags": []
          },
          "execution_count": 117
        }
      ]
    },
    {
      "cell_type": "code",
      "metadata": {
        "id": "jqBrll02P2Xq",
        "outputId": "f0377f5a-d6fa-419e-90ae-217b5bb972ec",
        "colab": {
          "base_uri": "https://localhost:8080/"
        }
      },
      "source": [
        "dataFrame.isnull().sum()"
      ],
      "execution_count": 118,
      "outputs": [
        {
          "output_type": "execute_result",
          "data": {
            "text/plain": [
              "year            0\n",
              "price           0\n",
              "transmission    0\n",
              "mileage         0\n",
              "tax             0\n",
              "mpg             0\n",
              "engineSize      0\n",
              "dtype: int64"
            ]
          },
          "metadata": {
            "tags": []
          },
          "execution_count": 118
        }
      ]
    },
    {
      "cell_type": "code",
      "metadata": {
        "id": "p6nORGo5QHj7",
        "outputId": "d8b27f4f-dd6e-4e8c-f9ba-deac2f6a2b2b",
        "colab": {
          "base_uri": "https://localhost:8080/",
          "height": 418
        }
      },
      "source": [
        "plt.figure(figsize=(8,5))\n",
        "sbn.distplot(dataFrame[\"price\"])"
      ],
      "execution_count": 124,
      "outputs": [
        {
          "output_type": "stream",
          "text": [
            "/usr/local/lib/python3.6/dist-packages/seaborn/distributions.py:2551: FutureWarning: `distplot` is a deprecated function and will be removed in a future version. Please adapt your code to use either `displot` (a figure-level function with similar flexibility) or `histplot` (an axes-level function for histograms).\n",
            "  warnings.warn(msg, FutureWarning)\n"
          ],
          "name": "stderr"
        },
        {
          "output_type": "execute_result",
          "data": {
            "text/plain": [
              "<matplotlib.axes._subplots.AxesSubplot at 0x7fd0b61de438>"
            ]
          },
          "metadata": {
            "tags": []
          },
          "execution_count": 124
        },
        {
          "output_type": "display_data",
          "data": {
            "image/png": "[encoded data removed]",
            "text/plain": [
              "<Figure size 576x360 with 1 Axes>"
            ]
          },
          "metadata": {
            "tags": [],
            "needs_background": "light"
          }
        }
      ]
    },
    {
      "cell_type": "code",
      "metadata": {
        "id": "dPyu2F-bRU7p",
        "outputId": "b088be43-1856-4085-9b7f-cc98dcbca582",
        "colab": {
          "base_uri": "https://localhost:8080/",
          "height": 352
        }
      },
      "source": [
        "sbn.countplot(dataFrame[\"year\"])"
      ],
      "execution_count": 126,
      "outputs": [
        {
          "output_type": "stream",
          "text": [
            "/usr/local/lib/python3.6/dist-packages/seaborn/_decorators.py:43: FutureWarning: Pass the following variable as a keyword arg: x. From version 0.12, the only valid positional argument will be `data`, and passing other arguments without an explicit keyword will result in an error or misinterpretation.\n",
            "  FutureWarning\n"
          ],
          "name": "stderr"
        },
        {
          "output_type": "execute_result",
          "data": {
            "text/plain": [
              "<matplotlib.axes._subplots.AxesSubplot at 0x7fd0b6612588>"
            ]
          },
          "metadata": {
            "tags": []
          },
          "execution_count": 126
        },
        {
          "output_type": "display_data",
          "data": {
            "image/png": "[encoded data removed]",
            "text/plain": [
              "<Figure size 432x288 with 1 Axes>"
            ]
          },
          "metadata": {
            "tags": [],
            "needs_background": "light"
          }
        }
      ]
    },
    {
      "cell_type": "code",
      "metadata": {
        "id": "Kta9MIkvSHEY",
        "outputId": "1153ae99-c63f-4b42-c74a-c9e7a9e8e56b",
        "colab": {
          "base_uri": "https://localhost:8080/",
          "height": 223
        }
      },
      "source": [
        "dataFrame.corr() # correlation"
      ],
      "execution_count": 127,
      "outputs": [
        {
          "output_type": "execute_result",
          "data": {
            "text/html": [
              "<div>\n",
              "<style scoped>\n",
              "    .dataframe tbody tr th:only-of-type {\n",
              "        vertical-align: middle;\n",
              "    }\n",
              "\n",
              "    .dataframe tbody tr th {\n",
              "        vertical-align: top;\n",
              "    }\n",
              "\n",
              "    .dataframe thead th {\n",
              "        text-align: right;\n",
              "    }\n",
              "</style>\n",
              "<table border=\"1\" class=\"dataframe\">\n",
              "  <thead>\n",
              "    <tr style=\"text-align: right;\">\n",
              "      <th></th>\n",
              "      <th>year</th>\n",
              "      <th>price</th>\n",
              "      <th>mileage</th>\n",
              "      <th>tax</th>\n",
              "      <th>mpg</th>\n",
              "      <th>engineSize</th>\n",
              "    </tr>\n",
              "  </thead>\n",
              "  <tbody>\n",
              "    <tr>\n",
              "      <th>year</th>\n",
              "      <td>1.000000</td>\n",
              "      <td>0.520712</td>\n",
              "      <td>-0.738027</td>\n",
              "      <td>0.012480</td>\n",
              "      <td>-0.094626</td>\n",
              "      <td>-0.142147</td>\n",
              "    </tr>\n",
              "    <tr>\n",
              "      <th>price</th>\n",
              "      <td>0.520712</td>\n",
              "      <td>1.000000</td>\n",
              "      <td>-0.537214</td>\n",
              "      <td>0.268717</td>\n",
              "      <td>-0.438445</td>\n",
              "      <td>0.516126</td>\n",
              "    </tr>\n",
              "    <tr>\n",
              "      <th>mileage</th>\n",
              "      <td>-0.738027</td>\n",
              "      <td>-0.537214</td>\n",
              "      <td>1.000000</td>\n",
              "      <td>-0.160223</td>\n",
              "      <td>0.202850</td>\n",
              "      <td>0.063652</td>\n",
              "    </tr>\n",
              "    <tr>\n",
              "      <th>tax</th>\n",
              "      <td>0.012480</td>\n",
              "      <td>0.268717</td>\n",
              "      <td>-0.160223</td>\n",
              "      <td>1.000000</td>\n",
              "      <td>-0.513742</td>\n",
              "      <td>0.338341</td>\n",
              "    </tr>\n",
              "    <tr>\n",
              "      <th>mpg</th>\n",
              "      <td>-0.094626</td>\n",
              "      <td>-0.438445</td>\n",
              "      <td>0.202850</td>\n",
              "      <td>-0.513742</td>\n",
              "      <td>1.000000</td>\n",
              "      <td>-0.339862</td>\n",
              "    </tr>\n",
              "    <tr>\n",
              "      <th>engineSize</th>\n",
              "      <td>-0.142147</td>\n",
              "      <td>0.516126</td>\n",
              "      <td>0.063652</td>\n",
              "      <td>0.338341</td>\n",
              "      <td>-0.339862</td>\n",
              "      <td>1.000000</td>\n",
              "    </tr>\n",
              "  </tbody>\n",
              "</table>\n",
              "</div>"
            ],
            "text/plain": [
              "                year     price   mileage       tax       mpg  engineSize\n",
              "year        1.000000  0.520712 -0.738027  0.012480 -0.094626   -0.142147\n",
              "price       0.520712  1.000000 -0.537214  0.268717 -0.438445    0.516126\n",
              "mileage    -0.738027 -0.537214  1.000000 -0.160223  0.202850    0.063652\n",
              "tax         0.012480  0.268717 -0.160223  1.000000 -0.513742    0.338341\n",
              "mpg        -0.094626 -0.438445  0.202850 -0.513742  1.000000   -0.339862\n",
              "engineSize -0.142147  0.516126  0.063652  0.338341 -0.339862    1.000000"
            ]
          },
          "metadata": {
            "tags": []
          },
          "execution_count": 127
        }
      ]
    },
    {
      "cell_type": "code",
      "metadata": {
        "id": "v8_yg3kRSMZn",
        "outputId": "3edcacf2-4826-4384-87c1-09cbf1a1addb",
        "colab": {
          "base_uri": "https://localhost:8080/"
        }
      },
      "source": [
        "dataFrame.corr()[\"price\"].sort_values()"
      ],
      "execution_count": 128,
      "outputs": [
        {
          "output_type": "execute_result",
          "data": {
            "text/plain": [
              "mileage      -0.537214\n",
              "mpg          -0.438445\n",
              "tax           0.268717\n",
              "engineSize    0.516126\n",
              "year          0.520712\n",
              "price         1.000000\n",
              "Name: price, dtype: float64"
            ]
          },
          "metadata": {
            "tags": []
          },
          "execution_count": 128
        }
      ]
    },
    {
      "cell_type": "code",
      "metadata": {
        "id": "BKeApUFlSS-4",
        "outputId": "f4a558cd-a0ff-4623-8e38-846d662f93e6",
        "colab": {
          "base_uri": "https://localhost:8080/",
          "height": 297
        }
      },
      "source": [
        "sbn.scatterplot(x = \"mileage\", y = \"price\", data = dataFrame)"
      ],
      "execution_count": 130,
      "outputs": [
        {
          "output_type": "execute_result",
          "data": {
            "text/plain": [
              "<matplotlib.axes._subplots.AxesSubplot at 0x7fd0b6030710>"
            ]
          },
          "metadata": {
            "tags": []
          },
          "execution_count": 130
        },
        {
          "output_type": "display_data",
          "data": {
            "image/png": "[encoded data removed]",
            "text/plain": [
              "<Figure size 432x288 with 1 Axes>"
            ]
          },
          "metadata": {
            "tags": [],
            "needs_background": "light"
          }
        }
      ]
    },
    {
      "cell_type": "code",
      "metadata": {
        "id": "rVFf6fsPSzRV",
        "outputId": "f5417005-bd60-48ff-bfc1-e99f288b6dd4",
        "colab": {
          "base_uri": "https://localhost:8080/",
          "height": 340
        }
      },
      "source": [
        "dataFrame.sort_values(\"price\", ascending = False).head(10)"
      ],
      "execution_count": 134,
      "outputs": [
        {
          "output_type": "execute_result",
          "data": {
            "text/html": [
              "<div>\n",
              "<style scoped>\n",
              "    .dataframe tbody tr th:only-of-type {\n",
              "        vertical-align: middle;\n",
              "    }\n",
              "\n",
              "    .dataframe tbody tr th {\n",
              "        vertical-align: top;\n",
              "    }\n",
              "\n",
              "    .dataframe thead th {\n",
              "        text-align: right;\n",
              "    }\n",
              "</style>\n",
              "<table border=\"1\" class=\"dataframe\">\n",
              "  <thead>\n",
              "    <tr style=\"text-align: right;\">\n",
              "      <th></th>\n",
              "      <th>year</th>\n",
              "      <th>price</th>\n",
              "      <th>transmission</th>\n",
              "      <th>mileage</th>\n",
              "      <th>tax</th>\n",
              "      <th>mpg</th>\n",
              "      <th>engineSize</th>\n",
              "    </tr>\n",
              "  </thead>\n",
              "  <tbody>\n",
              "    <tr>\n",
              "      <th>6199</th>\n",
              "      <td>2020</td>\n",
              "      <td>159999</td>\n",
              "      <td>Semi-Auto</td>\n",
              "      <td>1350</td>\n",
              "      <td>145</td>\n",
              "      <td>21.4</td>\n",
              "      <td>4.0</td>\n",
              "    </tr>\n",
              "    <tr>\n",
              "      <th>10044</th>\n",
              "      <td>2020</td>\n",
              "      <td>154998</td>\n",
              "      <td>Automatic</td>\n",
              "      <td>3000</td>\n",
              "      <td>150</td>\n",
              "      <td>21.4</td>\n",
              "      <td>4.0</td>\n",
              "    </tr>\n",
              "    <tr>\n",
              "      <th>5</th>\n",
              "      <td>2011</td>\n",
              "      <td>149948</td>\n",
              "      <td>Automatic</td>\n",
              "      <td>3000</td>\n",
              "      <td>570</td>\n",
              "      <td>21.4</td>\n",
              "      <td>6.2</td>\n",
              "    </tr>\n",
              "    <tr>\n",
              "      <th>8737</th>\n",
              "      <td>2019</td>\n",
              "      <td>140319</td>\n",
              "      <td>Semi-Auto</td>\n",
              "      <td>785</td>\n",
              "      <td>150</td>\n",
              "      <td>22.1</td>\n",
              "      <td>4.0</td>\n",
              "    </tr>\n",
              "    <tr>\n",
              "      <th>6386</th>\n",
              "      <td>2018</td>\n",
              "      <td>139995</td>\n",
              "      <td>Semi-Auto</td>\n",
              "      <td>13046</td>\n",
              "      <td>145</td>\n",
              "      <td>21.4</td>\n",
              "      <td>4.0</td>\n",
              "    </tr>\n",
              "    <tr>\n",
              "      <th>8</th>\n",
              "      <td>2019</td>\n",
              "      <td>139948</td>\n",
              "      <td>Automatic</td>\n",
              "      <td>12000</td>\n",
              "      <td>145</td>\n",
              "      <td>21.4</td>\n",
              "      <td>4.0</td>\n",
              "    </tr>\n",
              "    <tr>\n",
              "      <th>9133</th>\n",
              "      <td>2019</td>\n",
              "      <td>139559</td>\n",
              "      <td>Semi-Auto</td>\n",
              "      <td>1000</td>\n",
              "      <td>145</td>\n",
              "      <td>22.1</td>\n",
              "      <td>4.0</td>\n",
              "    </tr>\n",
              "    <tr>\n",
              "      <th>8821</th>\n",
              "      <td>2020</td>\n",
              "      <td>138439</td>\n",
              "      <td>Semi-Auto</td>\n",
              "      <td>1000</td>\n",
              "      <td>145</td>\n",
              "      <td>22.1</td>\n",
              "      <td>4.0</td>\n",
              "    </tr>\n",
              "    <tr>\n",
              "      <th>5902</th>\n",
              "      <td>2018</td>\n",
              "      <td>135771</td>\n",
              "      <td>Semi-Auto</td>\n",
              "      <td>19000</td>\n",
              "      <td>145</td>\n",
              "      <td>21.4</td>\n",
              "      <td>4.0</td>\n",
              "    </tr>\n",
              "    <tr>\n",
              "      <th>7864</th>\n",
              "      <td>2018</td>\n",
              "      <td>135124</td>\n",
              "      <td>Semi-Auto</td>\n",
              "      <td>18234</td>\n",
              "      <td>150</td>\n",
              "      <td>21.4</td>\n",
              "      <td>4.0</td>\n",
              "    </tr>\n",
              "  </tbody>\n",
              "</table>\n",
              "</div>"
            ],
            "text/plain": [
              "       year   price transmission  mileage  tax   mpg  engineSize\n",
              "6199   2020  159999    Semi-Auto     1350  145  21.4         4.0\n",
              "10044  2020  154998    Automatic     3000  150  21.4         4.0\n",
              "5      2011  149948    Automatic     3000  570  21.4         6.2\n",
              "8737   2019  140319    Semi-Auto      785  150  22.1         4.0\n",
              "6386   2018  139995    Semi-Auto    13046  145  21.4         4.0\n",
              "8      2019  139948    Automatic    12000  145  21.4         4.0\n",
              "9133   2019  139559    Semi-Auto     1000  145  22.1         4.0\n",
              "8821   2020  138439    Semi-Auto     1000  145  22.1         4.0\n",
              "5902   2018  135771    Semi-Auto    19000  145  21.4         4.0\n",
              "7864   2018  135124    Semi-Auto    18234  150  21.4         4.0"
            ]
          },
          "metadata": {
            "tags": []
          },
          "execution_count": 134
        }
      ]
    },
    {
      "cell_type": "code",
      "metadata": {
        "id": "azyP6tQZTCXv",
        "outputId": "e34ba774-d3f6-4276-c806-a61e194e22ca",
        "colab": {
          "base_uri": "https://localhost:8080/",
          "height": 340
        }
      },
      "source": [
        "dataFrame.sort_values(\"price\", ascending = True).head(10)"
      ],
      "execution_count": 135,
      "outputs": [
        {
          "output_type": "execute_result",
          "data": {
            "text/html": [
              "<div>\n",
              "<style scoped>\n",
              "    .dataframe tbody tr th:only-of-type {\n",
              "        vertical-align: middle;\n",
              "    }\n",
              "\n",
              "    .dataframe tbody tr th {\n",
              "        vertical-align: top;\n",
              "    }\n",
              "\n",
              "    .dataframe thead th {\n",
              "        text-align: right;\n",
              "    }\n",
              "</style>\n",
              "<table border=\"1\" class=\"dataframe\">\n",
              "  <thead>\n",
              "    <tr style=\"text-align: right;\">\n",
              "      <th></th>\n",
              "      <th>year</th>\n",
              "      <th>price</th>\n",
              "      <th>transmission</th>\n",
              "      <th>mileage</th>\n",
              "      <th>tax</th>\n",
              "      <th>mpg</th>\n",
              "      <th>engineSize</th>\n",
              "    </tr>\n",
              "  </thead>\n",
              "  <tbody>\n",
              "    <tr>\n",
              "      <th>11816</th>\n",
              "      <td>2003</td>\n",
              "      <td>650</td>\n",
              "      <td>Manual</td>\n",
              "      <td>109090</td>\n",
              "      <td>235</td>\n",
              "      <td>40.0</td>\n",
              "      <td>1.4</td>\n",
              "    </tr>\n",
              "    <tr>\n",
              "      <th>12008</th>\n",
              "      <td>2010</td>\n",
              "      <td>1350</td>\n",
              "      <td>Manual</td>\n",
              "      <td>116126</td>\n",
              "      <td>145</td>\n",
              "      <td>54.3</td>\n",
              "      <td>2.0</td>\n",
              "    </tr>\n",
              "    <tr>\n",
              "      <th>11765</th>\n",
              "      <td>2000</td>\n",
              "      <td>1490</td>\n",
              "      <td>Automatic</td>\n",
              "      <td>87000</td>\n",
              "      <td>265</td>\n",
              "      <td>27.2</td>\n",
              "      <td>3.2</td>\n",
              "    </tr>\n",
              "    <tr>\n",
              "      <th>11549</th>\n",
              "      <td>2002</td>\n",
              "      <td>1495</td>\n",
              "      <td>Automatic</td>\n",
              "      <td>13800</td>\n",
              "      <td>305</td>\n",
              "      <td>39.8</td>\n",
              "      <td>2.7</td>\n",
              "    </tr>\n",
              "    <tr>\n",
              "      <th>12594</th>\n",
              "      <td>2004</td>\n",
              "      <td>1495</td>\n",
              "      <td>Manual</td>\n",
              "      <td>119000</td>\n",
              "      <td>300</td>\n",
              "      <td>34.5</td>\n",
              "      <td>1.8</td>\n",
              "    </tr>\n",
              "    <tr>\n",
              "      <th>11174</th>\n",
              "      <td>2001</td>\n",
              "      <td>1695</td>\n",
              "      <td>Automatic</td>\n",
              "      <td>108800</td>\n",
              "      <td>325</td>\n",
              "      <td>31.7</td>\n",
              "      <td>3.2</td>\n",
              "    </tr>\n",
              "    <tr>\n",
              "      <th>12710</th>\n",
              "      <td>2006</td>\n",
              "      <td>1695</td>\n",
              "      <td>Automatic</td>\n",
              "      <td>153000</td>\n",
              "      <td>300</td>\n",
              "      <td>33.6</td>\n",
              "      <td>1.8</td>\n",
              "    </tr>\n",
              "    <tr>\n",
              "      <th>12766</th>\n",
              "      <td>2004</td>\n",
              "      <td>1780</td>\n",
              "      <td>Automatic</td>\n",
              "      <td>118000</td>\n",
              "      <td>265</td>\n",
              "      <td>41.5</td>\n",
              "      <td>2.2</td>\n",
              "    </tr>\n",
              "    <tr>\n",
              "      <th>12009</th>\n",
              "      <td>2007</td>\n",
              "      <td>1800</td>\n",
              "      <td>Automatic</td>\n",
              "      <td>84000</td>\n",
              "      <td>200</td>\n",
              "      <td>42.8</td>\n",
              "      <td>1.5</td>\n",
              "    </tr>\n",
              "    <tr>\n",
              "      <th>11764</th>\n",
              "      <td>1998</td>\n",
              "      <td>1990</td>\n",
              "      <td>Automatic</td>\n",
              "      <td>99300</td>\n",
              "      <td>265</td>\n",
              "      <td>32.1</td>\n",
              "      <td>2.3</td>\n",
              "    </tr>\n",
              "  </tbody>\n",
              "</table>\n",
              "</div>"
            ],
            "text/plain": [
              "       year  price transmission  mileage  tax   mpg  engineSize\n",
              "11816  2003    650       Manual   109090  235  40.0         1.4\n",
              "12008  2010   1350       Manual   116126  145  54.3         2.0\n",
              "11765  2000   1490    Automatic    87000  265  27.2         3.2\n",
              "11549  2002   1495    Automatic    13800  305  39.8         2.7\n",
              "12594  2004   1495       Manual   119000  300  34.5         1.8\n",
              "11174  2001   1695    Automatic   108800  325  31.7         3.2\n",
              "12710  2006   1695    Automatic   153000  300  33.6         1.8\n",
              "12766  2004   1780    Automatic   118000  265  41.5         2.2\n",
              "12009  2007   1800    Automatic    84000  200  42.8         1.5\n",
              "11764  1998   1990    Automatic    99300  265  32.1         2.3"
            ]
          },
          "metadata": {
            "tags": []
          },
          "execution_count": 135
        }
      ]
    },
    {
      "cell_type": "markdown",
      "metadata": {
        "id": "v7TDhlfgTkXL"
      },
      "source": [
        "**Dropping out the most expensive car prices from dataset (131 values)**"
      ]
    },
    {
      "cell_type": "code",
      "metadata": {
        "id": "2a_q0nkbTSkX",
        "outputId": "457ade42-3a68-4641-9ac6-649f073f8859",
        "colab": {
          "base_uri": "https://localhost:8080/"
        }
      },
      "source": [
        "len(dataFrame)"
      ],
      "execution_count": 136,
      "outputs": [
        {
          "output_type": "execute_result",
          "data": {
            "text/plain": [
              "13119"
            ]
          },
          "metadata": {
            "tags": []
          },
          "execution_count": 136
        }
      ]
    },
    {
      "cell_type": "code",
      "metadata": {
        "id": "qy5jGXwnTXD4",
        "outputId": "d8e895a8-f850-4152-e489-945fca118e4b",
        "colab": {
          "base_uri": "https://localhost:8080/"
        }
      },
      "source": [
        "len(dataFrame) * 0.01"
      ],
      "execution_count": 137,
      "outputs": [
        {
          "output_type": "execute_result",
          "data": {
            "text/plain": [
              "131.19"
            ]
          },
          "metadata": {
            "tags": []
          },
          "execution_count": 137
        }
      ]
    },
    {
      "cell_type": "code",
      "metadata": {
        "id": "lHmlFG82TtJx",
        "outputId": "6897eb4a-5408-4c7b-f0f4-4254988a1f1c",
        "colab": {
          "base_uri": "https://localhost:8080/",
          "height": 282
        }
      },
      "source": [
        "ninetyninePercentDf = dataFrame.sort_values(\"price\", ascending = False).iloc[131:] # %99 of our data\n",
        "ninetyninePercentDf.describe()"
      ],
      "execution_count": 141,
      "outputs": [
        {
          "output_type": "execute_result",
          "data": {
            "text/html": [
              "<div>\n",
              "<style scoped>\n",
              "    .dataframe tbody tr th:only-of-type {\n",
              "        vertical-align: middle;\n",
              "    }\n",
              "\n",
              "    .dataframe tbody tr th {\n",
              "        vertical-align: top;\n",
              "    }\n",
              "\n",
              "    .dataframe thead th {\n",
              "        text-align: right;\n",
              "    }\n",
              "</style>\n",
              "<table border=\"1\" class=\"dataframe\">\n",
              "  <thead>\n",
              "    <tr style=\"text-align: right;\">\n",
              "      <th></th>\n",
              "      <th>year</th>\n",
              "      <th>price</th>\n",
              "      <th>mileage</th>\n",
              "      <th>tax</th>\n",
              "      <th>mpg</th>\n",
              "      <th>engineSize</th>\n",
              "    </tr>\n",
              "  </thead>\n",
              "  <tbody>\n",
              "    <tr>\n",
              "      <th>count</th>\n",
              "      <td>12988.000000</td>\n",
              "      <td>12988.000000</td>\n",
              "      <td>12988.000000</td>\n",
              "      <td>12988.000000</td>\n",
              "      <td>12988.000000</td>\n",
              "      <td>12988.000000</td>\n",
              "    </tr>\n",
              "    <tr>\n",
              "      <th>mean</th>\n",
              "      <td>2017.281876</td>\n",
              "      <td>24074.926933</td>\n",
              "      <td>22132.741146</td>\n",
              "      <td>129.689714</td>\n",
              "      <td>55.437142</td>\n",
              "      <td>2.050901</td>\n",
              "    </tr>\n",
              "    <tr>\n",
              "      <th>std</th>\n",
              "      <td>2.228515</td>\n",
              "      <td>9866.224575</td>\n",
              "      <td>21196.776401</td>\n",
              "      <td>65.183076</td>\n",
              "      <td>15.025999</td>\n",
              "      <td>0.532596</td>\n",
              "    </tr>\n",
              "    <tr>\n",
              "      <th>min</th>\n",
              "      <td>1970.000000</td>\n",
              "      <td>650.000000</td>\n",
              "      <td>1.000000</td>\n",
              "      <td>0.000000</td>\n",
              "      <td>1.100000</td>\n",
              "      <td>0.000000</td>\n",
              "    </tr>\n",
              "    <tr>\n",
              "      <th>25%</th>\n",
              "      <td>2016.000000</td>\n",
              "      <td>17357.500000</td>\n",
              "      <td>6322.000000</td>\n",
              "      <td>125.000000</td>\n",
              "      <td>45.600000</td>\n",
              "      <td>1.675000</td>\n",
              "    </tr>\n",
              "    <tr>\n",
              "      <th>50%</th>\n",
              "      <td>2018.000000</td>\n",
              "      <td>22299.000000</td>\n",
              "      <td>15369.500000</td>\n",
              "      <td>145.000000</td>\n",
              "      <td>56.500000</td>\n",
              "      <td>2.000000</td>\n",
              "    </tr>\n",
              "    <tr>\n",
              "      <th>75%</th>\n",
              "      <td>2019.000000</td>\n",
              "      <td>28706.000000</td>\n",
              "      <td>31982.250000</td>\n",
              "      <td>145.000000</td>\n",
              "      <td>64.200000</td>\n",
              "      <td>2.100000</td>\n",
              "    </tr>\n",
              "    <tr>\n",
              "      <th>max</th>\n",
              "      <td>2020.000000</td>\n",
              "      <td>65990.000000</td>\n",
              "      <td>259000.000000</td>\n",
              "      <td>580.000000</td>\n",
              "      <td>217.300000</td>\n",
              "      <td>6.200000</td>\n",
              "    </tr>\n",
              "  </tbody>\n",
              "</table>\n",
              "</div>"
            ],
            "text/plain": [
              "               year         price  ...           mpg    engineSize\n",
              "count  12988.000000  12988.000000  ...  12988.000000  12988.000000\n",
              "mean    2017.281876  24074.926933  ...     55.437142      2.050901\n",
              "std        2.228515   9866.224575  ...     15.025999      0.532596\n",
              "min     1970.000000    650.000000  ...      1.100000      0.000000\n",
              "25%     2016.000000  17357.500000  ...     45.600000      1.675000\n",
              "50%     2018.000000  22299.000000  ...     56.500000      2.000000\n",
              "75%     2019.000000  28706.000000  ...     64.200000      2.100000\n",
              "max     2020.000000  65990.000000  ...    217.300000      6.200000\n",
              "\n",
              "[8 rows x 6 columns]"
            ]
          },
          "metadata": {
            "tags": []
          },
          "execution_count": 141
        }
      ]
    },
    {
      "cell_type": "code",
      "metadata": {
        "id": "Q1-41w3MUi-V",
        "outputId": "10920809-abc3-4208-ec40-3b9d9ddd25b3",
        "colab": {
          "base_uri": "https://localhost:8080/",
          "height": 418
        }
      },
      "source": [
        "plt.figure(figsize=(8,5))\n",
        "sbn.distplot(ninetyninePercentDf[\"price\"])"
      ],
      "execution_count": 143,
      "outputs": [
        {
          "output_type": "stream",
          "text": [
            "/usr/local/lib/python3.6/dist-packages/seaborn/distributions.py:2551: FutureWarning: `distplot` is a deprecated function and will be removed in a future version. Please adapt your code to use either `displot` (a figure-level function with similar flexibility) or `histplot` (an axes-level function for histograms).\n",
            "  warnings.warn(msg, FutureWarning)\n"
          ],
          "name": "stderr"
        },
        {
          "output_type": "execute_result",
          "data": {
            "text/plain": [
              "<matplotlib.axes._subplots.AxesSubplot at 0x7fd0b5dd3b00>"
            ]
          },
          "metadata": {
            "tags": []
          },
          "execution_count": 143
        },
        {
          "output_type": "display_data",
          "data": {
            "image/png": "[encoded data removed]",
            "text/plain": [
              "<Figure size 576x360 with 1 Axes>"
            ]
          },
          "metadata": {
            "tags": [],
            "needs_background": "light"
          }
        }
      ]
    },
    {
      "cell_type": "code",
      "metadata": {
        "id": "oWJzqnhQVHYd",
        "outputId": "1ea15e33-3d4a-4530-88b5-f1f35bbfa95e",
        "colab": {
          "base_uri": "https://localhost:8080/"
        }
      },
      "source": [
        "dataFrame.groupby(\"year\").mean()[\"price\"]"
      ],
      "execution_count": 146,
      "outputs": [
        {
          "output_type": "execute_result",
          "data": {
            "text/plain": [
              "year\n",
              "1970    24999.000000\n",
              "1997     9995.000000\n",
              "1998     8605.000000\n",
              "1999     5995.000000\n",
              "2000     5743.333333\n",
              "2001     4957.900000\n",
              "2002     5820.444444\n",
              "2003     4878.000000\n",
              "2004     4727.615385\n",
              "2005     4426.111111\n",
              "2006     4036.875000\n",
              "2007     5136.045455\n",
              "2008     6967.437500\n",
              "2009     6166.764706\n",
              "2010     8308.473684\n",
              "2011    12624.894737\n",
              "2012    10845.140351\n",
              "2013    11939.842466\n",
              "2014    14042.936864\n",
              "2015    16731.780020\n",
              "2016    19307.892948\n",
              "2017    21514.307854\n",
              "2018    25720.162918\n",
              "2019    31290.020865\n",
              "2020    35433.282337\n",
              "Name: price, dtype: float64"
            ]
          },
          "metadata": {
            "tags": []
          },
          "execution_count": 146
        }
      ]
    },
    {
      "cell_type": "code",
      "metadata": {
        "id": "gsXpgIdYVckL",
        "outputId": "b942f2e9-25f0-421c-c9c7-d56712b9d943",
        "colab": {
          "base_uri": "https://localhost:8080/"
        }
      },
      "source": [
        "ninetyninePercentDf.groupby(\"year\").mean()[\"price\"]"
      ],
      "execution_count": 147,
      "outputs": [
        {
          "output_type": "execute_result",
          "data": {
            "text/plain": [
              "year\n",
              "1970    24999.000000\n",
              "1997     9995.000000\n",
              "1998     8605.000000\n",
              "1999     5995.000000\n",
              "2000     5743.333333\n",
              "2001     4957.900000\n",
              "2002     5820.444444\n",
              "2003     4878.000000\n",
              "2004     4727.615385\n",
              "2005     4426.111111\n",
              "2006     4036.875000\n",
              "2007     5136.045455\n",
              "2008     6967.437500\n",
              "2009     6166.764706\n",
              "2010     8308.473684\n",
              "2011     8913.459459\n",
              "2012    10845.140351\n",
              "2013    11939.842466\n",
              "2014    14042.936864\n",
              "2015    16647.822222\n",
              "2016    19223.558943\n",
              "2017    21356.280421\n",
              "2018    24800.844506\n",
              "2019    30289.524832\n",
              "2020    34234.794872\n",
              "Name: price, dtype: float64"
            ]
          },
          "metadata": {
            "tags": []
          },
          "execution_count": 147
        }
      ]
    },
    {
      "cell_type": "code",
      "metadata": {
        "id": "UkAb4OgfVmR1",
        "outputId": "cbe39cb0-b3d5-4263-e98d-e2a8a0c2eb5c",
        "colab": {
          "base_uri": "https://localhost:8080/"
        }
      },
      "source": [
        "dataFrame[dataFrame.year != 1970].groupby(\"year\").mean()[\"price\"]"
      ],
      "execution_count": 149,
      "outputs": [
        {
          "output_type": "execute_result",
          "data": {
            "text/plain": [
              "year\n",
              "1997     9995.000000\n",
              "1998     8605.000000\n",
              "1999     5995.000000\n",
              "2000     5743.333333\n",
              "2001     4957.900000\n",
              "2002     5820.444444\n",
              "2003     4878.000000\n",
              "2004     4727.615385\n",
              "2005     4426.111111\n",
              "2006     4036.875000\n",
              "2007     5136.045455\n",
              "2008     6967.437500\n",
              "2009     6166.764706\n",
              "2010     8308.473684\n",
              "2011    12624.894737\n",
              "2012    10845.140351\n",
              "2013    11939.842466\n",
              "2014    14042.936864\n",
              "2015    16731.780020\n",
              "2016    19307.892948\n",
              "2017    21514.307854\n",
              "2018    25720.162918\n",
              "2019    31290.020865\n",
              "2020    35433.282337\n",
              "Name: price, dtype: float64"
            ]
          },
          "metadata": {
            "tags": []
          },
          "execution_count": 149
        }
      ]
    },
    {
      "cell_type": "code",
      "metadata": {
        "id": "yHwJGY21V_u8",
        "outputId": "8bf9cd51-1d7c-4b9a-e324-352280b31904",
        "colab": {
          "base_uri": "https://localhost:8080/"
        }
      },
      "source": [
        "dataFrame = dataFrame[dataFrame.year != 1970]\n",
        "dataFrame.groupby(\"year\").mean()[\"price\"]"
      ],
      "execution_count": 152,
      "outputs": [
        {
          "output_type": "execute_result",
          "data": {
            "text/plain": [
              "year\n",
              "1997     9995.000000\n",
              "1998     8605.000000\n",
              "1999     5995.000000\n",
              "2000     5743.333333\n",
              "2001     4957.900000\n",
              "2002     5820.444444\n",
              "2003     4878.000000\n",
              "2004     4727.615385\n",
              "2005     4426.111111\n",
              "2006     4036.875000\n",
              "2007     5136.045455\n",
              "2008     6967.437500\n",
              "2009     6166.764706\n",
              "2010     8308.473684\n",
              "2011    12624.894737\n",
              "2012    10845.140351\n",
              "2013    11939.842466\n",
              "2014    14042.936864\n",
              "2015    16731.780020\n",
              "2016    19307.892948\n",
              "2017    21514.307854\n",
              "2018    25720.162918\n",
              "2019    31290.020865\n",
              "2020    35433.282337\n",
              "Name: price, dtype: float64"
            ]
          },
          "metadata": {
            "tags": []
          },
          "execution_count": 152
        }
      ]
    },
    {
      "cell_type": "code",
      "metadata": {
        "id": "RuDZfHTxWSjV",
        "outputId": "d756e5d2-d7ce-4b6b-d6e8-7178d9d51b08",
        "colab": {
          "base_uri": "https://localhost:8080/",
          "height": 194
        }
      },
      "source": [
        "dataFrame.head()"
      ],
      "execution_count": 153,
      "outputs": [
        {
          "output_type": "execute_result",
          "data": {
            "text/html": [
              "<div>\n",
              "<style scoped>\n",
              "    .dataframe tbody tr th:only-of-type {\n",
              "        vertical-align: middle;\n",
              "    }\n",
              "\n",
              "    .dataframe tbody tr th {\n",
              "        vertical-align: top;\n",
              "    }\n",
              "\n",
              "    .dataframe thead th {\n",
              "        text-align: right;\n",
              "    }\n",
              "</style>\n",
              "<table border=\"1\" class=\"dataframe\">\n",
              "  <thead>\n",
              "    <tr style=\"text-align: right;\">\n",
              "      <th></th>\n",
              "      <th>year</th>\n",
              "      <th>price</th>\n",
              "      <th>transmission</th>\n",
              "      <th>mileage</th>\n",
              "      <th>tax</th>\n",
              "      <th>mpg</th>\n",
              "      <th>engineSize</th>\n",
              "    </tr>\n",
              "  </thead>\n",
              "  <tbody>\n",
              "    <tr>\n",
              "      <th>0</th>\n",
              "      <td>2005</td>\n",
              "      <td>5200</td>\n",
              "      <td>Automatic</td>\n",
              "      <td>63000</td>\n",
              "      <td>325</td>\n",
              "      <td>32.1</td>\n",
              "      <td>1.8</td>\n",
              "    </tr>\n",
              "    <tr>\n",
              "      <th>1</th>\n",
              "      <td>2017</td>\n",
              "      <td>34948</td>\n",
              "      <td>Automatic</td>\n",
              "      <td>27000</td>\n",
              "      <td>20</td>\n",
              "      <td>61.4</td>\n",
              "      <td>2.1</td>\n",
              "    </tr>\n",
              "    <tr>\n",
              "      <th>2</th>\n",
              "      <td>2016</td>\n",
              "      <td>49948</td>\n",
              "      <td>Automatic</td>\n",
              "      <td>6200</td>\n",
              "      <td>555</td>\n",
              "      <td>28.0</td>\n",
              "      <td>5.5</td>\n",
              "    </tr>\n",
              "    <tr>\n",
              "      <th>3</th>\n",
              "      <td>2016</td>\n",
              "      <td>61948</td>\n",
              "      <td>Automatic</td>\n",
              "      <td>16000</td>\n",
              "      <td>325</td>\n",
              "      <td>30.4</td>\n",
              "      <td>4.0</td>\n",
              "    </tr>\n",
              "    <tr>\n",
              "      <th>4</th>\n",
              "      <td>2016</td>\n",
              "      <td>73948</td>\n",
              "      <td>Automatic</td>\n",
              "      <td>4000</td>\n",
              "      <td>325</td>\n",
              "      <td>30.1</td>\n",
              "      <td>4.0</td>\n",
              "    </tr>\n",
              "  </tbody>\n",
              "</table>\n",
              "</div>"
            ],
            "text/plain": [
              "   year  price transmission  mileage  tax   mpg  engineSize\n",
              "0  2005   5200    Automatic    63000  325  32.1         1.8\n",
              "1  2017  34948    Automatic    27000   20  61.4         2.1\n",
              "2  2016  49948    Automatic     6200  555  28.0         5.5\n",
              "3  2016  61948    Automatic    16000  325  30.4         4.0\n",
              "4  2016  73948    Automatic     4000  325  30.1         4.0"
            ]
          },
          "metadata": {
            "tags": []
          },
          "execution_count": 153
        }
      ]
    },
    {
      "cell_type": "code",
      "metadata": {
        "id": "H12uCevTWYGS",
        "outputId": "5b2450d1-5cfa-413d-8142-64252bf6d42f",
        "colab": {
          "base_uri": "https://localhost:8080/",
          "height": 399
        }
      },
      "source": [
        "# Dropping out 'transmission' column\n",
        "dataFrame = dataFrame.drop(\"transmission\",axis=1)\n",
        "dataFrame"
      ],
      "execution_count": 155,
      "outputs": [
        {
          "output_type": "execute_result",
          "data": {
            "text/html": [
              "<div>\n",
              "<style scoped>\n",
              "    .dataframe tbody tr th:only-of-type {\n",
              "        vertical-align: middle;\n",
              "    }\n",
              "\n",
              "    .dataframe tbody tr th {\n",
              "        vertical-align: top;\n",
              "    }\n",
              "\n",
              "    .dataframe thead th {\n",
              "        text-align: right;\n",
              "    }\n",
              "</style>\n",
              "<table border=\"1\" class=\"dataframe\">\n",
              "  <thead>\n",
              "    <tr style=\"text-align: right;\">\n",
              "      <th></th>\n",
              "      <th>year</th>\n",
              "      <th>price</th>\n",
              "      <th>mileage</th>\n",
              "      <th>tax</th>\n",
              "      <th>mpg</th>\n",
              "      <th>engineSize</th>\n",
              "    </tr>\n",
              "  </thead>\n",
              "  <tbody>\n",
              "    <tr>\n",
              "      <th>0</th>\n",
              "      <td>2005</td>\n",
              "      <td>5200</td>\n",
              "      <td>63000</td>\n",
              "      <td>325</td>\n",
              "      <td>32.1</td>\n",
              "      <td>1.8</td>\n",
              "    </tr>\n",
              "    <tr>\n",
              "      <th>1</th>\n",
              "      <td>2017</td>\n",
              "      <td>34948</td>\n",
              "      <td>27000</td>\n",
              "      <td>20</td>\n",
              "      <td>61.4</td>\n",
              "      <td>2.1</td>\n",
              "    </tr>\n",
              "    <tr>\n",
              "      <th>2</th>\n",
              "      <td>2016</td>\n",
              "      <td>49948</td>\n",
              "      <td>6200</td>\n",
              "      <td>555</td>\n",
              "      <td>28.0</td>\n",
              "      <td>5.5</td>\n",
              "    </tr>\n",
              "    <tr>\n",
              "      <th>3</th>\n",
              "      <td>2016</td>\n",
              "      <td>61948</td>\n",
              "      <td>16000</td>\n",
              "      <td>325</td>\n",
              "      <td>30.4</td>\n",
              "      <td>4.0</td>\n",
              "    </tr>\n",
              "    <tr>\n",
              "      <th>4</th>\n",
              "      <td>2016</td>\n",
              "      <td>73948</td>\n",
              "      <td>4000</td>\n",
              "      <td>325</td>\n",
              "      <td>30.1</td>\n",
              "      <td>4.0</td>\n",
              "    </tr>\n",
              "    <tr>\n",
              "      <th>...</th>\n",
              "      <td>...</td>\n",
              "      <td>...</td>\n",
              "      <td>...</td>\n",
              "      <td>...</td>\n",
              "      <td>...</td>\n",
              "      <td>...</td>\n",
              "    </tr>\n",
              "    <tr>\n",
              "      <th>13114</th>\n",
              "      <td>2020</td>\n",
              "      <td>35999</td>\n",
              "      <td>500</td>\n",
              "      <td>145</td>\n",
              "      <td>55.4</td>\n",
              "      <td>2.0</td>\n",
              "    </tr>\n",
              "    <tr>\n",
              "      <th>13115</th>\n",
              "      <td>2020</td>\n",
              "      <td>24699</td>\n",
              "      <td>2500</td>\n",
              "      <td>145</td>\n",
              "      <td>55.4</td>\n",
              "      <td>2.0</td>\n",
              "    </tr>\n",
              "    <tr>\n",
              "      <th>13116</th>\n",
              "      <td>2019</td>\n",
              "      <td>30999</td>\n",
              "      <td>11612</td>\n",
              "      <td>145</td>\n",
              "      <td>41.5</td>\n",
              "      <td>2.1</td>\n",
              "    </tr>\n",
              "    <tr>\n",
              "      <th>13117</th>\n",
              "      <td>2019</td>\n",
              "      <td>37990</td>\n",
              "      <td>2426</td>\n",
              "      <td>145</td>\n",
              "      <td>45.6</td>\n",
              "      <td>2.0</td>\n",
              "    </tr>\n",
              "    <tr>\n",
              "      <th>13118</th>\n",
              "      <td>2019</td>\n",
              "      <td>54999</td>\n",
              "      <td>2075</td>\n",
              "      <td>145</td>\n",
              "      <td>52.3</td>\n",
              "      <td>2.9</td>\n",
              "    </tr>\n",
              "  </tbody>\n",
              "</table>\n",
              "<p>13118 rows × 6 columns</p>\n",
              "</div>"
            ],
            "text/plain": [
              "       year  price  mileage  tax   mpg  engineSize\n",
              "0      2005   5200    63000  325  32.1         1.8\n",
              "1      2017  34948    27000   20  61.4         2.1\n",
              "2      2016  49948     6200  555  28.0         5.5\n",
              "3      2016  61948    16000  325  30.4         4.0\n",
              "4      2016  73948     4000  325  30.1         4.0\n",
              "...     ...    ...      ...  ...   ...         ...\n",
              "13114  2020  35999      500  145  55.4         2.0\n",
              "13115  2020  24699     2500  145  55.4         2.0\n",
              "13116  2019  30999    11612  145  41.5         2.1\n",
              "13117  2019  37990     2426  145  45.6         2.0\n",
              "13118  2019  54999     2075  145  52.3         2.9\n",
              "\n",
              "[13118 rows x 6 columns]"
            ]
          },
          "metadata": {
            "tags": []
          },
          "execution_count": 155
        }
      ]
    },
    {
      "cell_type": "markdown",
      "metadata": {
        "id": "2GdxYAaAW6bR"
      },
      "source": [
        "**Train/Test Split**"
      ]
    },
    {
      "cell_type": "code",
      "metadata": {
        "id": "yMsBq4b8XFdW"
      },
      "source": [
        "y = dataFrame[\"price\"].values\n",
        "x = dataFrame.drop(\"price\",axis = 1).values\n",
        "\n",
        "from sklearn.model_selection import train_test_split\n",
        "x_train, x_test, y_train, y_test = train_test_split(x,y, test_size = 0.3, random_state = 10)"
      ],
      "execution_count": 158,
      "outputs": []
    },
    {
      "cell_type": "code",
      "metadata": {
        "id": "IC9UUeTEX1S_",
        "outputId": "2955ab47-5980-43f0-ec51-28c2d06bf99d",
        "colab": {
          "base_uri": "https://localhost:8080/"
        }
      },
      "source": [
        "len(x_train)"
      ],
      "execution_count": 159,
      "outputs": [
        {
          "output_type": "execute_result",
          "data": {
            "text/plain": [
              "9182"
            ]
          },
          "metadata": {
            "tags": []
          },
          "execution_count": 159
        }
      ]
    },
    {
      "cell_type": "code",
      "metadata": {
        "id": "HzBz_r5cX3hi",
        "outputId": "189b3fda-dc0f-4aeb-eb34-4ff32a8c2b3d",
        "colab": {
          "base_uri": "https://localhost:8080/"
        }
      },
      "source": [
        "len(x_test)"
      ],
      "execution_count": 160,
      "outputs": [
        {
          "output_type": "execute_result",
          "data": {
            "text/plain": [
              "3936"
            ]
          },
          "metadata": {
            "tags": []
          },
          "execution_count": 160
        }
      ]
    },
    {
      "cell_type": "markdown",
      "metadata": {
        "id": "2HrJ_VSBYLs2"
      },
      "source": [
        "**Scale**"
      ]
    },
    {
      "cell_type": "code",
      "metadata": {
        "id": "7silnT4mX5qC"
      },
      "source": [
        "from sklearn.preprocessing import MinMaxScaler\n",
        "scaler = MinMaxScaler()\n",
        "x_train = scaler.fit_transform(x_train)\n",
        "x_test = scaler.fit_transform(x_test)"
      ],
      "execution_count": 161,
      "outputs": []
    },
    {
      "cell_type": "markdown",
      "metadata": {
        "id": "tIBitoErYOON"
      },
      "source": [
        "**Tensorflow Model**"
      ]
    },
    {
      "cell_type": "code",
      "metadata": {
        "id": "FaVO7dmyYQku",
        "outputId": "b290f56f-d228-4493-bd08-ac9624c89d91",
        "colab": {
          "base_uri": "https://localhost:8080/"
        }
      },
      "source": [
        "from tensorflow.keras.models import Sequential\n",
        "from tensorflow.keras.layers import Dense\n",
        "\n",
        "model = Sequential()\n",
        "model.add(Dense(12, activation=\"relu\"))\n",
        "model.add(Dense(12, activation=\"relu\"))\n",
        "model.add(Dense(12, activation=\"relu\"))\n",
        "model.add(Dense(12, activation=\"relu\"))\n",
        "model.add(Dense(1))\n",
        "model.compile(optimizer=\"adam\", loss=\"mse\")\n",
        "model.fit(x = x_train, y = y_train, \n",
        "          validation_data = (x_test, y_test),\n",
        "          batch_size = 250,\n",
        "          epochs = 300)"
      ],
      "execution_count": 166,
      "outputs": [
        {
          "output_type": "stream",
          "text": [
            "Epoch 1/300\n",
            "37/37 [==============================] - 0s 4ms/step - loss: 741599936.0000 - val_loss: 770450432.0000\n",
            "Epoch 2/300\n",
            "37/37 [==============================] - 0s 2ms/step - loss: 741563520.0000 - val_loss: 770390784.0000\n",
            "Epoch 3/300\n",
            "37/37 [==============================] - 0s 2ms/step - loss: 741458944.0000 - val_loss: 770212096.0000\n",
            "Epoch 4/300\n",
            "37/37 [==============================] - 0s 2ms/step - loss: 741138496.0000 - val_loss: 769668288.0000\n",
            "Epoch 5/300\n",
            "37/37 [==============================] - 0s 2ms/step - loss: 740232960.0000 - val_loss: 768252288.0000\n",
            "Epoch 6/300\n",
            "37/37 [==============================] - 0s 2ms/step - loss: 738062784.0000 - val_loss: 765026176.0000\n",
            "Epoch 7/300\n",
            "37/37 [==============================] - 0s 2ms/step - loss: 733306496.0000 - val_loss: 758203456.0000\n",
            "Epoch 8/300\n",
            "37/37 [==============================] - 0s 2ms/step - loss: 723846208.0000 - val_loss: 745255168.0000\n",
            "Epoch 9/300\n",
            "37/37 [==============================] - 0s 2ms/step - loss: 706703104.0000 - val_loss: 722803456.0000\n",
            "Epoch 10/300\n",
            "37/37 [==============================] - 0s 2ms/step - loss: 678364608.0000 - val_loss: 687160960.0000\n",
            "Epoch 11/300\n",
            "37/37 [==============================] - 0s 2ms/step - loss: 635331200.0000 - val_loss: 634843072.0000\n",
            "Epoch 12/300\n",
            "37/37 [==============================] - 0s 2ms/step - loss: 574334976.0000 - val_loss: 563185216.0000\n",
            "Epoch 13/300\n",
            "37/37 [==============================] - 0s 2ms/step - loss: 494567744.0000 - val_loss: 474279712.0000\n",
            "Epoch 14/300\n",
            "37/37 [==============================] - 0s 2ms/step - loss: 401446016.0000 - val_loss: 375819136.0000\n",
            "Epoch 15/300\n",
            "37/37 [==============================] - 0s 2ms/step - loss: 305269728.0000 - val_loss: 282555040.0000\n",
            "Epoch 16/300\n",
            "37/37 [==============================] - 0s 2ms/step - loss: 222518272.0000 - val_loss: 209833600.0000\n",
            "Epoch 17/300\n",
            "37/37 [==============================] - 0s 2ms/step - loss: 166006064.0000 - val_loss: 166646096.0000\n",
            "Epoch 18/300\n",
            "37/37 [==============================] - 0s 2ms/step - loss: 137589120.0000 - val_loss: 148065424.0000\n",
            "Epoch 19/300\n",
            "37/37 [==============================] - 0s 2ms/step - loss: 127346608.0000 - val_loss: 142100368.0000\n",
            "Epoch 20/300\n",
            "37/37 [==============================] - 0s 2ms/step - loss: 124374408.0000 - val_loss: 140058528.0000\n",
            "Epoch 21/300\n",
            "37/37 [==============================] - 0s 2ms/step - loss: 123154376.0000 - val_loss: 139029536.0000\n",
            "Epoch 22/300\n",
            "37/37 [==============================] - 0s 2ms/step - loss: 122327336.0000 - val_loss: 138175728.0000\n",
            "Epoch 23/300\n",
            "37/37 [==============================] - 0s 2ms/step - loss: 121589080.0000 - val_loss: 137436464.0000\n",
            "Epoch 24/300\n",
            "37/37 [==============================] - 0s 2ms/step - loss: 120869312.0000 - val_loss: 136742336.0000\n",
            "Epoch 25/300\n",
            "37/37 [==============================] - 0s 2ms/step - loss: 120185904.0000 - val_loss: 136051312.0000\n",
            "Epoch 26/300\n",
            "37/37 [==============================] - 0s 2ms/step - loss: 119521480.0000 - val_loss: 135377920.0000\n",
            "Epoch 27/300\n",
            "37/37 [==============================] - 0s 2ms/step - loss: 118867832.0000 - val_loss: 134716400.0000\n",
            "Epoch 28/300\n",
            "37/37 [==============================] - 0s 2ms/step - loss: 118228464.0000 - val_loss: 134090024.0000\n",
            "Epoch 29/300\n",
            "37/37 [==============================] - 0s 2ms/step - loss: 117595720.0000 - val_loss: 133418440.0000\n",
            "Epoch 30/300\n",
            "37/37 [==============================] - 0s 2ms/step - loss: 116978672.0000 - val_loss: 132801376.0000\n",
            "Epoch 31/300\n",
            "37/37 [==============================] - 0s 2ms/step - loss: 116354792.0000 - val_loss: 132195304.0000\n",
            "Epoch 32/300\n",
            "37/37 [==============================] - 0s 2ms/step - loss: 115752432.0000 - val_loss: 131529768.0000\n",
            "Epoch 33/300\n",
            "37/37 [==============================] - 0s 2ms/step - loss: 115142448.0000 - val_loss: 130960976.0000\n",
            "Epoch 34/300\n",
            "37/37 [==============================] - 0s 2ms/step - loss: 114530504.0000 - val_loss: 130315208.0000\n",
            "Epoch 35/300\n",
            "37/37 [==============================] - 0s 2ms/step - loss: 113931312.0000 - val_loss: 129717696.0000\n",
            "Epoch 36/300\n",
            "37/37 [==============================] - 0s 2ms/step - loss: 113320584.0000 - val_loss: 129086024.0000\n",
            "Epoch 37/300\n",
            "37/37 [==============================] - 0s 2ms/step - loss: 112711544.0000 - val_loss: 128466520.0000\n",
            "Epoch 38/300\n",
            "37/37 [==============================] - 0s 2ms/step - loss: 112104328.0000 - val_loss: 127822000.0000\n",
            "Epoch 39/300\n",
            "37/37 [==============================] - 0s 2ms/step - loss: 111500640.0000 - val_loss: 127222856.0000\n",
            "Epoch 40/300\n",
            "37/37 [==============================] - 0s 2ms/step - loss: 110904688.0000 - val_loss: 126583488.0000\n",
            "Epoch 41/300\n",
            "37/37 [==============================] - 0s 2ms/step - loss: 110306456.0000 - val_loss: 125974912.0000\n",
            "Epoch 42/300\n",
            "37/37 [==============================] - 0s 2ms/step - loss: 109694928.0000 - val_loss: 125369368.0000\n",
            "Epoch 43/300\n",
            "37/37 [==============================] - 0s 2ms/step - loss: 109077624.0000 - val_loss: 124723352.0000\n",
            "Epoch 44/300\n",
            "37/37 [==============================] - 0s 2ms/step - loss: 108481584.0000 - val_loss: 124108024.0000\n",
            "Epoch 45/300\n",
            "37/37 [==============================] - 0s 2ms/step - loss: 107861616.0000 - val_loss: 123429960.0000\n",
            "Epoch 46/300\n",
            "37/37 [==============================] - 0s 2ms/step - loss: 107234968.0000 - val_loss: 122793504.0000\n",
            "Epoch 47/300\n",
            "37/37 [==============================] - 0s 2ms/step - loss: 106608360.0000 - val_loss: 122158888.0000\n",
            "Epoch 48/300\n",
            "37/37 [==============================] - 0s 2ms/step - loss: 105978616.0000 - val_loss: 121545528.0000\n",
            "Epoch 49/300\n",
            "37/37 [==============================] - 0s 2ms/step - loss: 105348304.0000 - val_loss: 120831576.0000\n",
            "Epoch 50/300\n",
            "37/37 [==============================] - 0s 2ms/step - loss: 104731448.0000 - val_loss: 120203016.0000\n",
            "Epoch 51/300\n",
            "37/37 [==============================] - 0s 2ms/step - loss: 104065256.0000 - val_loss: 119511992.0000\n",
            "Epoch 52/300\n",
            "37/37 [==============================] - 0s 2ms/step - loss: 103418952.0000 - val_loss: 118837072.0000\n",
            "Epoch 53/300\n",
            "37/37 [==============================] - 0s 2ms/step - loss: 102768448.0000 - val_loss: 118155352.0000\n",
            "Epoch 54/300\n",
            "37/37 [==============================] - 0s 2ms/step - loss: 102105032.0000 - val_loss: 117469800.0000\n",
            "Epoch 55/300\n",
            "37/37 [==============================] - 0s 2ms/step - loss: 101437176.0000 - val_loss: 116765520.0000\n",
            "Epoch 56/300\n",
            "37/37 [==============================] - 0s 2ms/step - loss: 100758048.0000 - val_loss: 116101064.0000\n",
            "Epoch 57/300\n",
            "37/37 [==============================] - 0s 2ms/step - loss: 100071280.0000 - val_loss: 115328712.0000\n",
            "Epoch 58/300\n",
            "37/37 [==============================] - 0s 2ms/step - loss: 99380176.0000 - val_loss: 114596472.0000\n",
            "Epoch 59/300\n",
            "37/37 [==============================] - 0s 2ms/step - loss: 98688024.0000 - val_loss: 113865280.0000\n",
            "Epoch 60/300\n",
            "37/37 [==============================] - 0s 2ms/step - loss: 97968368.0000 - val_loss: 113141816.0000\n",
            "Epoch 61/300\n",
            "37/37 [==============================] - 0s 2ms/step - loss: 97241936.0000 - val_loss: 112340968.0000\n",
            "Epoch 62/300\n",
            "37/37 [==============================] - 0s 2ms/step - loss: 96498912.0000 - val_loss: 111604192.0000\n",
            "Epoch 63/300\n",
            "37/37 [==============================] - 0s 2ms/step - loss: 95750712.0000 - val_loss: 110789776.0000\n",
            "Epoch 64/300\n",
            "37/37 [==============================] - 0s 2ms/step - loss: 94995192.0000 - val_loss: 109954072.0000\n",
            "Epoch 65/300\n",
            "37/37 [==============================] - 0s 2ms/step - loss: 94218592.0000 - val_loss: 109177368.0000\n",
            "Epoch 66/300\n",
            "37/37 [==============================] - 0s 2ms/step - loss: 93423176.0000 - val_loss: 108320320.0000\n",
            "Epoch 67/300\n",
            "37/37 [==============================] - 0s 2ms/step - loss: 92673728.0000 - val_loss: 107494352.0000\n",
            "Epoch 68/300\n",
            "37/37 [==============================] - 0s 2ms/step - loss: 91822472.0000 - val_loss: 106563752.0000\n",
            "Epoch 69/300\n",
            "37/37 [==============================] - 0s 2ms/step - loss: 90978760.0000 - val_loss: 105701296.0000\n",
            "Epoch 70/300\n",
            "37/37 [==============================] - 0s 2ms/step - loss: 90153544.0000 - val_loss: 104806128.0000\n",
            "Epoch 71/300\n",
            "37/37 [==============================] - 0s 2ms/step - loss: 89271144.0000 - val_loss: 103852552.0000\n",
            "Epoch 72/300\n",
            "37/37 [==============================] - 0s 2ms/step - loss: 88380208.0000 - val_loss: 102930720.0000\n",
            "Epoch 73/300\n",
            "37/37 [==============================] - 0s 2ms/step - loss: 87482672.0000 - val_loss: 101936280.0000\n",
            "Epoch 74/300\n",
            "37/37 [==============================] - 0s 2ms/step - loss: 86583024.0000 - val_loss: 100959024.0000\n",
            "Epoch 75/300\n",
            "37/37 [==============================] - 0s 2ms/step - loss: 85639184.0000 - val_loss: 99950168.0000\n",
            "Epoch 76/300\n",
            "37/37 [==============================] - 0s 2ms/step - loss: 84697800.0000 - val_loss: 98885664.0000\n",
            "Epoch 77/300\n",
            "37/37 [==============================] - 0s 2ms/step - loss: 83691736.0000 - val_loss: 97890768.0000\n",
            "Epoch 78/300\n",
            "37/37 [==============================] - 0s 2ms/step - loss: 82707392.0000 - val_loss: 96774720.0000\n",
            "Epoch 79/300\n",
            "37/37 [==============================] - 0s 2ms/step - loss: 81691888.0000 - val_loss: 95689512.0000\n",
            "Epoch 80/300\n",
            "37/37 [==============================] - 0s 2ms/step - loss: 80680576.0000 - val_loss: 94591024.0000\n",
            "Epoch 81/300\n",
            "37/37 [==============================] - 0s 2ms/step - loss: 79613920.0000 - val_loss: 93436136.0000\n",
            "Epoch 82/300\n",
            "37/37 [==============================] - 0s 2ms/step - loss: 78576184.0000 - val_loss: 92248008.0000\n",
            "Epoch 83/300\n",
            "37/37 [==============================] - 0s 2ms/step - loss: 77472688.0000 - val_loss: 91067856.0000\n",
            "Epoch 84/300\n",
            "37/37 [==============================] - 0s 2ms/step - loss: 76377944.0000 - val_loss: 89784320.0000\n",
            "Epoch 85/300\n",
            "37/37 [==============================] - 0s 2ms/step - loss: 75254360.0000 - val_loss: 88558064.0000\n",
            "Epoch 86/300\n",
            "37/37 [==============================] - 0s 2ms/step - loss: 74096088.0000 - val_loss: 87318176.0000\n",
            "Epoch 87/300\n",
            "37/37 [==============================] - 0s 2ms/step - loss: 72935416.0000 - val_loss: 86013592.0000\n",
            "Epoch 88/300\n",
            "37/37 [==============================] - 0s 2ms/step - loss: 71802040.0000 - val_loss: 84739856.0000\n",
            "Epoch 89/300\n",
            "37/37 [==============================] - 0s 2ms/step - loss: 70581560.0000 - val_loss: 83379464.0000\n",
            "Epoch 90/300\n",
            "37/37 [==============================] - 0s 2ms/step - loss: 69364592.0000 - val_loss: 82039312.0000\n",
            "Epoch 91/300\n",
            "37/37 [==============================] - 0s 2ms/step - loss: 68117696.0000 - val_loss: 80645600.0000\n",
            "Epoch 92/300\n",
            "37/37 [==============================] - 0s 2ms/step - loss: 66880052.0000 - val_loss: 79243848.0000\n",
            "Epoch 93/300\n",
            "37/37 [==============================] - 0s 2ms/step - loss: 65644960.0000 - val_loss: 77786920.0000\n",
            "Epoch 94/300\n",
            "37/37 [==============================] - 0s 2ms/step - loss: 64372204.0000 - val_loss: 76398648.0000\n",
            "Epoch 95/300\n",
            "37/37 [==============================] - 0s 2ms/step - loss: 63120896.0000 - val_loss: 74955368.0000\n",
            "Epoch 96/300\n",
            "37/37 [==============================] - 0s 2ms/step - loss: 61847868.0000 - val_loss: 73560504.0000\n",
            "Epoch 97/300\n",
            "37/37 [==============================] - 0s 2ms/step - loss: 60621556.0000 - val_loss: 72045296.0000\n",
            "Epoch 98/300\n",
            "37/37 [==============================] - 0s 2ms/step - loss: 59328104.0000 - val_loss: 70690984.0000\n",
            "Epoch 99/300\n",
            "37/37 [==============================] - 0s 2ms/step - loss: 58134184.0000 - val_loss: 69247472.0000\n",
            "Epoch 100/300\n",
            "37/37 [==============================] - 0s 2ms/step - loss: 56888172.0000 - val_loss: 67803760.0000\n",
            "Epoch 101/300\n",
            "37/37 [==============================] - 0s 2ms/step - loss: 55689708.0000 - val_loss: 66461448.0000\n",
            "Epoch 102/300\n",
            "37/37 [==============================] - 0s 2ms/step - loss: 54511968.0000 - val_loss: 65110628.0000\n",
            "Epoch 103/300\n",
            "37/37 [==============================] - 0s 2ms/step - loss: 53361648.0000 - val_loss: 63771088.0000\n",
            "Epoch 104/300\n",
            "37/37 [==============================] - 0s 2ms/step - loss: 52288676.0000 - val_loss: 62470592.0000\n",
            "Epoch 105/300\n",
            "37/37 [==============================] - 0s 2ms/step - loss: 51179232.0000 - val_loss: 61206880.0000\n",
            "Epoch 106/300\n",
            "37/37 [==============================] - 0s 2ms/step - loss: 50148060.0000 - val_loss: 60003956.0000\n",
            "Epoch 107/300\n",
            "37/37 [==============================] - 0s 2ms/step - loss: 49146244.0000 - val_loss: 58789664.0000\n",
            "Epoch 108/300\n",
            "37/37 [==============================] - 0s 2ms/step - loss: 48171544.0000 - val_loss: 57658560.0000\n",
            "Epoch 109/300\n",
            "37/37 [==============================] - 0s 2ms/step - loss: 47251528.0000 - val_loss: 56556824.0000\n",
            "Epoch 110/300\n",
            "37/37 [==============================] - 0s 2ms/step - loss: 46356608.0000 - val_loss: 55438820.0000\n",
            "Epoch 111/300\n",
            "37/37 [==============================] - 0s 2ms/step - loss: 45476568.0000 - val_loss: 54394720.0000\n",
            "Epoch 112/300\n",
            "37/37 [==============================] - 0s 2ms/step - loss: 44650028.0000 - val_loss: 53428880.0000\n",
            "Epoch 113/300\n",
            "37/37 [==============================] - 0s 2ms/step - loss: 43898384.0000 - val_loss: 52463432.0000\n",
            "Epoch 114/300\n",
            "37/37 [==============================] - 0s 2ms/step - loss: 43143252.0000 - val_loss: 51596012.0000\n",
            "Epoch 115/300\n",
            "37/37 [==============================] - 0s 2ms/step - loss: 42471840.0000 - val_loss: 50763048.0000\n",
            "Epoch 116/300\n",
            "37/37 [==============================] - 0s 2ms/step - loss: 41834944.0000 - val_loss: 49974272.0000\n",
            "Epoch 117/300\n",
            "37/37 [==============================] - 0s 2ms/step - loss: 41267896.0000 - val_loss: 49377204.0000\n",
            "Epoch 118/300\n",
            "37/37 [==============================] - 0s 2ms/step - loss: 40709224.0000 - val_loss: 48526320.0000\n",
            "Epoch 119/300\n",
            "37/37 [==============================] - 0s 2ms/step - loss: 40138864.0000 - val_loss: 47932868.0000\n",
            "Epoch 120/300\n",
            "37/37 [==============================] - 0s 2ms/step - loss: 39740288.0000 - val_loss: 47346552.0000\n",
            "Epoch 121/300\n",
            "37/37 [==============================] - 0s 2ms/step - loss: 39262440.0000 - val_loss: 46796980.0000\n",
            "Epoch 122/300\n",
            "37/37 [==============================] - 0s 2ms/step - loss: 38838256.0000 - val_loss: 46291784.0000\n",
            "Epoch 123/300\n",
            "37/37 [==============================] - 0s 2ms/step - loss: 38457752.0000 - val_loss: 45781684.0000\n",
            "Epoch 124/300\n",
            "37/37 [==============================] - 0s 2ms/step - loss: 38098424.0000 - val_loss: 45396164.0000\n",
            "Epoch 125/300\n",
            "37/37 [==============================] - 0s 2ms/step - loss: 37789180.0000 - val_loss: 44954920.0000\n",
            "Epoch 126/300\n",
            "37/37 [==============================] - 0s 2ms/step - loss: 37470960.0000 - val_loss: 44585644.0000\n",
            "Epoch 127/300\n",
            "37/37 [==============================] - 0s 2ms/step - loss: 37234388.0000 - val_loss: 44224968.0000\n",
            "Epoch 128/300\n",
            "37/37 [==============================] - 0s 2ms/step - loss: 36915232.0000 - val_loss: 43927776.0000\n",
            "Epoch 129/300\n",
            "37/37 [==============================] - 0s 2ms/step - loss: 36705452.0000 - val_loss: 43581656.0000\n",
            "Epoch 130/300\n",
            "37/37 [==============================] - 0s 2ms/step - loss: 36428540.0000 - val_loss: 43252976.0000\n",
            "Epoch 131/300\n",
            "37/37 [==============================] - 0s 2ms/step - loss: 36196864.0000 - val_loss: 42968884.0000\n",
            "Epoch 132/300\n",
            "37/37 [==============================] - 0s 2ms/step - loss: 36004256.0000 - val_loss: 42761736.0000\n",
            "Epoch 133/300\n",
            "37/37 [==============================] - 0s 2ms/step - loss: 35794768.0000 - val_loss: 42467368.0000\n",
            "Epoch 134/300\n",
            "37/37 [==============================] - 0s 2ms/step - loss: 35565564.0000 - val_loss: 42167044.0000\n",
            "Epoch 135/300\n",
            "37/37 [==============================] - 0s 2ms/step - loss: 35385916.0000 - val_loss: 41948484.0000\n",
            "Epoch 136/300\n",
            "37/37 [==============================] - 0s 2ms/step - loss: 35122984.0000 - val_loss: 41635248.0000\n",
            "Epoch 137/300\n",
            "37/37 [==============================] - 0s 2ms/step - loss: 34958412.0000 - val_loss: 41471952.0000\n",
            "Epoch 138/300\n",
            "37/37 [==============================] - 0s 2ms/step - loss: 34766720.0000 - val_loss: 41129260.0000\n",
            "Epoch 139/300\n",
            "37/37 [==============================] - 0s 2ms/step - loss: 34520108.0000 - val_loss: 40886388.0000\n",
            "Epoch 140/300\n",
            "37/37 [==============================] - 0s 2ms/step - loss: 34385712.0000 - val_loss: 40663492.0000\n",
            "Epoch 141/300\n",
            "37/37 [==============================] - 0s 2ms/step - loss: 34163292.0000 - val_loss: 40470812.0000\n",
            "Epoch 142/300\n",
            "37/37 [==============================] - 0s 2ms/step - loss: 33993176.0000 - val_loss: 40220696.0000\n",
            "Epoch 143/300\n",
            "37/37 [==============================] - 0s 2ms/step - loss: 33835896.0000 - val_loss: 40055556.0000\n",
            "Epoch 144/300\n",
            "37/37 [==============================] - 0s 2ms/step - loss: 33694816.0000 - val_loss: 39853972.0000\n",
            "Epoch 145/300\n",
            "37/37 [==============================] - 0s 2ms/step - loss: 33524244.0000 - val_loss: 39714800.0000\n",
            "Epoch 146/300\n",
            "37/37 [==============================] - 0s 2ms/step - loss: 33452492.0000 - val_loss: 39591080.0000\n",
            "Epoch 147/300\n",
            "37/37 [==============================] - 0s 2ms/step - loss: 33302276.0000 - val_loss: 39383048.0000\n",
            "Epoch 148/300\n",
            "37/37 [==============================] - 0s 2ms/step - loss: 33229122.0000 - val_loss: 39289332.0000\n",
            "Epoch 149/300\n",
            "37/37 [==============================] - 0s 2ms/step - loss: 33089492.0000 - val_loss: 39148956.0000\n",
            "Epoch 150/300\n",
            "37/37 [==============================] - 0s 2ms/step - loss: 32989836.0000 - val_loss: 38986776.0000\n",
            "Epoch 151/300\n",
            "37/37 [==============================] - 0s 2ms/step - loss: 32904090.0000 - val_loss: 38904052.0000\n",
            "Epoch 152/300\n",
            "37/37 [==============================] - 0s 2ms/step - loss: 32802778.0000 - val_loss: 38768908.0000\n",
            "Epoch 153/300\n",
            "37/37 [==============================] - 0s 2ms/step - loss: 32728590.0000 - val_loss: 38672840.0000\n",
            "Epoch 154/300\n",
            "37/37 [==============================] - 0s 2ms/step - loss: 32660136.0000 - val_loss: 38604312.0000\n",
            "Epoch 155/300\n",
            "37/37 [==============================] - 0s 2ms/step - loss: 32575474.0000 - val_loss: 38474408.0000\n",
            "Epoch 156/300\n",
            "37/37 [==============================] - 0s 2ms/step - loss: 32503294.0000 - val_loss: 38389880.0000\n",
            "Epoch 157/300\n",
            "37/37 [==============================] - 0s 2ms/step - loss: 32487416.0000 - val_loss: 38316576.0000\n",
            "Epoch 158/300\n",
            "37/37 [==============================] - 0s 2ms/step - loss: 32365890.0000 - val_loss: 38241692.0000\n",
            "Epoch 159/300\n",
            "37/37 [==============================] - 0s 2ms/step - loss: 32377782.0000 - val_loss: 38162036.0000\n",
            "Epoch 160/300\n",
            "37/37 [==============================] - 0s 2ms/step - loss: 32262886.0000 - val_loss: 38088848.0000\n",
            "Epoch 161/300\n",
            "37/37 [==============================] - 0s 2ms/step - loss: 32176270.0000 - val_loss: 37984780.0000\n",
            "Epoch 162/300\n",
            "37/37 [==============================] - 0s 2ms/step - loss: 32138406.0000 - val_loss: 37902736.0000\n",
            "Epoch 163/300\n",
            "37/37 [==============================] - 0s 2ms/step - loss: 32032772.0000 - val_loss: 37885040.0000\n",
            "Epoch 164/300\n",
            "37/37 [==============================] - 0s 2ms/step - loss: 31993298.0000 - val_loss: 37758528.0000\n",
            "Epoch 165/300\n",
            "37/37 [==============================] - 0s 2ms/step - loss: 31932870.0000 - val_loss: 37712112.0000\n",
            "Epoch 166/300\n",
            "37/37 [==============================] - 0s 2ms/step - loss: 31918684.0000 - val_loss: 37594936.0000\n",
            "Epoch 167/300\n",
            "37/37 [==============================] - 0s 2ms/step - loss: 31826172.0000 - val_loss: 37549368.0000\n",
            "Epoch 168/300\n",
            "37/37 [==============================] - 0s 2ms/step - loss: 31800952.0000 - val_loss: 37493760.0000\n",
            "Epoch 169/300\n",
            "37/37 [==============================] - 0s 2ms/step - loss: 31764746.0000 - val_loss: 37391108.0000\n",
            "Epoch 170/300\n",
            "37/37 [==============================] - 0s 2ms/step - loss: 31704518.0000 - val_loss: 37326760.0000\n",
            "Epoch 171/300\n",
            "37/37 [==============================] - 0s 2ms/step - loss: 31633838.0000 - val_loss: 37286188.0000\n",
            "Epoch 172/300\n",
            "37/37 [==============================] - 0s 2ms/step - loss: 31583306.0000 - val_loss: 37214368.0000\n",
            "Epoch 173/300\n",
            "37/37 [==============================] - 0s 2ms/step - loss: 31547090.0000 - val_loss: 37155200.0000\n",
            "Epoch 174/300\n",
            "37/37 [==============================] - 0s 2ms/step - loss: 31486184.0000 - val_loss: 37138972.0000\n",
            "Epoch 175/300\n",
            "37/37 [==============================] - 0s 2ms/step - loss: 31438002.0000 - val_loss: 37032720.0000\n",
            "Epoch 176/300\n",
            "37/37 [==============================] - 0s 2ms/step - loss: 31420676.0000 - val_loss: 37004636.0000\n",
            "Epoch 177/300\n",
            "37/37 [==============================] - 0s 2ms/step - loss: 31393842.0000 - val_loss: 36961716.0000\n",
            "Epoch 178/300\n",
            "37/37 [==============================] - 0s 2ms/step - loss: 31311366.0000 - val_loss: 36903744.0000\n",
            "Epoch 179/300\n",
            "37/37 [==============================] - 0s 2ms/step - loss: 31277544.0000 - val_loss: 36807560.0000\n",
            "Epoch 180/300\n",
            "37/37 [==============================] - 0s 2ms/step - loss: 31251004.0000 - val_loss: 36759572.0000\n",
            "Epoch 181/300\n",
            "37/37 [==============================] - 0s 2ms/step - loss: 31202638.0000 - val_loss: 36736644.0000\n",
            "Epoch 182/300\n",
            "37/37 [==============================] - 0s 2ms/step - loss: 31212316.0000 - val_loss: 36678208.0000\n",
            "Epoch 183/300\n",
            "37/37 [==============================] - 0s 2ms/step - loss: 31200572.0000 - val_loss: 36624940.0000\n",
            "Epoch 184/300\n",
            "37/37 [==============================] - 0s 2ms/step - loss: 31102864.0000 - val_loss: 36560044.0000\n",
            "Epoch 185/300\n",
            "37/37 [==============================] - 0s 2ms/step - loss: 31054090.0000 - val_loss: 36522896.0000\n",
            "Epoch 186/300\n",
            "37/37 [==============================] - 0s 2ms/step - loss: 31018744.0000 - val_loss: 36481968.0000\n",
            "Epoch 187/300\n",
            "37/37 [==============================] - 0s 2ms/step - loss: 30999820.0000 - val_loss: 36407056.0000\n",
            "Epoch 188/300\n",
            "37/37 [==============================] - 0s 2ms/step - loss: 30958284.0000 - val_loss: 36469848.0000\n",
            "Epoch 189/300\n",
            "37/37 [==============================] - 0s 2ms/step - loss: 30938410.0000 - val_loss: 36316244.0000\n",
            "Epoch 190/300\n",
            "37/37 [==============================] - 0s 2ms/step - loss: 30874808.0000 - val_loss: 36278952.0000\n",
            "Epoch 191/300\n",
            "37/37 [==============================] - 0s 2ms/step - loss: 30824470.0000 - val_loss: 36239504.0000\n",
            "Epoch 192/300\n",
            "37/37 [==============================] - 0s 2ms/step - loss: 30809918.0000 - val_loss: 36192724.0000\n",
            "Epoch 193/300\n",
            "37/37 [==============================] - 0s 2ms/step - loss: 30765586.0000 - val_loss: 36152856.0000\n",
            "Epoch 194/300\n",
            "37/37 [==============================] - 0s 2ms/step - loss: 30756216.0000 - val_loss: 36137060.0000\n",
            "Epoch 195/300\n",
            "37/37 [==============================] - 0s 2ms/step - loss: 30689708.0000 - val_loss: 36063428.0000\n",
            "Epoch 196/300\n",
            "37/37 [==============================] - 0s 2ms/step - loss: 30692106.0000 - val_loss: 36040612.0000\n",
            "Epoch 197/300\n",
            "37/37 [==============================] - 0s 2ms/step - loss: 30659410.0000 - val_loss: 35996400.0000\n",
            "Epoch 198/300\n",
            "37/37 [==============================] - 0s 2ms/step - loss: 30616778.0000 - val_loss: 36024352.0000\n",
            "Epoch 199/300\n",
            "37/37 [==============================] - 0s 2ms/step - loss: 30613462.0000 - val_loss: 36000048.0000\n",
            "Epoch 200/300\n",
            "37/37 [==============================] - 0s 2ms/step - loss: 30564396.0000 - val_loss: 35869100.0000\n",
            "Epoch 201/300\n",
            "37/37 [==============================] - 0s 2ms/step - loss: 30515394.0000 - val_loss: 35829364.0000\n",
            "Epoch 202/300\n",
            "37/37 [==============================] - 0s 2ms/step - loss: 30467512.0000 - val_loss: 35781660.0000\n",
            "Epoch 203/300\n",
            "37/37 [==============================] - 0s 2ms/step - loss: 30433850.0000 - val_loss: 35792652.0000\n",
            "Epoch 204/300\n",
            "37/37 [==============================] - 0s 2ms/step - loss: 30517204.0000 - val_loss: 35711296.0000\n",
            "Epoch 205/300\n",
            "37/37 [==============================] - 0s 2ms/step - loss: 30397124.0000 - val_loss: 35677904.0000\n",
            "Epoch 206/300\n",
            "37/37 [==============================] - 0s 2ms/step - loss: 30377060.0000 - val_loss: 35667020.0000\n",
            "Epoch 207/300\n",
            "37/37 [==============================] - 0s 2ms/step - loss: 30336644.0000 - val_loss: 35624620.0000\n",
            "Epoch 208/300\n",
            "37/37 [==============================] - 0s 2ms/step - loss: 30339478.0000 - val_loss: 35568248.0000\n",
            "Epoch 209/300\n",
            "37/37 [==============================] - 0s 2ms/step - loss: 30301934.0000 - val_loss: 35531772.0000\n",
            "Epoch 210/300\n",
            "37/37 [==============================] - 0s 2ms/step - loss: 30238554.0000 - val_loss: 35488164.0000\n",
            "Epoch 211/300\n",
            "37/37 [==============================] - 0s 2ms/step - loss: 30234182.0000 - val_loss: 35479628.0000\n",
            "Epoch 212/300\n",
            "37/37 [==============================] - 0s 2ms/step - loss: 30244026.0000 - val_loss: 35463000.0000\n",
            "Epoch 213/300\n",
            "37/37 [==============================] - 0s 2ms/step - loss: 30212760.0000 - val_loss: 35422160.0000\n",
            "Epoch 214/300\n",
            "37/37 [==============================] - 0s 2ms/step - loss: 30146024.0000 - val_loss: 35402616.0000\n",
            "Epoch 215/300\n",
            "37/37 [==============================] - 0s 2ms/step - loss: 30125616.0000 - val_loss: 35418440.0000\n",
            "Epoch 216/300\n",
            "37/37 [==============================] - 0s 2ms/step - loss: 30127852.0000 - val_loss: 35298000.0000\n",
            "Epoch 217/300\n",
            "37/37 [==============================] - 0s 2ms/step - loss: 30086102.0000 - val_loss: 35269264.0000\n",
            "Epoch 218/300\n",
            "37/37 [==============================] - 0s 2ms/step - loss: 30108282.0000 - val_loss: 35239872.0000\n",
            "Epoch 219/300\n",
            "37/37 [==============================] - 0s 2ms/step - loss: 30053924.0000 - val_loss: 35249256.0000\n",
            "Epoch 220/300\n",
            "37/37 [==============================] - 0s 2ms/step - loss: 30036308.0000 - val_loss: 35210540.0000\n",
            "Epoch 221/300\n",
            "37/37 [==============================] - 0s 2ms/step - loss: 30010528.0000 - val_loss: 35173672.0000\n",
            "Epoch 222/300\n",
            "37/37 [==============================] - 0s 2ms/step - loss: 29990258.0000 - val_loss: 35124064.0000\n",
            "Epoch 223/300\n",
            "37/37 [==============================] - 0s 2ms/step - loss: 29972154.0000 - val_loss: 35098596.0000\n",
            "Epoch 224/300\n",
            "37/37 [==============================] - 0s 2ms/step - loss: 30006106.0000 - val_loss: 35099436.0000\n",
            "Epoch 225/300\n",
            "37/37 [==============================] - 0s 2ms/step - loss: 29928892.0000 - val_loss: 35105152.0000\n",
            "Epoch 226/300\n",
            "37/37 [==============================] - 0s 2ms/step - loss: 29940844.0000 - val_loss: 35025944.0000\n",
            "Epoch 227/300\n",
            "37/37 [==============================] - 0s 2ms/step - loss: 29899268.0000 - val_loss: 35050808.0000\n",
            "Epoch 228/300\n",
            "37/37 [==============================] - 0s 2ms/step - loss: 29909098.0000 - val_loss: 35079136.0000\n",
            "Epoch 229/300\n",
            "37/37 [==============================] - 0s 2ms/step - loss: 29867950.0000 - val_loss: 35038688.0000\n",
            "Epoch 230/300\n",
            "37/37 [==============================] - 0s 2ms/step - loss: 29860566.0000 - val_loss: 34938388.0000\n",
            "Epoch 231/300\n",
            "37/37 [==============================] - 0s 2ms/step - loss: 29838792.0000 - val_loss: 34932216.0000\n",
            "Epoch 232/300\n",
            "37/37 [==============================] - 0s 2ms/step - loss: 29875686.0000 - val_loss: 34986332.0000\n",
            "Epoch 233/300\n",
            "37/37 [==============================] - 0s 2ms/step - loss: 29799558.0000 - val_loss: 34865264.0000\n",
            "Epoch 234/300\n",
            "37/37 [==============================] - 0s 2ms/step - loss: 29793716.0000 - val_loss: 34876868.0000\n",
            "Epoch 235/300\n",
            "37/37 [==============================] - 0s 2ms/step - loss: 29793980.0000 - val_loss: 34814560.0000\n",
            "Epoch 236/300\n",
            "37/37 [==============================] - 0s 2ms/step - loss: 29778596.0000 - val_loss: 34809764.0000\n",
            "Epoch 237/300\n",
            "37/37 [==============================] - 0s 2ms/step - loss: 29750804.0000 - val_loss: 34783704.0000\n",
            "Epoch 238/300\n",
            "37/37 [==============================] - 0s 2ms/step - loss: 29722152.0000 - val_loss: 34778708.0000\n",
            "Epoch 239/300\n",
            "37/37 [==============================] - 0s 2ms/step - loss: 29717038.0000 - val_loss: 34771284.0000\n",
            "Epoch 240/300\n",
            "37/37 [==============================] - 0s 2ms/step - loss: 29697934.0000 - val_loss: 34770040.0000\n",
            "Epoch 241/300\n",
            "37/37 [==============================] - 0s 2ms/step - loss: 29701038.0000 - val_loss: 34703528.0000\n",
            "Epoch 242/300\n",
            "37/37 [==============================] - 0s 2ms/step - loss: 29693802.0000 - val_loss: 34689600.0000\n",
            "Epoch 243/300\n",
            "37/37 [==============================] - 0s 2ms/step - loss: 29702532.0000 - val_loss: 34661312.0000\n",
            "Epoch 244/300\n",
            "37/37 [==============================] - 0s 2ms/step - loss: 29671480.0000 - val_loss: 34651664.0000\n",
            "Epoch 245/300\n",
            "37/37 [==============================] - 0s 2ms/step - loss: 29653792.0000 - val_loss: 34648756.0000\n",
            "Epoch 246/300\n",
            "37/37 [==============================] - 0s 2ms/step - loss: 29619950.0000 - val_loss: 34621524.0000\n",
            "Epoch 247/300\n",
            "37/37 [==============================] - 0s 2ms/step - loss: 29603094.0000 - val_loss: 34633536.0000\n",
            "Epoch 248/300\n",
            "37/37 [==============================] - 0s 2ms/step - loss: 29618794.0000 - val_loss: 34576584.0000\n",
            "Epoch 249/300\n",
            "37/37 [==============================] - 0s 2ms/step - loss: 29580514.0000 - val_loss: 34564884.0000\n",
            "Epoch 250/300\n",
            "37/37 [==============================] - 0s 2ms/step - loss: 29577524.0000 - val_loss: 34570020.0000\n",
            "Epoch 251/300\n",
            "37/37 [==============================] - 0s 2ms/step - loss: 29568886.0000 - val_loss: 34545040.0000\n",
            "Epoch 252/300\n",
            "37/37 [==============================] - 0s 2ms/step - loss: 29574154.0000 - val_loss: 34530200.0000\n",
            "Epoch 253/300\n",
            "37/37 [==============================] - 0s 2ms/step - loss: 29545690.0000 - val_loss: 34500204.0000\n",
            "Epoch 254/300\n",
            "37/37 [==============================] - 0s 2ms/step - loss: 29545678.0000 - val_loss: 34501120.0000\n",
            "Epoch 255/300\n",
            "37/37 [==============================] - 0s 2ms/step - loss: 29514424.0000 - val_loss: 34470960.0000\n",
            "Epoch 256/300\n",
            "37/37 [==============================] - 0s 2ms/step - loss: 29523934.0000 - val_loss: 34458140.0000\n",
            "Epoch 257/300\n",
            "37/37 [==============================] - 0s 2ms/step - loss: 29496972.0000 - val_loss: 34463940.0000\n",
            "Epoch 258/300\n",
            "37/37 [==============================] - 0s 2ms/step - loss: 29502776.0000 - val_loss: 34428924.0000\n",
            "Epoch 259/300\n",
            "37/37 [==============================] - 0s 2ms/step - loss: 29497716.0000 - val_loss: 34451904.0000\n",
            "Epoch 260/300\n",
            "37/37 [==============================] - 0s 2ms/step - loss: 29481596.0000 - val_loss: 34397064.0000\n",
            "Epoch 261/300\n",
            "37/37 [==============================] - 0s 2ms/step - loss: 29468156.0000 - val_loss: 34384676.0000\n",
            "Epoch 262/300\n",
            "37/37 [==============================] - 0s 2ms/step - loss: 29447952.0000 - val_loss: 34381568.0000\n",
            "Epoch 263/300\n",
            "37/37 [==============================] - 0s 2ms/step - loss: 29486094.0000 - val_loss: 34373540.0000\n",
            "Epoch 264/300\n",
            "37/37 [==============================] - 0s 2ms/step - loss: 29508694.0000 - val_loss: 34371800.0000\n",
            "Epoch 265/300\n",
            "37/37 [==============================] - 0s 2ms/step - loss: 29442122.0000 - val_loss: 34334336.0000\n",
            "Epoch 266/300\n",
            "37/37 [==============================] - 0s 2ms/step - loss: 29418692.0000 - val_loss: 34332756.0000\n",
            "Epoch 267/300\n",
            "37/37 [==============================] - 0s 2ms/step - loss: 29402070.0000 - val_loss: 34313992.0000\n",
            "Epoch 268/300\n",
            "37/37 [==============================] - 0s 2ms/step - loss: 29404968.0000 - val_loss: 34291708.0000\n",
            "Epoch 269/300\n",
            "37/37 [==============================] - 0s 2ms/step - loss: 29393980.0000 - val_loss: 34280160.0000\n",
            "Epoch 270/300\n",
            "37/37 [==============================] - 0s 2ms/step - loss: 29373162.0000 - val_loss: 34270936.0000\n",
            "Epoch 271/300\n",
            "37/37 [==============================] - 0s 2ms/step - loss: 29379850.0000 - val_loss: 34340468.0000\n",
            "Epoch 272/300\n",
            "37/37 [==============================] - 0s 2ms/step - loss: 29358200.0000 - val_loss: 34243652.0000\n",
            "Epoch 273/300\n",
            "37/37 [==============================] - 0s 2ms/step - loss: 29344260.0000 - val_loss: 34233964.0000\n",
            "Epoch 274/300\n",
            "37/37 [==============================] - 0s 2ms/step - loss: 29352782.0000 - val_loss: 34262608.0000\n",
            "Epoch 275/300\n",
            "37/37 [==============================] - 0s 2ms/step - loss: 29350976.0000 - val_loss: 34206848.0000\n",
            "Epoch 276/300\n",
            "37/37 [==============================] - 0s 2ms/step - loss: 29330886.0000 - val_loss: 34192244.0000\n",
            "Epoch 277/300\n",
            "37/37 [==============================] - 0s 2ms/step - loss: 29352520.0000 - val_loss: 34192756.0000\n",
            "Epoch 278/300\n",
            "37/37 [==============================] - 0s 2ms/step - loss: 29299962.0000 - val_loss: 34203600.0000\n",
            "Epoch 279/300\n",
            "37/37 [==============================] - 0s 2ms/step - loss: 29298128.0000 - val_loss: 34169672.0000\n",
            "Epoch 280/300\n",
            "37/37 [==============================] - 0s 2ms/step - loss: 29327268.0000 - val_loss: 34261272.0000\n",
            "Epoch 281/300\n",
            "37/37 [==============================] - 0s 2ms/step - loss: 29292300.0000 - val_loss: 34215928.0000\n",
            "Epoch 282/300\n",
            "37/37 [==============================] - 0s 2ms/step - loss: 29283830.0000 - val_loss: 34123836.0000\n",
            "Epoch 283/300\n",
            "37/37 [==============================] - 0s 2ms/step - loss: 29270108.0000 - val_loss: 34141892.0000\n",
            "Epoch 284/300\n",
            "37/37 [==============================] - 0s 2ms/step - loss: 29305206.0000 - val_loss: 34110896.0000\n",
            "Epoch 285/300\n",
            "37/37 [==============================] - 0s 2ms/step - loss: 29255104.0000 - val_loss: 34126692.0000\n",
            "Epoch 286/300\n",
            "37/37 [==============================] - 0s 2ms/step - loss: 29258174.0000 - val_loss: 34075756.0000\n",
            "Epoch 287/300\n",
            "37/37 [==============================] - 0s 2ms/step - loss: 29252344.0000 - val_loss: 34073300.0000\n",
            "Epoch 288/300\n",
            "37/37 [==============================] - 0s 2ms/step - loss: 29234660.0000 - val_loss: 34073168.0000\n",
            "Epoch 289/300\n",
            "37/37 [==============================] - 0s 2ms/step - loss: 29291126.0000 - val_loss: 34068964.0000\n",
            "Epoch 290/300\n",
            "37/37 [==============================] - 0s 2ms/step - loss: 29240414.0000 - val_loss: 34065956.0000\n",
            "Epoch 291/300\n",
            "37/37 [==============================] - 0s 2ms/step - loss: 29198572.0000 - val_loss: 34038652.0000\n",
            "Epoch 292/300\n",
            "37/37 [==============================] - 0s 2ms/step - loss: 29236372.0000 - val_loss: 34080032.0000\n",
            "Epoch 293/300\n",
            "37/37 [==============================] - 0s 2ms/step - loss: 29187262.0000 - val_loss: 34047356.0000\n",
            "Epoch 294/300\n",
            "37/37 [==============================] - 0s 2ms/step - loss: 29223056.0000 - val_loss: 33995072.0000\n",
            "Epoch 295/300\n",
            "37/37 [==============================] - 0s 2ms/step - loss: 29188626.0000 - val_loss: 34015228.0000\n",
            "Epoch 296/300\n",
            "37/37 [==============================] - 0s 2ms/step - loss: 29187380.0000 - val_loss: 34103696.0000\n",
            "Epoch 297/300\n",
            "37/37 [==============================] - 0s 2ms/step - loss: 29238610.0000 - val_loss: 34094300.0000\n",
            "Epoch 298/300\n",
            "37/37 [==============================] - 0s 2ms/step - loss: 29223966.0000 - val_loss: 33980496.0000\n",
            "Epoch 299/300\n",
            "37/37 [==============================] - 0s 2ms/step - loss: 29174254.0000 - val_loss: 33955096.0000\n",
            "Epoch 300/300\n",
            "37/37 [==============================] - 0s 2ms/step - loss: 29162304.0000 - val_loss: 33971072.0000\n"
          ],
          "name": "stdout"
        },
        {
          "output_type": "execute_result",
          "data": {
            "text/plain": [
              "<tensorflow.python.keras.callbacks.History at 0x7fd0ace7af98>"
            ]
          },
          "metadata": {
            "tags": []
          },
          "execution_count": 166
        }
      ]
    },
    {
      "cell_type": "code",
      "metadata": {
        "id": "aFg6Rh3XZcuC",
        "outputId": "a3e6ae84-f67b-4a95-8f6c-bf799cf8b12c",
        "colab": {
          "base_uri": "https://localhost:8080/",
          "height": 194
        }
      },
      "source": [
        "lossData = pd.DataFrame(model.history.history)\n",
        "lossData.head()"
      ],
      "execution_count": 168,
      "outputs": [
        {
          "output_type": "execute_result",
          "data": {
            "text/html": [
              "<div>\n",
              "<style scoped>\n",
              "    .dataframe tbody tr th:only-of-type {\n",
              "        vertical-align: middle;\n",
              "    }\n",
              "\n",
              "    .dataframe tbody tr th {\n",
              "        vertical-align: top;\n",
              "    }\n",
              "\n",
              "    .dataframe thead th {\n",
              "        text-align: right;\n",
              "    }\n",
              "</style>\n",
              "<table border=\"1\" class=\"dataframe\">\n",
              "  <thead>\n",
              "    <tr style=\"text-align: right;\">\n",
              "      <th></th>\n",
              "      <th>loss</th>\n",
              "      <th>val_loss</th>\n",
              "    </tr>\n",
              "  </thead>\n",
              "  <tbody>\n",
              "    <tr>\n",
              "      <th>0</th>\n",
              "      <td>741599936.0</td>\n",
              "      <td>770450432.0</td>\n",
              "    </tr>\n",
              "    <tr>\n",
              "      <th>1</th>\n",
              "      <td>741563520.0</td>\n",
              "      <td>770390784.0</td>\n",
              "    </tr>\n",
              "    <tr>\n",
              "      <th>2</th>\n",
              "      <td>741458944.0</td>\n",
              "      <td>770212096.0</td>\n",
              "    </tr>\n",
              "    <tr>\n",
              "      <th>3</th>\n",
              "      <td>741138496.0</td>\n",
              "      <td>769668288.0</td>\n",
              "    </tr>\n",
              "    <tr>\n",
              "      <th>4</th>\n",
              "      <td>740232960.0</td>\n",
              "      <td>768252288.0</td>\n",
              "    </tr>\n",
              "  </tbody>\n",
              "</table>\n",
              "</div>"
            ],
            "text/plain": [
              "          loss     val_loss\n",
              "0  741599936.0  770450432.0\n",
              "1  741563520.0  770390784.0\n",
              "2  741458944.0  770212096.0\n",
              "3  741138496.0  769668288.0\n",
              "4  740232960.0  768252288.0"
            ]
          },
          "metadata": {
            "tags": []
          },
          "execution_count": 168
        }
      ]
    },
    {
      "cell_type": "code",
      "metadata": {
        "id": "DdMfscALZtMq",
        "outputId": "5efb3cdc-4175-4ad4-d92f-59704adb3289",
        "colab": {
          "base_uri": "https://localhost:8080/",
          "height": 294
        }
      },
      "source": [
        "lossData.plot()"
      ],
      "execution_count": 169,
      "outputs": [
        {
          "output_type": "execute_result",
          "data": {
            "text/plain": [
              "<matplotlib.axes._subplots.AxesSubplot at 0x7fd0ac4cca20>"
            ]
          },
          "metadata": {
            "tags": []
          },
          "execution_count": 169
        },
        {
          "output_type": "display_data",
          "data": {
            "image/png": "[encoded data removed]",
            "text/plain": [
              "<Figure size 432x288 with 1 Axes>"
            ]
          },
          "metadata": {
            "tags": [],
            "needs_background": "light"
          }
        }
      ]
    },
    {
      "cell_type": "code",
      "metadata": {
        "id": "gQ4SGF6QZx7n",
        "outputId": "bfde648a-c74e-449c-cce0-7cf0f42b674f",
        "colab": {
          "base_uri": "https://localhost:8080/"
        }
      },
      "source": [
        "from sklearn.metrics import mean_squared_error,mean_absolute_error\n",
        "predictArray = model.predict(x_test)\n",
        "predictArray"
      ],
      "execution_count": 170,
      "outputs": [
        {
          "output_type": "execute_result",
          "data": {
            "text/plain": [
              "array([[39411.875],\n",
              "       [31588.156],\n",
              "       [42820.72 ],\n",
              "       ...,\n",
              "       [23199.537],\n",
              "       [19164.906],\n",
              "       [21271.867]], dtype=float32)"
            ]
          },
          "metadata": {
            "tags": []
          },
          "execution_count": 170
        }
      ]
    },
    {
      "cell_type": "code",
      "metadata": {
        "id": "_7coUQhpZ-Q_",
        "outputId": "ac2e3ecf-dd27-4c21-870c-60d781b1c0d1",
        "colab": {
          "base_uri": "https://localhost:8080/"
        }
      },
      "source": [
        "mean_absolute_error(y_test, predictArray)"
      ],
      "execution_count": 171,
      "outputs": [
        {
          "output_type": "execute_result",
          "data": {
            "text/plain": [
              "3540.505594968719"
            ]
          },
          "metadata": {
            "tags": []
          },
          "execution_count": 171
        }
      ]
    },
    {
      "cell_type": "code",
      "metadata": {
        "id": "W7w7KNNsaHuS",
        "outputId": "bccbe83f-f086-494f-9b0d-d8751c28d5a3",
        "colab": {
          "base_uri": "https://localhost:8080/",
          "height": 282
        }
      },
      "source": [
        "dataFrame.describe()"
      ],
      "execution_count": 172,
      "outputs": [
        {
          "output_type": "execute_result",
          "data": {
            "text/html": [
              "<div>\n",
              "<style scoped>\n",
              "    .dataframe tbody tr th:only-of-type {\n",
              "        vertical-align: middle;\n",
              "    }\n",
              "\n",
              "    .dataframe tbody tr th {\n",
              "        vertical-align: top;\n",
              "    }\n",
              "\n",
              "    .dataframe thead th {\n",
              "        text-align: right;\n",
              "    }\n",
              "</style>\n",
              "<table border=\"1\" class=\"dataframe\">\n",
              "  <thead>\n",
              "    <tr style=\"text-align: right;\">\n",
              "      <th></th>\n",
              "      <th>year</th>\n",
              "      <th>price</th>\n",
              "      <th>mileage</th>\n",
              "      <th>tax</th>\n",
              "      <th>mpg</th>\n",
              "      <th>engineSize</th>\n",
              "    </tr>\n",
              "  </thead>\n",
              "  <tbody>\n",
              "    <tr>\n",
              "      <th>count</th>\n",
              "      <td>13118.000000</td>\n",
              "      <td>13118.000000</td>\n",
              "      <td>13118.00000</td>\n",
              "      <td>13118.000000</td>\n",
              "      <td>13118.000000</td>\n",
              "      <td>13118.000000</td>\n",
              "    </tr>\n",
              "    <tr>\n",
              "      <th>mean</th>\n",
              "      <td>2017.299893</td>\n",
              "      <td>24698.574020</td>\n",
              "      <td>21950.16504</td>\n",
              "      <td>129.958835</td>\n",
              "      <td>55.157059</td>\n",
              "      <td>2.071688</td>\n",
              "    </tr>\n",
              "    <tr>\n",
              "      <th>std</th>\n",
              "      <td>2.186129</td>\n",
              "      <td>11843.126668</td>\n",
              "      <td>21177.20571</td>\n",
              "      <td>65.244877</td>\n",
              "      <td>15.220025</td>\n",
              "      <td>0.572162</td>\n",
              "    </tr>\n",
              "    <tr>\n",
              "      <th>min</th>\n",
              "      <td>1997.000000</td>\n",
              "      <td>650.000000</td>\n",
              "      <td>1.00000</td>\n",
              "      <td>0.000000</td>\n",
              "      <td>1.100000</td>\n",
              "      <td>0.000000</td>\n",
              "    </tr>\n",
              "    <tr>\n",
              "      <th>25%</th>\n",
              "      <td>2016.000000</td>\n",
              "      <td>17450.000000</td>\n",
              "      <td>6096.75000</td>\n",
              "      <td>125.000000</td>\n",
              "      <td>45.600000</td>\n",
              "      <td>1.800000</td>\n",
              "    </tr>\n",
              "    <tr>\n",
              "      <th>50%</th>\n",
              "      <td>2018.000000</td>\n",
              "      <td>22480.000000</td>\n",
              "      <td>15189.00000</td>\n",
              "      <td>145.000000</td>\n",
              "      <td>56.500000</td>\n",
              "      <td>2.000000</td>\n",
              "    </tr>\n",
              "    <tr>\n",
              "      <th>75%</th>\n",
              "      <td>2019.000000</td>\n",
              "      <td>28980.000000</td>\n",
              "      <td>31781.75000</td>\n",
              "      <td>145.000000</td>\n",
              "      <td>64.200000</td>\n",
              "      <td>2.100000</td>\n",
              "    </tr>\n",
              "    <tr>\n",
              "      <th>max</th>\n",
              "      <td>2020.000000</td>\n",
              "      <td>159999.000000</td>\n",
              "      <td>259000.00000</td>\n",
              "      <td>580.000000</td>\n",
              "      <td>217.300000</td>\n",
              "      <td>6.200000</td>\n",
              "    </tr>\n",
              "  </tbody>\n",
              "</table>\n",
              "</div>"
            ],
            "text/plain": [
              "               year          price  ...           mpg    engineSize\n",
              "count  13118.000000   13118.000000  ...  13118.000000  13118.000000\n",
              "mean    2017.299893   24698.574020  ...     55.157059      2.071688\n",
              "std        2.186129   11843.126668  ...     15.220025      0.572162\n",
              "min     1997.000000     650.000000  ...      1.100000      0.000000\n",
              "25%     2016.000000   17450.000000  ...     45.600000      1.800000\n",
              "50%     2018.000000   22480.000000  ...     56.500000      2.000000\n",
              "75%     2019.000000   28980.000000  ...     64.200000      2.100000\n",
              "max     2020.000000  159999.000000  ...    217.300000      6.200000\n",
              "\n",
              "[8 rows x 6 columns]"
            ]
          },
          "metadata": {
            "tags": []
          },
          "execution_count": 172
        }
      ]
    },
    {
      "cell_type": "code",
      "metadata": {
        "id": "RDmOJ21aaVhd",
        "outputId": "9c242d62-4d3f-4036-ff33-cdfee0531b28",
        "colab": {
          "base_uri": "https://localhost:8080/",
          "height": 338
        }
      },
      "source": [
        "plt.figure(figsize = (8,5))\n",
        "plt.scatter(y_test, predictArray)\n",
        "plt.plot(y_test, y_test, \"g-*\")"
      ],
      "execution_count": 175,
      "outputs": [
        {
          "output_type": "execute_result",
          "data": {
            "text/plain": [
              "[<matplotlib.lines.Line2D at 0x7fd0ab3ec2b0>]"
            ]
          },
          "metadata": {
            "tags": []
          },
          "execution_count": 175
        },
        {
          "output_type": "display_data",
          "data": {
            "image/png": "[encoded data removed]",
            "text/plain": [
              "<Figure size 576x360 with 1 Axes>"
            ]
          },
          "metadata": {
            "tags": [],
            "needs_background": "light"
          }
        }
      ]
    }
  ]
}