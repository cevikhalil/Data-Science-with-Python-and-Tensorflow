{
  "nbformat": 4,
  "nbformat_minor": 0,
  "metadata": {
    "colab": {
      "name": "08-Continue_and_Break.ipynb",
      "provenance": [],
      "collapsed_sections": [],
      "authorship_tag": "ABX9TyMcRmf5MQWL9GM9qVK2o6lq",
      "include_colab_link": true
    },
    "kernelspec": {
      "name": "python3",
      "display_name": "Python 3"
    }
  },
  "cells": [
    {
      "cell_type": "markdown",
      "metadata": {
        "id": "view-in-github",
        "colab_type": "text"
      },
      "source": [
        "<a href=\"https://colab.research.google.com/github/cevikhalil/Data-Science-with-Python-and-Tensorflow/blob/main/08_Continue_and_Break.ipynb\" target=\"_parent\"><img src=\"https://colab.research.google.com/assets/colab-badge.svg\" alt=\"Open In Colab\"/></a>"
      ]
    },
    {
      "cell_type": "code",
      "metadata": {
        "id": "YKfehZvBwAgD",
        "outputId": "53293e2d-967e-4edb-8155-48713d9de8de",
        "colab": {
          "base_uri": "https://localhost:8080/",
          "height": 84
        }
      },
      "source": [
        "myList = [4,8,12,16,2,24,28,32]\n",
        "\n",
        "for num in myList:\n",
        "  if num == 2:\n",
        "    break\n",
        "  print(num)"
      ],
      "execution_count": null,
      "outputs": [
        {
          "output_type": "stream",
          "text": [
            "4\n",
            "8\n",
            "12\n",
            "16\n"
          ],
          "name": "stdout"
        }
      ]
    },
    {
      "cell_type": "code",
      "metadata": {
        "id": "3ESzojllwj1g",
        "outputId": "e01a5764-b81c-4a81-9e64-5ff9e80fa392",
        "colab": {
          "base_uri": "https://localhost:8080/",
          "height": 134
        }
      },
      "source": [
        "myList = [4,8,12,16,2,24,28,32]\n",
        "\n",
        "for num in myList:\n",
        "  if num == 2:\n",
        "    continue\n",
        "  print(num)"
      ],
      "execution_count": null,
      "outputs": [
        {
          "output_type": "stream",
          "text": [
            "4\n",
            "8\n",
            "12\n",
            "16\n",
            "24\n",
            "28\n",
            "32\n"
          ],
          "name": "stdout"
        }
      ]
    }
  ]
}