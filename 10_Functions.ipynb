{
  "nbformat": 4,
  "nbformat_minor": 0,
  "metadata": {
    "colab": {
      "name": "10-Functions.ipynb",
      "provenance": [],
      "collapsed_sections": [],
      "authorship_tag": "ABX9TyPoAEWquK/RwqqRw1HAU8up",
      "include_colab_link": true
    },
    "kernelspec": {
      "name": "python3",
      "display_name": "Python 3"
    }
  },
  "cells": [
    {
      "cell_type": "markdown",
      "metadata": {
        "id": "view-in-github",
        "colab_type": "text"
      },
      "source": [
        "<a href=\"https://colab.research.google.com/github/cevikhalil/Data-Science-with-Python-and-Tensorflow/blob/main/10_Functions.ipynb\" target=\"_parent\"><img src=\"https://colab.research.google.com/assets/colab-badge.svg\" alt=\"Open In Colab\"/></a>"
      ]
    },
    {
      "cell_type": "code",
      "metadata": {
        "id": "2e6e7eql0u83"
      },
      "source": [
        "def firstFunction():\n",
        "  print(\"This is my first function\")"
      ],
      "execution_count": null,
      "outputs": []
    },
    {
      "cell_type": "code",
      "metadata": {
        "id": "6jwc5h3s1DzV",
        "outputId": "b0af2c88-9c2a-4d1c-d198-077f5722edda",
        "colab": {
          "base_uri": "https://localhost:8080/",
          "height": 34
        }
      },
      "source": [
        "firstFunction()"
      ],
      "execution_count": null,
      "outputs": [
        {
          "output_type": "stream",
          "text": [
            "This is my first function\n"
          ],
          "name": "stdout"
        }
      ]
    },
    {
      "cell_type": "code",
      "metadata": {
        "id": "xjADUvl41izZ"
      },
      "source": [
        "def sum(num1,num2):\n",
        "  result = num1 + num2\n",
        "  print(result)"
      ],
      "execution_count": null,
      "outputs": []
    },
    {
      "cell_type": "code",
      "metadata": {
        "id": "ilfKN1y-1rO5",
        "outputId": "3380ab85-fb25-4b2a-9719-383ff8ee1efa",
        "colab": {
          "base_uri": "https://localhost:8080/",
          "height": 34
        }
      },
      "source": [
        "sum(-14,10)"
      ],
      "execution_count": null,
      "outputs": [
        {
          "output_type": "stream",
          "text": [
            "-4\n"
          ],
          "name": "stdout"
        }
      ]
    },
    {
      "cell_type": "markdown",
      "metadata": {
        "id": "U3TVW2iZ2QaW"
      },
      "source": [
        "Args & Kwargs"
      ]
    },
    {
      "cell_type": "code",
      "metadata": {
        "id": "mqIc80YP2TIy"
      },
      "source": [
        "def summation(*args):\n",
        "  return sum(args)"
      ],
      "execution_count": null,
      "outputs": []
    },
    {
      "cell_type": "code",
      "metadata": {
        "id": "-iRwcHQS2a2E",
        "outputId": "dd93da78-0824-4147-9b3c-b438b762df42",
        "colab": {
          "base_uri": "https://localhost:8080/"
        }
      },
      "source": [
        "summation(3,4,5,6)"
      ],
      "execution_count": null,
      "outputs": [
        {
          "output_type": "execute_result",
          "data": {
            "text/plain": [
              "18"
            ]
          },
          "metadata": {
            "tags": []
          },
          "execution_count": 2
        }
      ]
    },
    {
      "cell_type": "code",
      "metadata": {
        "id": "ST-EDwo2zQ9S"
      },
      "source": [
        "def myFunction(*args):\n",
        "  return(args)"
      ],
      "execution_count": null,
      "outputs": []
    },
    {
      "cell_type": "code",
      "metadata": {
        "id": "s7zkk5f8zVuh",
        "outputId": "96077f80-1802-4d66-f111-455a8b889404",
        "colab": {
          "base_uri": "https://localhost:8080/"
        }
      },
      "source": [
        "type(myFunction(20,30,40))"
      ],
      "execution_count": null,
      "outputs": [
        {
          "output_type": "execute_result",
          "data": {
            "text/plain": [
              "tuple"
            ]
          },
          "metadata": {
            "tags": []
          },
          "execution_count": 7
        }
      ]
    },
    {
      "cell_type": "code",
      "metadata": {
        "id": "IQndfaf9zrWm"
      },
      "source": [
        "def sampleFunction(**kwargs):\n",
        "  return(kwargs)"
      ],
      "execution_count": null,
      "outputs": []
    },
    {
      "cell_type": "code",
      "metadata": {
        "id": "EI0I_hiIz5aO",
        "outputId": "d5ffa69e-d6e8-408e-98b8-ea85a3605fdc",
        "colab": {
          "base_uri": "https://localhost:8080/"
        }
      },
      "source": [
        "type(sampleFunction(banana=100, apple=200, pineapple=300))"
      ],
      "execution_count": null,
      "outputs": [
        {
          "output_type": "execute_result",
          "data": {
            "text/plain": [
              "dict"
            ]
          },
          "metadata": {
            "tags": []
          },
          "execution_count": 13
        }
      ]
    }
  ]
}