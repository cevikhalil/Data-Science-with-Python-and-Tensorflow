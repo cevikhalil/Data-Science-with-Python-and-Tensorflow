{
  "nbformat": 4,
  "nbformat_minor": 0,
  "metadata": {
    "colab": {
      "name": "16-Libraries.ipynb",
      "provenance": [],
      "collapsed_sections": [],
      "authorship_tag": "ABX9TyPw70+GUrxbQJAgvTSN4tIf",
      "include_colab_link": true
    },
    "kernelspec": {
      "name": "python3",
      "display_name": "Python 3"
    }
  },
  "cells": [
    {
      "cell_type": "markdown",
      "metadata": {
        "id": "view-in-github",
        "colab_type": "text"
      },
      "source": [
        "<a href=\"https://colab.research.google.com/github/cevikhalil/Data-Science-with-Python-and-Tensorflow/blob/main/16_Libraries.ipynb\" target=\"_parent\"><img src=\"https://colab.research.google.com/assets/colab-badge.svg\" alt=\"Open In Colab\"/></a>"
      ]
    },
    {
      "cell_type": "markdown",
      "metadata": {
        "id": "isZVDZ-ekIw6"
      },
      "source": [
        "Libraries"
      ]
    },
    {
      "cell_type": "markdown",
      "metadata": {
        "id": "Jye9XaH4kG2g"
      },
      "source": [
        "https://numpy.org/\n",
        "\n",
        "https://www.tensorflow.org/\n",
        "\n",
        "https://keras.io/"
      ]
    },
    {
      "cell_type": "code",
      "metadata": {
        "id": "hqkIVMR_kXIH"
      },
      "source": [
        "import numpy\n",
        "import matplotlib.pyplot \n",
        "import keras"
      ],
      "execution_count": 1,
      "outputs": []
    }
  ]
}