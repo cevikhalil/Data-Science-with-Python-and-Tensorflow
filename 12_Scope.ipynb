{
  "nbformat": 4,
  "nbformat_minor": 0,
  "metadata": {
    "colab": {
      "name": "12-Scope.ipynb",
      "provenance": [],
      "collapsed_sections": [],
      "authorship_tag": "ABX9TyM94wwamBNoSDJeB5RAdWnS",
      "include_colab_link": true
    },
    "kernelspec": {
      "name": "python3",
      "display_name": "Python 3"
    }
  },
  "cells": [
    {
      "cell_type": "markdown",
      "metadata": {
        "id": "view-in-github",
        "colab_type": "text"
      },
      "source": [
        "<a href=\"https://colab.research.google.com/github/cevikhalil/Data-Science-with-Python-and-Tensorflow/blob/main/12_Scope.ipynb\" target=\"_parent\"><img src=\"https://colab.research.google.com/assets/colab-badge.svg\" alt=\"Open In Colab\"/></a>"
      ]
    },
    {
      "cell_type": "code",
      "metadata": {
        "id": "3RApUlRe4U5K"
      },
      "source": [
        "num1 = 20\n",
        "\n",
        "def multiply(num2):\n",
        "  num1 = 10\n",
        "  return num1 * num2 "
      ],
      "execution_count": null,
      "outputs": []
    },
    {
      "cell_type": "code",
      "metadata": {
        "id": "odiNkt7J4uRK",
        "outputId": "ed79c23f-b851-4729-df12-ae3723f528fe",
        "colab": {
          "base_uri": "https://localhost:8080/"
        }
      },
      "source": [
        "multiply(-4)"
      ],
      "execution_count": null,
      "outputs": [
        {
          "output_type": "execute_result",
          "data": {
            "text/plain": [
              "-40"
            ]
          },
          "metadata": {
            "tags": []
          },
          "execution_count": 6
        }
      ]
    },
    {
      "cell_type": "code",
      "metadata": {
        "id": "JKH-UZ1444Uf",
        "outputId": "b1fdaa22-5ecb-4144-fb29-644169c2fc1d",
        "colab": {
          "base_uri": "https://localhost:8080/"
        }
      },
      "source": [
        "print(num1)"
      ],
      "execution_count": null,
      "outputs": [
        {
          "output_type": "stream",
          "text": [
            "20\n"
          ],
          "name": "stdout"
        }
      ]
    },
    {
      "cell_type": "markdown",
      "metadata": {
        "id": "IDoNXDcM5Jyu"
      },
      "source": [
        "Local Enclosing Global Built-In (LEGB Model)"
      ]
    },
    {
      "cell_type": "code",
      "metadata": {
        "id": "wkZEtJ1C5NJs"
      },
      "source": [
        "myName = \"Kate\" #Global variable\n",
        "\n",
        "def myFunction():\n",
        "  myName = \"Mildred\" # Enclosing variable\n",
        "\n",
        "  def innerFunction():\n",
        "    myName = \"Barbra\" # Local variable\n",
        "    print(myName)\n",
        "  innerFunction()"
      ],
      "execution_count": null,
      "outputs": []
    },
    {
      "cell_type": "code",
      "metadata": {
        "id": "QZgz6UbK5xYK",
        "outputId": "48d5e015-3a98-4a5d-bd4b-cd60e0dbbddc",
        "colab": {
          "base_uri": "https://localhost:8080/"
        }
      },
      "source": [
        "myFunction()"
      ],
      "execution_count": null,
      "outputs": [
        {
          "output_type": "stream",
          "text": [
            "Barbra\n"
          ],
          "name": "stdout"
        }
      ]
    },
    {
      "cell_type": "code",
      "metadata": {
        "id": "Bobe_0Ii6Ctf",
        "outputId": "09d8f30c-7a1f-46bb-b580-6f20e85ee38a",
        "colab": {
          "base_uri": "https://localhost:8080/"
        }
      },
      "source": [
        "print(myName)"
      ],
      "execution_count": null,
      "outputs": [
        {
          "output_type": "stream",
          "text": [
            "Kate\n"
          ],
          "name": "stdout"
        }
      ]
    },
    {
      "cell_type": "code",
      "metadata": {
        "id": "FtYXG_Vr6ZMf"
      },
      "source": [
        "y = 4\n",
        "\n",
        "def newFunction(y):\n",
        "  print(y)\n",
        "  y = 5\n",
        "  print(y)\n",
        "  return y"
      ],
      "execution_count": null,
      "outputs": []
    },
    {
      "cell_type": "code",
      "metadata": {
        "id": "wSocEkrZ6isn",
        "outputId": "e1447f48-543c-44c9-a790-1d513d40c377",
        "colab": {
          "base_uri": "https://localhost:8080/"
        }
      },
      "source": [
        "newFunction(7)"
      ],
      "execution_count": null,
      "outputs": [
        {
          "output_type": "stream",
          "text": [
            "7\n",
            "5\n"
          ],
          "name": "stdout"
        },
        {
          "output_type": "execute_result",
          "data": {
            "text/plain": [
              "5"
            ]
          },
          "metadata": {
            "tags": []
          },
          "execution_count": 21
        }
      ]
    },
    {
      "cell_type": "code",
      "metadata": {
        "id": "7dEuN2Nk6oqG",
        "outputId": "d42d19ac-232a-4c36-99e1-b0709c4f4e40",
        "colab": {
          "base_uri": "https://localhost:8080/"
        }
      },
      "source": [
        "print(y)"
      ],
      "execution_count": null,
      "outputs": [
        {
          "output_type": "stream",
          "text": [
            "4\n"
          ],
          "name": "stdout"
        }
      ]
    },
    {
      "cell_type": "code",
      "metadata": {
        "id": "p6DyqhnI6vvB"
      },
      "source": [
        "y = 10\n",
        "\n",
        "def sampleFunction():\n",
        "  global y\n",
        "  y = 5\n",
        "  print(y)"
      ],
      "execution_count": null,
      "outputs": []
    },
    {
      "cell_type": "code",
      "metadata": {
        "id": "kuQJqmDv608T",
        "outputId": "f7932263-a41c-413f-a519-262aef511b5b",
        "colab": {
          "base_uri": "https://localhost:8080/"
        }
      },
      "source": [
        "sampleFunction()"
      ],
      "execution_count": null,
      "outputs": [
        {
          "output_type": "stream",
          "text": [
            "5\n"
          ],
          "name": "stdout"
        }
      ]
    },
    {
      "cell_type": "code",
      "metadata": {
        "id": "zX34uXKN65Ep",
        "outputId": "daf83c50-49ef-4aee-a9db-4b2ecbc6626a",
        "colab": {
          "base_uri": "https://localhost:8080/"
        }
      },
      "source": [
        "print(y)"
      ],
      "execution_count": null,
      "outputs": [
        {
          "output_type": "stream",
          "text": [
            "5\n"
          ],
          "name": "stdout"
        }
      ]
    }
  ]
}