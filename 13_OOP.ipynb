{
  "nbformat": 4,
  "nbformat_minor": 0,
  "metadata": {
    "colab": {
      "name": "13-OOP.ipynb",
      "provenance": [],
      "collapsed_sections": [
        "p4j_3GxCDEKd",
        "4c_KcVd9Q9P5"
      ],
      "authorship_tag": "ABX9TyPPNa1zI74gNbp0w4kG4PZ8",
      "include_colab_link": true
    },
    "kernelspec": {
      "name": "python3",
      "display_name": "Python 3"
    }
  },
  "cells": [
    {
      "cell_type": "markdown",
      "metadata": {
        "id": "view-in-github",
        "colab_type": "text"
      },
      "source": [
        "<a href=\"https://colab.research.google.com/github/cevikhalil/Data-Science-with-Python-and-Tensorflow/blob/main/13_OOP.ipynb\" target=\"_parent\"><img src=\"https://colab.research.google.com/assets/colab-badge.svg\" alt=\"Open In Colab\"/></a>"
      ]
    },
    {
      "cell_type": "markdown",
      "metadata": {
        "id": "p4j_3GxCDEKd"
      },
      "source": [
        "## Instance & Attribute"
      ]
    },
    {
      "cell_type": "code",
      "metadata": {
        "id": "zYvqyRzIDH7A"
      },
      "source": [
        "class SuperHero():\n",
        "  ability = \"Invisibility\"\n",
        "\n",
        "  def __init__(self, name, age, profession):\n",
        "    print(\"init çağrıldı\")\n",
        "    self.name = name\n",
        "    self.age = age\n",
        "    self.profession = profession\n",
        "\n",
        "  def sampleMethod(self):\n",
        "    print(f\"I am a superhero and my profession is {self.profession}\")"
      ],
      "execution_count": null,
      "outputs": []
    },
    {
      "cell_type": "code",
      "metadata": {
        "id": "n9CBahWVHnHr",
        "outputId": "3cd642a8-c1b5-4619-c126-dd50f74faefb",
        "colab": {
          "base_uri": "https://localhost:8080/"
        }
      },
      "source": [
        "superman = SuperHero(\"Superman\",30,\"journalist\")\n",
        "print(superman.name)\n",
        "print(superman.age)\n",
        "print(superman.profession)"
      ],
      "execution_count": null,
      "outputs": [
        {
          "output_type": "stream",
          "text": [
            "init çağrıldı\n",
            "Superman\n",
            "30\n",
            "journalist\n"
          ],
          "name": "stdout"
        }
      ]
    },
    {
      "cell_type": "code",
      "metadata": {
        "id": "uEu2LT6jNVbc",
        "outputId": "18b1ef64-32a9-4b90-c561-14f9d95f5c2f",
        "colab": {
          "base_uri": "https://localhost:8080/",
          "height": 35
        }
      },
      "source": [
        "superman.ability"
      ],
      "execution_count": null,
      "outputs": [
        {
          "output_type": "execute_result",
          "data": {
            "application/vnd.google.colaboratory.intrinsic+json": {
              "type": "string"
            },
            "text/plain": [
              "'Invisibility'"
            ]
          },
          "metadata": {
            "tags": []
          },
          "execution_count": 86
        }
      ]
    },
    {
      "cell_type": "code",
      "metadata": {
        "id": "-aJkiPpxNk_y",
        "outputId": "0e9c49ad-e39b-4950-8860-bb7b0da45f93",
        "colab": {
          "base_uri": "https://localhost:8080/"
        }
      },
      "source": [
        "superman.sampleMethod()"
      ],
      "execution_count": null,
      "outputs": [
        {
          "output_type": "stream",
          "text": [
            "I am a superhero and my profession is journalist\n"
          ],
          "name": "stdout"
        }
      ]
    },
    {
      "cell_type": "code",
      "metadata": {
        "id": "Li2OJxnpQTLg"
      },
      "source": [
        "class Dog():\n",
        "  def __init__(self, age=5):\n",
        "    self.age = age"
      ],
      "execution_count": null,
      "outputs": []
    },
    {
      "cell_type": "code",
      "metadata": {
        "id": "pS216WVgQZfs"
      },
      "source": [
        "myDog = Dog()"
      ],
      "execution_count": null,
      "outputs": []
    },
    {
      "cell_type": "code",
      "metadata": {
        "id": "zOuFAuFlQia6",
        "outputId": "32079b4b-9638-474d-b621-d9bde531bba9",
        "colab": {
          "base_uri": "https://localhost:8080/"
        }
      },
      "source": [
        "myDog.age"
      ],
      "execution_count": null,
      "outputs": [
        {
          "output_type": "execute_result",
          "data": {
            "text/plain": [
              "5"
            ]
          },
          "metadata": {
            "tags": []
          },
          "execution_count": 90
        }
      ]
    },
    {
      "cell_type": "markdown",
      "metadata": {
        "id": "4c_KcVd9Q9P5"
      },
      "source": [
        "## Inheritance"
      ]
    },
    {
      "cell_type": "code",
      "metadata": {
        "id": "91LPl7RtQ-e1"
      },
      "source": [
        "class Animal():\n",
        "  def __init__(self):\n",
        "    print(\"animal class init is called\")\n",
        "\n",
        "  def method1(self):\n",
        "    print(\"animal class method1 is called\")\n",
        "\n",
        "  def method2(self):\n",
        "    print(\"animal class method2 is called\")"
      ],
      "execution_count": null,
      "outputs": []
    },
    {
      "cell_type": "code",
      "metadata": {
        "id": "zR51o5FaRMOw",
        "outputId": "5cb2762f-71bb-48a5-ff27-d14fd2c4d6ee",
        "colab": {
          "base_uri": "https://localhost:8080/"
        }
      },
      "source": [
        "myAnimal = Animal()"
      ],
      "execution_count": null,
      "outputs": [
        {
          "output_type": "stream",
          "text": [
            "animal class init is called\n"
          ],
          "name": "stdout"
        }
      ]
    },
    {
      "cell_type": "code",
      "metadata": {
        "id": "CP5-KxuoRacr",
        "outputId": "da11a7b0-e97f-4749-a925-5afc9ef4efc3",
        "colab": {
          "base_uri": "https://localhost:8080/"
        }
      },
      "source": [
        "myAnimal.method1()"
      ],
      "execution_count": null,
      "outputs": [
        {
          "output_type": "stream",
          "text": [
            "animal class method1 is called\n"
          ],
          "name": "stdout"
        }
      ]
    },
    {
      "cell_type": "code",
      "metadata": {
        "id": "d8L4priVRdI1",
        "outputId": "38c3b3fd-8b53-4b8d-a495-5104f6f57a15",
        "colab": {
          "base_uri": "https://localhost:8080/"
        }
      },
      "source": [
        "myAnimal.method2()"
      ],
      "execution_count": null,
      "outputs": [
        {
          "output_type": "stream",
          "text": [
            "animal class method2 is called\n"
          ],
          "name": "stdout"
        }
      ]
    },
    {
      "cell_type": "code",
      "metadata": {
        "id": "cJEToNFNRmXL"
      },
      "source": [
        "class Cat(Animal):\n",
        "  def __init__(self):\n",
        "    Animal.__init__(self)\n",
        "    print(\"cat class init is called\")\n",
        "\n",
        "  def meow(self):\n",
        "    print( \"meow\")\n",
        "\n",
        "  def method1(self):\n",
        "    print(\"cat class method1 is called\")"
      ],
      "execution_count": null,
      "outputs": []
    },
    {
      "cell_type": "code",
      "metadata": {
        "id": "WnBOkcQ6RzMg",
        "outputId": "ac687e46-9ebb-4a34-e0f5-f01d3f863c37",
        "colab": {
          "base_uri": "https://localhost:8080/"
        }
      },
      "source": [
        "myCat = Cat()"
      ],
      "execution_count": null,
      "outputs": [
        {
          "output_type": "stream",
          "text": [
            "animal class init is called\n",
            "cat class init is called\n"
          ],
          "name": "stdout"
        }
      ]
    },
    {
      "cell_type": "code",
      "metadata": {
        "id": "NuAcSL7eR3Xd",
        "outputId": "06612d78-5aba-4371-8282-490c39036934",
        "colab": {
          "base_uri": "https://localhost:8080/"
        }
      },
      "source": [
        "myCat.method1()"
      ],
      "execution_count": null,
      "outputs": [
        {
          "output_type": "stream",
          "text": [
            "cat class method1 is called\n"
          ],
          "name": "stdout"
        }
      ]
    },
    {
      "cell_type": "code",
      "metadata": {
        "id": "cAjHQ30QSFgL",
        "outputId": "956a063e-e123-4f9d-f766-ff454af1d68c",
        "colab": {
          "base_uri": "https://localhost:8080/"
        }
      },
      "source": [
        "myCat.meow()"
      ],
      "execution_count": null,
      "outputs": [
        {
          "output_type": "stream",
          "text": [
            "meow\n"
          ],
          "name": "stdout"
        }
      ]
    },
    {
      "cell_type": "markdown",
      "metadata": {
        "id": "ydv1rpzRSzsi"
      },
      "source": [
        "## Polymorphism"
      ]
    },
    {
      "cell_type": "code",
      "metadata": {
        "id": "WFPcBRV1S2f4"
      },
      "source": [
        "class Apple():\n",
        "  def __init__(self,name):\n",
        "    self.name = name\n",
        "\n",
        "  def giveInfo(self):\n",
        "    return self.name + \" is 100 calories\""
      ],
      "execution_count": null,
      "outputs": []
    },
    {
      "cell_type": "code",
      "metadata": {
        "id": "R5ikR48w5qPz"
      },
      "source": [
        "class Banana():\n",
        "  def __init__(self,name):\n",
        "    self.name = name\n",
        "\n",
        "  def giveInfo(self):\n",
        "    return self.name + \" is 150 calories\""
      ],
      "execution_count": null,
      "outputs": []
    },
    {
      "cell_type": "code",
      "metadata": {
        "id": "RhpKUycB5y_B",
        "outputId": "8ac47713-02db-4fc4-f533-46ff5b0a2c28",
        "colab": {
          "base_uri": "https://localhost:8080/",
          "height": 35
        }
      },
      "source": [
        "apple = Apple(\"apple\")\n",
        "apple.giveInfo()"
      ],
      "execution_count": null,
      "outputs": [
        {
          "output_type": "execute_result",
          "data": {
            "application/vnd.google.colaboratory.intrinsic+json": {
              "type": "string"
            },
            "text/plain": [
              "'apple is 100 calories'"
            ]
          },
          "metadata": {
            "tags": []
          },
          "execution_count": 15
        }
      ]
    },
    {
      "cell_type": "code",
      "metadata": {
        "id": "nPTQWmqO6CKx",
        "outputId": "4ffda353-76f1-49df-9d2f-a2e64ec2ef78",
        "colab": {
          "base_uri": "https://localhost:8080/",
          "height": 35
        }
      },
      "source": [
        "banana = Banana(\"banana\")\n",
        "banana.giveInfo()"
      ],
      "execution_count": null,
      "outputs": [
        {
          "output_type": "execute_result",
          "data": {
            "application/vnd.google.colaboratory.intrinsic+json": {
              "type": "string"
            },
            "text/plain": [
              "'banana is 150 calories'"
            ]
          },
          "metadata": {
            "tags": []
          },
          "execution_count": 16
        }
      ]
    },
    {
      "cell_type": "code",
      "metadata": {
        "id": "jh0KT38I6PUZ",
        "outputId": "07d99f69-91e0-49d8-a55a-d61e32d9a778",
        "colab": {
          "base_uri": "https://localhost:8080/"
        }
      },
      "source": [
        "fruitList = [apple,banana]\n",
        "\n",
        "for fruit in fruitList:\n",
        "  print(fruit.giveInfo())"
      ],
      "execution_count": null,
      "outputs": [
        {
          "output_type": "stream",
          "text": [
            "apple is 100 calories\n",
            "banana is 150 calories\n"
          ],
          "name": "stdout"
        }
      ]
    },
    {
      "cell_type": "code",
      "metadata": {
        "id": "qPL1PONV6eDJ"
      },
      "source": [
        "def takeInfo(fruit):\n",
        "  print(fruit.giveInfo())"
      ],
      "execution_count": null,
      "outputs": []
    },
    {
      "cell_type": "code",
      "metadata": {
        "id": "lPUmlJkC6x2b",
        "outputId": "35aae13d-db21-4c25-e116-2a90d214186d",
        "colab": {
          "base_uri": "https://localhost:8080/"
        }
      },
      "source": [
        "takeInfo(banana)"
      ],
      "execution_count": null,
      "outputs": [
        {
          "output_type": "stream",
          "text": [
            "banana is 150 calories\n"
          ],
          "name": "stdout"
        }
      ]
    },
    {
      "cell_type": "code",
      "metadata": {
        "id": "eFRyYmEZ6z8A",
        "outputId": "6b496b4a-ddf8-46d0-ae8e-288546775a01",
        "colab": {
          "base_uri": "https://localhost:8080/"
        }
      },
      "source": [
        "takeInfo(apple)"
      ],
      "execution_count": null,
      "outputs": [
        {
          "output_type": "stream",
          "text": [
            "apple is 100 calories\n"
          ],
          "name": "stdout"
        }
      ]
    }
  ]
}