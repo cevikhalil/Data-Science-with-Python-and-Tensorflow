{
  "nbformat": 4,
  "nbformat_minor": 0,
  "metadata": {
    "colab": {
      "name": "14-Special_Methods.ipynb",
      "provenance": [],
      "collapsed_sections": [],
      "authorship_tag": "ABX9TyOEykSHLqOyXmbqNKD+IrsR",
      "include_colab_link": true
    },
    "kernelspec": {
      "name": "python3",
      "display_name": "Python 3"
    }
  },
  "cells": [
    {
      "cell_type": "markdown",
      "metadata": {
        "id": "view-in-github",
        "colab_type": "text"
      },
      "source": [
        "<a href=\"https://colab.research.google.com/github/cevikhalil/Data-Science-with-Python-and-Tensorflow/blob/main/14_Special_Methods.ipynb\" target=\"_parent\"><img src=\"https://colab.research.google.com/assets/colab-badge.svg\" alt=\"Open In Colab\"/></a>"
      ]
    },
    {
      "cell_type": "markdown",
      "metadata": {
        "id": "g9Zw-HWr9hqa"
      },
      "source": [
        "Special Methods (Magic Methods)"
      ]
    },
    {
      "cell_type": "code",
      "metadata": {
        "id": "7UXPPOcm7Pv5"
      },
      "source": [
        "class Fruit():\n",
        "\n",
        "  def __init__(self, name, calorie):\n",
        "    self.name = name\n",
        "    self.calorie = calorie\n",
        "\n",
        "  def __str__(self):\n",
        "    return f\"{self.name} is {self.calorie} calories. \"\n",
        "\n",
        "  def __len__(self):\n",
        "    return self.calorie"
      ],
      "execution_count": 45,
      "outputs": []
    },
    {
      "cell_type": "code",
      "metadata": {
        "id": "9Ioxeal17iAp"
      },
      "source": [
        "banana = Fruit(\"Banana\",150)"
      ],
      "execution_count": 46,
      "outputs": []
    },
    {
      "cell_type": "code",
      "metadata": {
        "id": "dqYGZ_WC7sYh",
        "outputId": "8d5d211b-3642-45d7-8563-4bdb436a9e39",
        "colab": {
          "base_uri": "https://localhost:8080/"
        }
      },
      "source": [
        "print(banana)\n",
        "len(banana)"
      ],
      "execution_count": 47,
      "outputs": [
        {
          "output_type": "stream",
          "text": [
            "Banana is 150 calories. \n"
          ],
          "name": "stdout"
        },
        {
          "output_type": "execute_result",
          "data": {
            "text/plain": [
              "150"
            ]
          },
          "metadata": {
            "tags": []
          },
          "execution_count": 47
        }
      ]
    },
    {
      "cell_type": "code",
      "metadata": {
        "id": "I5PUgvZQ71zY",
        "outputId": "9d710fe4-0d2d-4f28-cb30-674aeb962db2",
        "colab": {
          "base_uri": "https://localhost:8080/"
        }
      },
      "source": [
        "myList = [1,2,3,\"a\",4.5]\n",
        "print(myList)\n",
        "print(len(myList))"
      ],
      "execution_count": 48,
      "outputs": [
        {
          "output_type": "stream",
          "text": [
            "[1, 2, 3, 'a', 4.5]\n",
            "5\n"
          ],
          "name": "stdout"
        }
      ]
    },
    {
      "cell_type": "code",
      "metadata": {
        "id": "BNwbPeo-78O5",
        "outputId": "39e3e9da-a842-439a-d756-ec24300e3ad6",
        "colab": {
          "base_uri": "https://localhost:8080/"
        }
      },
      "source": [
        "apple = Fruit(\"Apple\", 200)\n",
        "print(apple)\n",
        "len(apple)"
      ],
      "execution_count": 49,
      "outputs": [
        {
          "output_type": "stream",
          "text": [
            "Apple is 200 calories. \n"
          ],
          "name": "stdout"
        },
        {
          "output_type": "execute_result",
          "data": {
            "text/plain": [
              "200"
            ]
          },
          "metadata": {
            "tags": []
          },
          "execution_count": 49
        }
      ]
    }
  ]
}