{
  "nbformat": 4,
  "nbformat_minor": 0,
  "metadata": {
    "colab": {
      "name": "07-If_For_While.ipynb",
      "provenance": [],
      "collapsed_sections": [],
      "authorship_tag": "ABX9TyMqDKbM2CZXLswsd7GlI03V",
      "include_colab_link": true
    },
    "kernelspec": {
      "name": "python3",
      "display_name": "Python 3"
    }
  },
  "cells": [
    {
      "cell_type": "markdown",
      "metadata": {
        "id": "view-in-github",
        "colab_type": "text"
      },
      "source": [
        "<a href=\"https://colab.research.google.com/github/cevikhalil/Data-Science-with-Python-and-Tensorflow/blob/main/07_If_For_While.ipynb\" target=\"_parent\"><img src=\"https://colab.research.google.com/assets/colab-badge.svg\" alt=\"Open In Colab\"/></a>"
      ]
    },
    {
      "cell_type": "markdown",
      "metadata": {
        "id": "xfL7JJXyw8fB"
      },
      "source": [
        "If"
      ]
    },
    {
      "cell_type": "code",
      "metadata": {
        "id": "0K3rbD7ts872",
        "outputId": "610d49e1-66c6-4259-c421-6cef70e6d192",
        "colab": {
          "base_uri": "https://localhost:8080/",
          "height": 34
        }
      },
      "source": [
        "x = 34\n",
        "y = 22\n",
        "if x > y:\n",
        "  print(\"Madeline Miller\")"
      ],
      "execution_count": null,
      "outputs": [
        {
          "output_type": "stream",
          "text": [
            "Madeline Miller\n"
          ],
          "name": "stdout"
        }
      ]
    },
    {
      "cell_type": "code",
      "metadata": {
        "id": "ydlXKRwntxEE",
        "outputId": "2f54a242-a25b-4312-eb4d-0a12eefb93ea",
        "colab": {
          "base_uri": "https://localhost:8080/",
          "height": 50
        }
      },
      "source": [
        "myAge = input(\"Can you guess my age?\")\n",
        "\n",
        "if myAge == \"23\":\n",
        "  print(\"That's correct!\")\n",
        "else:\n",
        "  print(\"Try again!\")"
      ],
      "execution_count": null,
      "outputs": [
        {
          "output_type": "stream",
          "text": [
            "Can you guess my age?23\n",
            "That's correct!\n"
          ],
          "name": "stdout"
        }
      ]
    },
    {
      "cell_type": "markdown",
      "metadata": {
        "id": "qnQdgtF5w-u9"
      },
      "source": [
        "For"
      ]
    },
    {
      "cell_type": "code",
      "metadata": {
        "id": "SkycCktMuoz_",
        "outputId": "87caa91f-a6e1-4887-c582-8089b301b14a",
        "colab": {
          "base_uri": "https://localhost:8080/",
          "height": 134
        }
      },
      "source": [
        "numList = [1,2,3,4,5,6,7,8,9,10,11,13,68]\n",
        "print(\"Even numbers are: \")\n",
        "\n",
        "for num in numList:\n",
        "  if num %2 == 0:\n",
        "    print(num)"
      ],
      "execution_count": null,
      "outputs": [
        {
          "output_type": "stream",
          "text": [
            "Even numbers are: \n",
            "2\n",
            "4\n",
            "6\n",
            "8\n",
            "10\n",
            "68\n"
          ],
          "name": "stdout"
        }
      ]
    },
    {
      "cell_type": "markdown",
      "metadata": {
        "id": "Dml4A0zXxAj4"
      },
      "source": [
        "While"
      ]
    },
    {
      "cell_type": "code",
      "metadata": {
        "id": "47o6jFnyw6YY",
        "outputId": "ccbf79e8-0ceb-43b4-ae8b-9ba07ede5ae5",
        "colab": {
          "base_uri": "https://localhost:8080/",
          "height": 185
        }
      },
      "source": [
        "x = 0\n",
        "\n",
        "while x < 10:\n",
        "  print(x)\n",
        "  x = x+1"
      ],
      "execution_count": null,
      "outputs": [
        {
          "output_type": "stream",
          "text": [
            "0\n",
            "1\n",
            "2\n",
            "3\n",
            "4\n",
            "5\n",
            "6\n",
            "7\n",
            "8\n",
            "9\n"
          ],
          "name": "stdout"
        }
      ]
    }
  ]
}